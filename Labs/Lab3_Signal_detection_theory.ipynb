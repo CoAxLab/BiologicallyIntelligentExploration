{
  "cells": [
    {
      "cell_type": "markdown",
      "metadata": {
        "id": "view-in-github",
        "colab_type": "text"
      },
      "source": [
        "<a href=\"https://colab.research.google.com/github/CoAxLab/BiologicallyIntelligentExploration/blob/main/Labs/Lab3_Signal_detection_theory.ipynb\" target=\"_parent\"><img src=\"https://colab.research.google.com/assets/colab-badge.svg\" alt=\"Open In Colab\"/></a>"
      ]
    },
    {
      "cell_type": "markdown",
      "source": [
        "# Lab 3 - Signal Detection Theory\n",
        "\n",
        "This lab has three main components designed to go over Signal Detection Theory (SDT).\n",
        "\n",
        "1. Review the foundational concepts and parameters behind SDT.\n",
        "1. Get an interactive understanding of the how the parameters/measures behave and relate to one another.\n",
        "1. Plot receiver operating characteristic (ROC) curves to learn about them as a measure of sensitivity."
      ],
      "metadata": {
        "id": "JREqDnph_LJR"
      }
    },
    {
      "cell_type": "markdown",
      "source": [
        "## Section - Setup"
      ],
      "metadata": {
        "id": "eP-zTN5mC6w7"
      }
    },
    {
      "cell_type": "markdown",
      "source": [
        "First let's set things up for the three parts of the lab."
      ],
      "metadata": {
        "id": "5UUzmU_YDDfH"
      }
    },
    {
      "cell_type": "markdown",
      "source": [
        "### Install the ADMCode library\n",
        "\n",
        "Install the code for running the adaptive decision making simulations (ADMCode). We'll use this library for visualizing SDT concepts."
      ],
      "metadata": {
        "id": "NcHg3Ox7DIsj"
      }
    },
    {
      "cell_type": "code",
      "source": [
        "# ADMCode first\n",
        "# ADMCode uses an old version of numba\n",
        "!pip install numba==0.48\n",
        "!pip install --upgrade git+https://github.com/CoAxLab/AdaptiveDecisionMaking_2018"
      ],
      "metadata": {
        "id": "ywLCDtZnt9gL"
      },
      "execution_count": null,
      "outputs": []
    },
    {
      "cell_type": "markdown",
      "source": [
        "### Import Modules\n",
        "\n",
        "Here we will bring in all the modules and libraries that we will need for this lab."
      ],
      "metadata": {
        "id": "X67j_YXsEa9p"
      }
    },
    {
      "cell_type": "code",
      "execution_count": null,
      "metadata": {
        "id": "9ZJJZntgtvj4"
      },
      "outputs": [],
      "source": [
        "from __future__ import division\n",
        "from ADMCode import visualize as vis\n",
        "from ADMCode import ddm, sdt\n",
        "\n",
        "import numpy as np\n",
        "import pandas as pd\n",
        "\n",
        "from ipywidgets import interactive\n",
        "import matplotlib.pyplot as plt\n",
        "import seaborn as sns\n",
        "import warnings\n",
        "\n",
        "warnings.simplefilter('ignore', np.RankWarning)\n",
        "warnings.filterwarnings(\"ignore\", module=\"matplotlib\")\n",
        "warnings.filterwarnings(\"ignore\")\n",
        "sns.set(style='white', font_scale=1.3)\n",
        "\n",
        "%matplotlib inline"
      ]
    },
    {
      "cell_type": "markdown",
      "metadata": {
        "id": "FHj2Y5Butvj5"
      },
      "source": [
        "## Section 1 - Reviewing Signal Detection Theory Concepts\n",
        "\n",
        "Here, we will review the essential concepts of Signal Detection Theory (SDT)."
      ]
    },
    {
      "cell_type": "markdown",
      "source": [
        "(image source: https://iujur.iu.edu/features/archives/2017-2018/signal-detection-theory.html)\n",
        "\n",
        "![](https://iujur.iu.edu/features/archives/2017-2018/signal-detection-theory-title)\n",
        "\n",
        "### Signal Detection Theory Basics\n",
        "\n",
        "- *Signal Detection Theory*, or *SDT*, centers around determining whether a stimulus is a **signal** or just **noise**.\n",
        "- When a signal is present, stimulus values follow a distibution (SDT assumes this distribution to be normal, in other words, a gaussian distibution).\n",
        "- When noise is present, stimulus values follow a *different* distibution (SDT assumes this noise distribution to share the same standard deviation as the signal distribution).\n",
        "- The crux is that the signal and noise stimulus distributions *overlap*, such that from given a certain stimulus value, it is not certain whether the stimulus comes from signal or noise.\n",
        "- SDT posits that a decision-maker determines whether a stimulus is signal or noise depending on whether the stimulus value exceeds a certain **threshold** (also referred to as the **criterion**).\n",
        "- Depending on the decision and the reality of the stimulis, there are 4 possible results:\n",
        "  - If the decision-maker responds \"*Yes*\" and the signal *is* present: **Hit**\n",
        "  - If the decision-maker responds \"*Yes*\" and the signal *is NOT* present: **False Alarm (FA)**\n",
        "  - If the decision-maker responds \"*No*\" and the signal *is* present: **Miss**\n",
        "  - If the decision-maker responds \"*No*\" and the signal *is NOT* present: **Correct Rejection (CR)**"
      ],
      "metadata": {
        "id": "AAZuS745Iqm_"
      }
    },
    {
      "cell_type": "markdown",
      "source": [
        "![](https://raw.githubusercontent.com/CoAxLab/BiologicallyIntelligentExploration/main/Labs/SDT_screenshot.png)\n",
        "\n",
        "### Signal Detection Theory Parameters:\n",
        "\n",
        "- $d'   $: Strength of the signal relative to the noise.\n",
        "- $B    $: Position of the threshold relative to the noise distribution. The criterion.\n",
        "- $C    $: The strategy of the participant relative to an ideal observer threshold.\n",
        "- $\\beta$: A variant of $C$￼. The ratio of the height of the signal distribution relative to the noise distribution for $B$￼.\n",
        "- $D    $: Separation between threshold ($B$￼) and ￼$d'$ (i.e., ￼$D=B-d'$)\n",
        "\n",
        "(source: class slides)"
      ],
      "metadata": {
        "id": "VUxfaXlkB_SB"
      }
    },
    {
      "cell_type": "markdown",
      "source": [
        "## Section 2 - Interacting with Signal Detection Theory Concepts"
      ],
      "metadata": {
        "id": "-7Xo0LHAz3_l"
      }
    },
    {
      "cell_type": "markdown",
      "source": [
        "### Widget 1\n",
        "\n",
        "We will start by playing with a simple widget for visualizing the SDT concepts:\n",
        "- probability of a hit: P(hit), or \"pH\" below\n",
        "- probability of a false alarm: P(fa), or \"pFA\" below\n",
        "\n",
        "These are experimentally measurable values. From these measures, one can calculate other SDT parameters (given the assumptions of SDT such as normal and equivariant signal & noise distributions).\n",
        "\n",
        "Before you use the widget, look through and run the next code cell to see how d' and c values can be computed using hit and FA rates. When playing with the widget, you can check its calculations by setting different p_hit and p_FA rates and re-running the code block below.\n",
        "\n",
        "**Note:** the `norm.ppf()` function below is an inverse CDF function for the standard normal distribution. It's the same as the function in the reading denoted as $\\Phi^{-1}$, the \"inverse phi\" function. Basically, the function takes in a probability and outputs the Z-score corresponding to where the CDF of the standard normal distribution would equal that probability."
      ],
      "metadata": {
        "id": "qk46Xp2CK1eY"
      }
    },
    {
      "cell_type": "code",
      "source": [
        "from scipy.stats import norm # import statistical library for inverse norms\n",
        "\n",
        "# set your hit and FA rates to calculate resulting d' and c values\n",
        "p_hit = 0.8\n",
        "p_FA  = 0.1\n",
        "\n",
        "# calculate and print d' value\n",
        "d_prime = norm.ppf(p_hit) - norm.ppf(p_FA)\n",
        "\n",
        "print(\"d' = {}\".format(d_prime))\n",
        "\n",
        "# calculate and print c value\n",
        "c = -1 * ( (norm.ppf(p_hit) + norm.ppf(p_FA)) / 2)\n",
        "\n",
        "print(\"c  = {}\".format(c))"
      ],
      "metadata": {
        "id": "Z6v07TvLz1Or"
      },
      "execution_count": null,
      "outputs": []
    },
    {
      "cell_type": "markdown",
      "source": [
        "Run the code below to load the widget. Play around with the widget below to get some understanding of how pH and pFA interact to lead to differnt $d'$ and $c$ values. Use the widget and your understanding of SDT to answer the questions below it.\n",
        "\n",
        "If you'd like to look at the code for this widget, you can find it at the following path: /usr/local/lib/python3.7/dist-packages/ADMCode/visualize.py"
      ],
      "metadata": {
        "id": "rPODT0g22ymi"
      }
    },
    {
      "cell_type": "code",
      "execution_count": null,
      "metadata": {
        "scrolled": false,
        "id": "Tve7XZYStvj6"
      },
      "outputs": [],
      "source": [
        "interactive_plot = interactive(vis.sdt_interact, pH=(0.,1.,.1), pFA=(0.,1.,.1))\n",
        "output = interactive_plot.children[-1]\n",
        "output.layout.height = '300px'\n",
        "interactive_plot"
      ]
    },
    {
      "cell_type": "markdown",
      "metadata": {
        "id": "-PdDNHs9tvj6"
      },
      "source": [
        "###  Question 1: \n",
        "#### (double click on the cells below to edit)"
      ]
    },
    {
      "cell_type": "markdown",
      "metadata": {
        "id": "iAJ6hevdtvj6"
      },
      "source": [
        "### Question 1.1\n",
        "\n",
        "Describe the relationship between number of **Misses** and the criterion parameter ($c$) in SDT (use the interactive visualization at the top to help get some intuition)."
      ]
    },
    {
      "cell_type": "code",
      "source": [
        "# Write your answer here, as a python comment"
      ],
      "metadata": {
        "id": "fyRMttt5NiDj"
      },
      "execution_count": null,
      "outputs": []
    },
    {
      "cell_type": "markdown",
      "source": [
        "### Question 1.2\n",
        "\n",
        "Describe the relationship between number of **Misses** and $d'$."
      ],
      "metadata": {
        "id": "iKUfnP6wN1YK"
      }
    },
    {
      "cell_type": "code",
      "source": [
        "# Write your answer here, as a python comment"
      ],
      "metadata": {
        "id": "z9W3Md-XOCxd"
      },
      "execution_count": null,
      "outputs": []
    },
    {
      "cell_type": "markdown",
      "source": [
        "### Question 1.3\n",
        "\n",
        "Describe in plain words why $c=\\frac{1}{2}d'$ when the **Hit** and **Miss** counts are equal."
      ],
      "metadata": {
        "id": "KeDB5eJ3ODK-"
      }
    },
    {
      "cell_type": "code",
      "source": [
        "# Write your answer here, as a python comment"
      ],
      "metadata": {
        "id": "8s4PXJZGOHYA"
      },
      "execution_count": null,
      "outputs": []
    },
    {
      "cell_type": "markdown",
      "source": [
        "## Section 3 - Building Reciever Operating Characteristic (ROC) Curves"
      ],
      "metadata": {
        "id": "Qbdt5Y_zLQ-7"
      }
    },
    {
      "cell_type": "markdown",
      "source": [
        "### Widget 2\n",
        "\n",
        "Run the code block below to load the second widget we will play with in this lab. In this next widget, you can change any SDT parameter and see the effect on all the others. We will use this widget to get an interactive understanding of what goes into ROC plots and how to interpret them.\n",
        "\n",
        "This widget is loaded in from the web (it's written in the programming language JavaScript, not Python), so we can't look at its source code here. However, there is a link to the source code for this widget (a GitHub page) at its bottom left.\n",
        "\n",
        "**Note:** if you want to return to default values, just re-run the code block. "
      ],
      "metadata": {
        "id": "zyaa5jw2zwV3"
      }
    },
    {
      "cell_type": "code",
      "source": [
        "# The following widget is from Daniel Dickison (https://github.com/danieldickison/sdt-visualization)\n",
        "from IPython.display import IFrame\n",
        "IFrame(\"https://danieldickison.github.io/sdt-visualization/\", 820, 580)"
      ],
      "metadata": {
        "id": "Jr_CasKULUZp"
      },
      "execution_count": null,
      "outputs": []
    },
    {
      "cell_type": "markdown",
      "source": [
        "Play around with the widget. Then, when you're ready, re-run the code block to return the widget to default values. Time to make an ROC plot.\n",
        "\n",
        "A **receiver operating characteristic (ROC)** depics the trade-off between the false alarm rate (x-axis) and hit rate (y-axis) at different criteria.\n",
        "\n",
        "We'll manually record hit and FA rates at different $C$ values (from -1.5 to 1.5 in increments of 0.75) in Python arrays and then plot them. A python array is a list of values separated by spaces and/or commas and enclosed in brackets. An example is `[1, 2, 3]`.\n",
        "\n",
        "**Note:** Avoid setting $C$ less than -1.5 or greater than 1.5, as it will mess up the widget. However if you do so, you can reload it."
      ],
      "metadata": {
        "id": "w91OrLI0mF7u"
      }
    },
    {
      "cell_type": "code",
      "source": [
        "c_vals = [-1.5, -0.75, 0, 0.75, 1.5] # this is an array of c values\n",
        "\n",
        "p_hits = [] # fill in the P(hit) values you get at each of the c values here\n",
        "\n",
        "p_FAs  = [] # fill in the P(FA) values you get at each of the c values here"
      ],
      "metadata": {
        "id": "TCMZs7MSmGlZ"
      },
      "execution_count": null,
      "outputs": []
    },
    {
      "cell_type": "markdown",
      "source": [
        "Run the code block above once you have recorded the P(hit) and P(fa) values in their Python arrays. Then run the code block below to plot what you've entered!"
      ],
      "metadata": {
        "id": "WaDIfxL0rJ-j"
      }
    },
    {
      "cell_type": "code",
      "source": [
        "import matplotlib.pyplot as plt # load plotting library\n",
        "\n",
        "# plot hit rates over false alarm rates\n",
        "plt.plot(p_FAs, p_hits)\n",
        "# set axes to each go from 0 to 1\n",
        "plt.xlim([0,1])\n",
        "plt.ylim([0,1])\n",
        "# add axis labels and title\n",
        "plt.xlabel(\"P(fa)\", size='xx-large')\n",
        "plt.ylabel(\"P(hit)\", size='xx-large')\n",
        "plt.title('ROC curve', size='xx-large')\n",
        "\n",
        "# annotate plot for which C values yield which P(hit) vs. P(fa) trade-offs\n",
        "for i in range(len(c_vals)):\n",
        "  plt.text(p_FAs[i], p_hits[i], \"c = \" + str(c_vals[i]))"
      ],
      "metadata": {
        "id": "vi4Fs9aFrim9"
      },
      "execution_count": null,
      "outputs": []
    },
    {
      "cell_type": "markdown",
      "source": [
        "Congrats! You've made an ROC plot.\n",
        "\n",
        "You can see that with more *liberal* criterions (lower $C$ values), hit rates rise quite high but false alarm rates also rise.\n",
        "\n",
        "With more *conservative* criterions (higher $C$ values), false alarm rates become quite low but hit rates also \"take a hit\".\n",
        "\n",
        "If you have time, "
      ],
      "metadata": {
        "id": "vuVUS31dKNK9"
      }
    },
    {
      "cell_type": "markdown",
      "source": [
        "### Question 2\n",
        "\n",
        "If you changed $d'$ to from 1.561 to 1, how would the ROC curve change, if at all? What would happen to the **area under the curve (AUC)**?"
      ],
      "metadata": {
        "id": "R7HByyVWw93e"
      }
    },
    {
      "cell_type": "code",
      "source": [
        "# Write your answer here, as a python comment"
      ],
      "metadata": {
        "id": "uU9Vvvf8w9Is"
      },
      "execution_count": null,
      "outputs": []
    },
    {
      "cell_type": "markdown",
      "source": [
        "This lab substantially adapted by Jack Burgess in the fall of 2022 from materials by Matthew Clapp."
      ],
      "metadata": {
        "id": "ZbmkoxqHzKzx"
      }
    }
  ],
  "metadata": {
    "kernelspec": {
      "display_name": "Python 3",
      "language": "python",
      "name": "python3"
    },
    "language_info": {
      "codemirror_mode": {
        "name": "ipython",
        "version": 3
      },
      "file_extension": ".py",
      "mimetype": "text/x-python",
      "name": "python",
      "nbconvert_exporter": "python",
      "pygments_lexer": "ipython3",
      "version": "3.6.5"
    },
    "latex_envs": {
      "LaTeX_envs_menu_present": true,
      "autocomplete": true,
      "bibliofile": "biblio.bib",
      "cite_by": "apalike",
      "current_citInitial": 1,
      "eqLabelWithNumbers": true,
      "eqNumInitial": 1,
      "hotkeys": {
        "equation": "Ctrl-E",
        "itemize": "Ctrl-I"
      },
      "labels_anchors": false,
      "latex_user_defs": false,
      "report_style_numbering": false,
      "user_envs_cfg": false
    },
    "colab": {
      "provenance": [],
      "collapsed_sections": [
        "AAZuS745Iqm_",
        "VUxfaXlkB_SB",
        "-PdDNHs9tvj6"
      ],
      "include_colab_link": true
    }
  },
  "nbformat": 4,
  "nbformat_minor": 0
}