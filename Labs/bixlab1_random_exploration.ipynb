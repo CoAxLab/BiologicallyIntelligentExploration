{
  "nbformat": 4,
  "nbformat_minor": 0,
  "metadata": {
    "colab": {
      "name": "bixlab1.ipynb",
      "provenance": [],
      "collapsed_sections": []
    },
    "kernelspec": {
      "name": "python3",
      "display_name": "Python 3"
    },
    "language_info": {
      "name": "python"
    }
  },
  "cells": [
    {
      "cell_type": "markdown",
      "metadata": {
        "id": "NSyMlyVWJjov"
      },
      "source": [
        "# Introduction to _explorationlib_ - Lab\n",
        "\n",
        "This lab has a few goals:\n",
        "\n",
        "- to get familiar with running that code online using Google's colaboratory.\n",
        "- to get you familiar with the python library used throughout to simulate and explore exploration.\n",
        "- to introduce you to Levy walk and Brownian motion agents.\n"
      ]
    },
    {
      "cell_type": "markdown",
      "metadata": {
        "id": "QHfbOjX8xDlX"
      },
      "source": [
        "## Section - Info About Colab & Notebooks\n",
        "\n",
        "Source: Google's introductary notebooks"
      ]
    },
    {
      "cell_type": "markdown",
      "metadata": {
        "id": "IWitVDsyHXk0"
      },
      "source": [
        "### Getting started\n",
        "\n",
        "The document you are reading is not a static web page, but an interactive environment called a **Colab notebook** that lets you write and execute code.  Colab notebooks are Jupyter notebooks that are hosted by Colab. To learn more about the Jupyter project, see [jupyter.org](https://www.jupyter.org)."
      ]
    },
    {
      "cell_type": "markdown",
      "metadata": {
        "id": "YwjfnjMmI8g2"
      },
      "source": [
        "### Creating and opening notebooks\n",
        "\n",
        "When you create your own Colab notebooks, they are stored in your Google Drive account.\n",
        "\n",
        "Notebooks have the file extension \"ipynb\".  They cannot be opened by normal text editors or IDEs, rather they are used by a notebook server. Here, Google is providing the server, but you can host your own jupyter server on your own computer as well.\n",
        "\n",
        "The \"File\" tab can be used to upload or download notebook files, or the create new notebooks."
      ]
    },
    {
      "cell_type": "markdown",
      "metadata": {
        "id": "jUrfx7WTEdH1"
      },
      "source": [
        "### Cells\n",
        "A notebook is a list of cells. Cells contain either explanatory text or executable code and its output. Click a cell to select it."
      ]
    },
    {
      "cell_type": "markdown",
      "metadata": {
        "id": "W7wzAKmyEqeK"
      },
      "source": [
        "### Code cells\n",
        "Below is a **code cell**. Once the toolbar button indicates CONNECTED, click in the cell to select it and execute the contents in the following ways:\n",
        "\n",
        "* Click the **Play icon** in the left gutter of the cell;\n",
        "* Type **Cmd/Ctrl+Enter** to run the cell in place;\n",
        "* Type **Shift+Enter** to run the cell and move focus to the next cell (adding one if none exists); or\n",
        "* Type **Alt+Enter** to run the cell and insert a new code cell immediately below it.\n",
        "\n",
        "There are additional options for running some or all cells in the **Runtime** menu.\n"
      ]
    },
    {
      "cell_type": "code",
      "metadata": {
        "id": "2KYFlrCvExOv"
      },
      "source": [
        "a = 10\n",
        "a"
      ],
      "execution_count": null,
      "outputs": []
    },
    {
      "cell_type": "markdown",
      "metadata": {
        "id": "snvRSOGKEs20"
      },
      "source": [
        "### Text cells\n",
        "This is a **text cell**. You can **double-click** to edit this cell. Text cells\n",
        "use markdown syntax. To learn more, see the [markdown\n",
        "guide](/notebooks/markdown_guide.ipynb).\n",
        "\n",
        "You can also add math to text cells using [LaTeX](http://www.latex-project.org/)\n",
        "to be rendered by [MathJax](https://www.mathjax.org). Just place the statement\n",
        "within a pair of **\\$** signs. For example `$\\sqrt{3x-1}+(1+x)^2$` becomes\n",
        "$\\sqrt{3x-1}+(1+x)^2.$\n"
      ]
    },
    {
      "cell_type": "markdown",
      "metadata": {
        "id": "a8Ku7bZSFgKV"
      },
      "source": [
        "### Adding and moving cells\n",
        "You can add new cells by using the **+ CODE** and **+ TEXT** buttons that show when you hover between cells. These buttons are also in the toolbar above the notebook where they can be used to add a cell below the currently selected cell.\n",
        "\n",
        "You can move a cell by selecting it and clicking **Cell Up** or **Cell Down** in the top toolbar. \n",
        "\n",
        "Consecutive cells can be selected by \"lasso selection\" by dragging from outside one cell and through the group.  Non-adjacent cells can be selected concurrently by clicking one and then holding down Ctrl while clicking another.  Similarly, using Shift instead of Ctrl will select all intermediate cells."
      ]
    },
    {
      "cell_type": "markdown",
      "metadata": {
        "id": "8iq-ZASVGG1-"
      },
      "source": [
        "### Integration with Drive\n",
        "\n",
        "Colaboratory is integrated with Google Drive. It allows you to share, comment, and collaborate on the same document with multiple people:\n",
        "\n",
        "* The **SHARE** button (top-right of the toolbar) allows you to share the notebook and control permissions set on it.\n",
        "\n",
        "* **File->Make a Copy** creates a copy of the notebook in Drive.\n",
        "\n",
        "* **File->Save** saves the File to Drive. **File->Save and checkpoint** pins the version so it doesn't get deleted from the revision history. \n",
        "\n",
        "* **File->Revision history** shows the notebook's revision history. "
      ]
    },
    {
      "cell_type": "markdown",
      "metadata": {
        "id": "KXYqEuIgGId0"
      },
      "source": [
        "### (Extra) Commenting on a cell\n",
        "You can comment on a Colaboratory notebook like you would on a Google Document. Comments are attached to cells, and are displayed next to the cell they refer to. If you have **comment-only** permissions, you will see a comment button on the top right of the cell when you hover over it.\n",
        "\n",
        "If you have edit or comment permissions you can comment on a cell in one of three ways: \n",
        "\n",
        "1. Select a cell and click the comment button in the toolbar above the top-right corner of the cell.\n",
        "1. Right click a text cell and select **Add a comment** from the context menu.\n",
        "3. Use the shortcut **Ctrl+Shift+M** to add a comment to the currently selected cell. \n",
        "\n",
        "You can resolve and reply to comments, and you can target comments to specific collaborators by typing *+[email address]* (e.g., `+user@domain.com`). Addressed collaborators will be emailed. \n",
        "\n",
        "The Comment button in the top-right corner of the page shows all comments attached to the notebook."
      ]
    },
    {
      "cell_type": "markdown",
      "metadata": {
        "id": "vYWrFVyNFtVl"
      },
      "source": [
        "## Section - Introducing Explorationlib"
      ]
    },
    {
      "cell_type": "markdown",
      "metadata": {
        "id": "IzU5-WJsKjxz"
      },
      "source": [
        "### Install _explorationlib_\n",
        "Colab's come with many of the libraries we will need. It does not come with _explorationlib_. It's a module we will be using, and was written by Erik Peterson to support this course. Let's Install it."
      ]
    },
    {
      "cell_type": "code",
      "metadata": {
        "id": "19aj6FWIJfvY"
      },
      "source": [
        "!pip install --upgrade git+https://github.com/parenthetical-e/explorationlib\n",
        "!pip install --upgrade git+https://github.com/MattChanTK/gym-maze.git\n",
        "!pip install celluloid # for the gifs"
      ],
      "execution_count": null,
      "outputs": []
    },
    {
      "cell_type": "markdown",
      "metadata": {
        "id": "xpFmpC7DMHsq"
      },
      "source": [
        "### Import modules"
      ]
    },
    {
      "cell_type": "code",
      "metadata": {
        "id": "hH_C2vk9KymO"
      },
      "source": [
        "# from the standard library\n",
        "import shutil\n",
        "import glob\n",
        "import os\n",
        "import copy\n",
        "import sys\n",
        "\n",
        "# these are common to scientific programming in python\n",
        "import numpy as np\n",
        "import seaborn as sns\n",
        "import matplotlib.pyplot as plt\n",
        "\n",
        "# Computational experiments are run with 'experiment'\n",
        "from explorationlib.run import experiment\n",
        "\n",
        "# Here are some tools to select, save, and load\n",
        "# data from computational experiments\n",
        "from explorationlib.util import select_exp\n",
        "from explorationlib.util import load\n",
        "from explorationlib.util import save\n",
        "\n",
        "# All the explorers we will play with are called\n",
        "# \"agents\"; a bit of computer science jargon\n",
        "from explorationlib.agent import Diffusion2d\n",
        "from explorationlib.agent import Levy2d\n",
        "from explorationlib.agent import TruncatedLevy2d\n",
        "\n",
        "# The environments we will simulate live in a \"gym\"\n",
        "from explorationlib.local_gym import Field\n",
        "from explorationlib.local_gym import Bounded\n",
        "from explorationlib.local_gym import Grid \n",
        "from explorationlib.local_gym import uniform_targets\n",
        "from explorationlib.local_gym import constant_values\n",
        "\n",
        "# A bunch of tools for plotting and for\n",
        "# movie making\n",
        "from explorationlib.plot import plot_position2d\n",
        "from explorationlib.plot import plot_length_hist\n",
        "from explorationlib.plot import plot_length\n",
        "from explorationlib.plot import plot_targets2d\n",
        "from explorationlib.plot import show_gif\n",
        "\n",
        "# A couple metrics for scoring how well, or poorly,\n",
        "# an exploration experiment went.\n",
        "from explorationlib.score import search_efficiency\n",
        "from explorationlib.score import total_reward\n",
        "from explorationlib.score import first_reward"
      ],
      "execution_count": null,
      "outputs": []
    },
    {
      "cell_type": "markdown",
      "metadata": {
        "id": "FaA4SIHIMbi9"
      },
      "source": [
        "### Configure plots \n",
        "to be be nicer looking. We don't _have_ to do this, but _why not_?"
      ]
    },
    {
      "cell_type": "code",
      "metadata": {
        "id": "0AlBujCIMckO"
      },
      "source": [
        "%matplotlib inline\n",
        "%config InlineBackend.figure_format='retina'\n",
        "%config IPCompleter.greedy=True\n",
        "\n",
        "plt.rcParams[\"axes.facecolor\"] = \"white\"\n",
        "plt.rcParams[\"figure.facecolor\"] = \"white\"\n",
        "plt.rcParams[\"font.size\"] = \"16\""
      ],
      "execution_count": null,
      "outputs": []
    },
    {
      "cell_type": "markdown",
      "metadata": {
        "id": "MHeHlCKgMjkT"
      },
      "source": [
        "### Better autocomplete and development\n",
        "In our notebooks. Again, optional. If this errors out, and it might, skip it."
      ]
    },
    {
      "cell_type": "code",
      "metadata": {
        "id": "7j_6yK84MgD-"
      },
      "source": [
        "%config IPCompleter.greedy=True\n",
        "%load_ext autoreload\n",
        "%autoreload 2"
      ],
      "execution_count": null,
      "outputs": []
    },
    {
      "cell_type": "markdown",
      "metadata": {
        "id": "ivuCHzgoNd7x"
      },
      "source": [
        "## Section - getting to know our explorers\n",
        "\n",
        "Run a diffusion and levy walker for 10000 steps, in an unbounded Field. Do 10 different experiments."
      ]
    },
    {
      "cell_type": "markdown",
      "metadata": {
        "id": "-fdWoXlyP8r9"
      },
      "source": [
        "### Experimental Parameters"
      ]
    },
    {
      "cell_type": "code",
      "metadata": {
        "id": "RLhAuUNTP-5S"
      },
      "source": [
        "# Setup\n",
        "num_steps = 10000       # how many exploration steps in space?\n",
        "num_experiments = 10    # we want to run ten experiments\n",
        "detection_radius = 1\n",
        "\n",
        "num_targets = 500\n",
        "\n",
        "min_length = 0.1\n",
        "step_size = 0.1  # Should be < (2 * detection_radius)"
      ],
      "execution_count": null,
      "outputs": []
    },
    {
      "cell_type": "markdown",
      "metadata": {
        "id": "F1y9DGL-QDAk"
      },
      "source": [
        "### Create Environment"
      ]
    },
    {
      "cell_type": "code",
      "metadata": {
        "id": "-WLmzneEQGZy"
      },
      "source": [
        "# Create env as an empty field\n",
        "env = Field()"
      ],
      "execution_count": null,
      "outputs": []
    },
    {
      "cell_type": "markdown",
      "metadata": {
        "id": "VORqBogqYa5x"
      },
      "source": [
        "### Add targets to the environment"
      ]
    },
    {
      "cell_type": "code",
      "metadata": {
        "id": "q67xmK8kYaWF"
      },
      "source": [
        "# Targets\n",
        "target_boundary = (50, 50)\n",
        "targets = uniform_targets(num_targets, target_boundary)\n",
        "values = constant_values(targets, 1)\n",
        "env.add_targets(targets, values, detection_radius=detection_radius)"
      ],
      "execution_count": null,
      "outputs": []
    },
    {
      "cell_type": "markdown",
      "metadata": {
        "id": "FccP8if_QNo6"
      },
      "source": [
        "### Create Agents"
      ]
    },
    {
      "cell_type": "code",
      "metadata": {
        "id": "K2_Sk6vvrLYe"
      },
      "source": [
        "# Create agents\n",
        "diffusion = Diffusion2d(\n",
        "    min_length=min_length, \n",
        "    scale=0.1, \n",
        "    detection_radius=detection_radius, \n",
        "    step_size=step_size,\n",
        ")\n",
        "\n",
        "levy = Levy2d(min_length=min_length, \n",
        "    exponent=2, \n",
        "    detection_radius=detection_radius, \n",
        "    step_size=step_size,\n",
        ")"
      ],
      "execution_count": null,
      "outputs": []
    },
    {
      "cell_type": "markdown",
      "metadata": {
        "id": "-KYL0yVTvIK2"
      },
      "source": [
        "### Run Experiments"
      ]
    },
    {
      "cell_type": "code",
      "metadata": {
        "id": "2xEMm3ZYNeec"
      },
      "source": [
        "# experiments\n",
        "levy_exp = experiment(\n",
        "    f\"levy_1\", \n",
        "    levy, \n",
        "    env, \n",
        "    num_steps=num_steps, \n",
        "    num_experiments=num_experiments,\n",
        "    seed=59393,\n",
        "    dump=False,\n",
        ")\n",
        "diffusion_exp = experiment(\n",
        "    f\"diffusion_1\", \n",
        "    diffusion, \n",
        "    env, \n",
        "    num_steps=num_steps, \n",
        "    num_experiments=num_experiments,\n",
        "    seed=59393,\n",
        "    dump=False,\n",
        ")"
      ],
      "execution_count": null,
      "outputs": []
    },
    {
      "cell_type": "markdown",
      "metadata": {
        "id": "Kl4VZMu9zsB1"
      },
      "source": [
        "### Plot the trajectories of both agents across the 10 experiments"
      ]
    },
    {
      "cell_type": "code",
      "metadata": {
        "id": "pYe2UhQ7vRod"
      },
      "source": [
        "# View size\n",
        "plot_boundary = (20, 20)\n",
        "\n",
        "# Generate 10 plots of walking\n",
        "for n in range(num_experiments):\n",
        "    ax = None\n",
        "    ax = plot_position2d(\n",
        "        select_exp(levy_exp, n),\n",
        "        boundary=plot_boundary,\n",
        "        label=f\"Levy\",\n",
        "        color=\"purple\",\n",
        "        alpha=0.6,\n",
        "        ax=ax,\n",
        "    )\n",
        "    ax = plot_position2d(\n",
        "        select_exp(diffusion_exp, n),\n",
        "        boundary=plot_boundary,\n",
        "        label=f\"Diffusion\",\n",
        "        title=f\"Experiment {n}\",\n",
        "        color=\"brown\",\n",
        "        alpha=0.6,\n",
        "        ax=ax,\n",
        "    )"
      ],
      "execution_count": null,
      "outputs": []
    },
    {
      "cell_type": "markdown",
      "metadata": {
        "id": "hQQi9Whrz5tI"
      },
      "source": [
        "### Question 1.1\n",
        "Based on these 10 example experiments please describe how similar or different the Levy and diffusion search strategies seem to be? Visually, that is. Can you tell the difference between them in _all_ 10 examples?\n",
        "\n",
        "_Note_: Don't be afraid to change the _plot boundary_ to zoom in or out. "
      ]
    },
    {
      "cell_type": "code",
      "metadata": {
        "id": "Ye6vO8KfyS_s"
      },
      "source": [
        "# Write your answer here, as a python comment"
      ],
      "execution_count": null,
      "outputs": []
    },
    {
      "cell_type": "markdown",
      "metadata": {
        "id": "CBYBtJa1ZQF7"
      },
      "source": [
        "### Plot the distribution of step sizes"
      ]
    },
    {
      "cell_type": "markdown",
      "metadata": {
        "id": "gRFht3hX0Ihb"
      },
      "source": [
        "Create one distribution for all Levy walks, and one distribution and plot them together. First plot the distributions, the plot them in log-log space. AKA the space in which power laws, like the Levy $p(l) = 1 / l^{\\mu}$, are easiest to identify. "
      ]
    },
    {
      "cell_type": "code",
      "metadata": {
        "id": "KMPNqa_Az_IE"
      },
      "source": [
        "num_experiment = 0\n",
        "ax = None\n",
        "ax = plot_length_hist(\n",
        "    select_exp(levy_exp, num_experiment),\n",
        "    loglog=False,\n",
        "    bins=60,\n",
        "    density=True,\n",
        "    alpha=0.6,\n",
        "    label=\"Levy\",\n",
        "    color=\"purple\",\n",
        "    ax=ax,\n",
        "    figsize=(6,4),\n",
        ")\n",
        "ax = plot_length_hist(\n",
        "    select_exp(diffusion_exp, num_experiment),\n",
        "    loglog=False,\n",
        "    bins=50,\n",
        "    density=True,\n",
        "    alpha=0.6,\n",
        "    color=\"brown\",\n",
        "    label=\"Diffusion\",\n",
        "    ax=ax,\n",
        ")\n",
        "sns.despine() # Make pretty plot"
      ],
      "execution_count": null,
      "outputs": []
    },
    {
      "cell_type": "markdown",
      "metadata": {
        "id": "iE4PMksQ1STY"
      },
      "source": [
        "- Wow, the power law is steep right!? Can you see the exponential nature of diffusion?"
      ]
    },
    {
      "cell_type": "code",
      "metadata": {
        "id": "EwE37TXO1N_a"
      },
      "source": [
        "ax = None\n",
        "ax = plot_length_hist(\n",
        "    select_exp(levy_exp, num_experiment),\n",
        "    loglog=True,\n",
        "    bins=60,\n",
        "    density=True,\n",
        "    alpha=0.6,\n",
        "    label=\"Levy\",\n",
        "    color=\"purple\",\n",
        "    ax=ax,\n",
        "    figsize=(6,4),\n",
        ")\n",
        "ax = plot_length_hist(\n",
        "    select_exp(diffusion_exp, num_experiment),\n",
        "    loglog=True,\n",
        "    bins=50,\n",
        "    density=True,\n",
        "    alpha=0.6,\n",
        "    color=\"brown\",\n",
        "    label=\"Diffusion\",\n",
        "    ax=ax,\n",
        ")\n",
        "sns.despine() # Make pretty plot"
      ],
      "execution_count": null,
      "outputs": []
    },
    {
      "cell_type": "markdown",
      "metadata": {
        "id": "A2GncQNMZUvR"
      },
      "source": [
        "### Compare the efficacies of the two strategies\n",
        "\n",
        "Note: The difference between the agents might be smaller you expect, and the difference might not even be noticeable at all without a very large sample size."
      ]
    },
    {
      "cell_type": "markdown",
      "metadata": {
        "id": "yQ0hCa59ZdQK"
      },
      "source": [
        "Compile the scores of the experiments"
      ]
    },
    {
      "cell_type": "code",
      "metadata": {
        "id": "9fx1ktZy1WWU"
      },
      "source": [
        "# Results, names, and colors\n",
        "results = [levy_exp, diffusion_exp]\n",
        "names = [\"Levy\", \"Diffusion\"]\n",
        "colors = [\"purple\", \"brown\"]\n",
        "\n",
        "# Score by eff\n",
        "scores = []\n",
        "for name, res, color in zip(names, results, colors):\n",
        "    r = search_efficiency(res)\n",
        "    scores.append(r)  "
      ],
      "execution_count": null,
      "outputs": []
    },
    {
      "cell_type": "markdown",
      "metadata": {
        "id": "ksOy4XdoZjtm"
      },
      "source": [
        "Plot the distribution of scores"
      ]
    },
    {
      "cell_type": "code",
      "metadata": {
        "id": "VCQ0wQSEYHe2"
      },
      "source": [
        "for (name, s, c) in zip(names, scores, colors):\n",
        "    plt.hist(s, label=name, color=c, alpha=0.5, bins=20)\n",
        "    plt.legend()\n",
        "    plt.xlabel(\"Score\")\n",
        "    plt.tight_layout()\n",
        "    sns.despine()"
      ],
      "execution_count": null,
      "outputs": []
    },
    {
      "cell_type": "markdown",
      "metadata": {
        "id": "Fv3WMgCwZmfK"
      },
      "source": [
        "Plot the average score of each agent"
      ]
    },
    {
      "cell_type": "code",
      "metadata": {
        "id": "MtWw7Po5YKO-"
      },
      "source": [
        "# Tabulate\n",
        "m, sd = [], []\n",
        "for (name, s, c) in zip(names, scores, colors):\n",
        "    m.append(np.mean(s))\n",
        "    sd.append(np.std(s))\n",
        "\n",
        "# Plot\n",
        "fig = plt.figure(figsize=(3, 3))\n",
        "plt.bar(names, m, yerr=sd, color=\"black\", alpha=0.6)\n",
        "plt.ylabel(\"Score\")\n",
        "plt.tight_layout()\n",
        "sns.despine()"
      ],
      "execution_count": null,
      "outputs": []
    },
    {
      "cell_type": "code",
      "metadata": {
        "id": "ZLQavjP-ZLDu"
      },
      "source": [
        ""
      ],
      "execution_count": null,
      "outputs": []
    }
  ]
}