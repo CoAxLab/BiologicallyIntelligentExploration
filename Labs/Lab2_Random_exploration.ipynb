{
  "nbformat": 4,
  "nbformat_minor": 0,
  "metadata": {
    "colab": {
      "provenance": [],
      "collapsed_sections": []
    },
    "kernelspec": {
      "name": "python3",
      "display_name": "Python 3"
    },
    "language_info": {
      "name": "python"
    }
  },
  "cells": [
    {
      "cell_type": "markdown",
      "source": [
        "# **Lab 2: Random exploration**"
      ],
      "metadata": {
        "id": "UAiNsgf0rcX7"
      }
    },
    {
      "cell_type": "markdown",
      "metadata": {
        "id": "NSyMlyVWJjov"
      },
      "source": [
        "This lab has a few goals:\n",
        "\n",
        "- to get you familiar with the Python library we'll be using to simulate and explore exploration\n",
        "- to introduce you to Levy walk and Brownian motion agents\n"
      ]
    },
    {
      "cell_type": "markdown",
      "source": [
        "### **How to go through lab**\n",
        "\n",
        "For this lab, you will *read through the text of this notebook* and *run each code cell* in order, as well as *follow other instructions as they come up*. Try to understand what the code that you run does. *Answer any questions as Python comments where specified*."
      ],
      "metadata": {
        "id": "h1NLiay_Fyf3"
      }
    },
    {
      "cell_type": "markdown",
      "source": [
        "### **What's a Levy walk? What's Brownian motion?**\n",
        "\n",
        "* A Levy walk is is a continuing process of random movement where at each \"step\" of movement, a direction of and distance of movement is chosen randomly. The distance $\\delta_i$ of movement at each time step $i$ is sampled from the random distribution as follows: $\\delta_i = {u_i}^{-\\frac{1}{\\gamma}}$, where $u_i \\sim N(\\mu,\\sigma)$ and $\\gamma > 1$.\n",
        "* Brownian motion is the same except for that $\\gamma = 1$. Brownian motion models the behavior of physical diffusion, e.g. the movement of a an atom as it randomly bumps into other atoms. Brownian motion tends to be more local, while Levy walks tend to stay local most of the time, occasionally displaying larger \"jumps\"."
      ],
      "metadata": {
        "id": "hV98gpqzF99B"
      }
    },
    {
      "cell_type": "markdown",
      "metadata": {
        "id": "IzU5-WJsKjxz"
      },
      "source": [
        "### **Install _explorationlib_**\n",
        "Colab notebooks come with many of the code libraries we will need. However, they do not come with _explorationlib_. This is a module that we will be using; it was built by Erik Peterson to support this course. Let's Install it."
      ]
    },
    {
      "cell_type": "code",
      "metadata": {
        "id": "19aj6FWIJfvY"
      },
      "source": [
        "!pip install --upgrade git+https://github.com/coaxlab/explorationlib\n",
        "!pip install --upgrade git+https://github.com/MattChanTK/gym-maze.git\n",
        "!pip install celluloid # for the gifs"
      ],
      "execution_count": null,
      "outputs": []
    },
    {
      "cell_type": "markdown",
      "metadata": {
        "id": "xpFmpC7DMHsq"
      },
      "source": [
        "### **Import modules**"
      ]
    },
    {
      "cell_type": "code",
      "metadata": {
        "id": "hH_C2vk9KymO"
      },
      "source": [
        "# from the standard library\n",
        "import shutil\n",
        "import glob\n",
        "import os\n",
        "import copy\n",
        "import sys\n",
        "\n",
        "# these are common to scientific programming in python\n",
        "import numpy as np\n",
        "import seaborn as sns\n",
        "import matplotlib.pyplot as plt\n",
        "\n",
        "# Computational experiments are run with 'experiment'\n",
        "from explorationlib.run import experiment\n",
        "\n",
        "# Here are some tools to select, save, and load\n",
        "# data from computational experiments\n",
        "from explorationlib.util import select_exp\n",
        "from explorationlib.util import load\n",
        "from explorationlib.util import save\n",
        "\n",
        "# All the explorers we will play with are called\n",
        "# \"agents\"; a bit of computer science jargon\n",
        "from explorationlib.agent import Diffusion2d\n",
        "from explorationlib.agent import Levy2d\n",
        "#from explorationlib.agent import TruncatedLevy2d\n",
        "\n",
        "# The environments we will simulate live in a \"gym\"\n",
        "from explorationlib.local_gym import Field\n",
        "from explorationlib.local_gym import Bounded\n",
        "from explorationlib.local_gym import Grid \n",
        "from explorationlib.local_gym import uniform_targets\n",
        "from explorationlib.local_gym import constant_values\n",
        "\n",
        "# A bunch of tools for plotting and for\n",
        "# movie making\n",
        "from explorationlib.plot import plot_position2d\n",
        "from explorationlib.plot import plot_length_hist\n",
        "from explorationlib.plot import plot_length\n",
        "from explorationlib.plot import plot_targets2d\n",
        "from explorationlib.plot import show_gif\n",
        "\n",
        "# A couple metrics for scoring how well, or poorly,\n",
        "# an exploration experiment went.\n",
        "from explorationlib.score import search_efficiency\n",
        "from explorationlib.score import total_reward\n",
        "from explorationlib.score import first_reward"
      ],
      "execution_count": null,
      "outputs": []
    },
    {
      "cell_type": "markdown",
      "metadata": {
        "id": "FaA4SIHIMbi9"
      },
      "source": [
        "### Configure plots\n",
        "\n",
        "This will help the plots to be be nicer looking. We don't _have_ to do this, but _why not_?"
      ]
    },
    {
      "cell_type": "code",
      "metadata": {
        "id": "0AlBujCIMckO"
      },
      "source": [
        "%matplotlib inline\n",
        "%config InlineBackend.figure_format='retina'\n",
        "%config IPCompleter.greedy=True\n",
        "\n",
        "plt.rcParams[\"axes.facecolor\"] = \"white\"\n",
        "plt.rcParams[\"figure.facecolor\"] = \"white\"\n",
        "plt.rcParams[\"font.size\"] = \"16\""
      ],
      "execution_count": null,
      "outputs": []
    },
    {
      "cell_type": "markdown",
      "metadata": {
        "id": "MHeHlCKgMjkT"
      },
      "source": [
        "### Better autocomplete and development in our notebooks\n",
        "\n",
        "Again, optional. If running this causes any errors, skip it."
      ]
    },
    {
      "cell_type": "code",
      "metadata": {
        "id": "7j_6yK84MgD-"
      },
      "source": [
        "%config IPCompleter.greedy=True\n",
        "%load_ext autoreload\n",
        "%autoreload 2"
      ],
      "execution_count": null,
      "outputs": []
    },
    {
      "cell_type": "markdown",
      "metadata": {
        "id": "ivuCHzgoNd7x"
      },
      "source": [
        "## **Getting to know our explorers**\n",
        "\n",
        "The code blocks below run a diffusion and levy walker for 10000 steps, in an unbounded Field. 10 different experiments are run."
      ]
    },
    {
      "cell_type": "markdown",
      "metadata": {
        "id": "-fdWoXlyP8r9"
      },
      "source": [
        "### Experimental Parameters"
      ]
    },
    {
      "cell_type": "code",
      "metadata": {
        "id": "RLhAuUNTP-5S"
      },
      "source": [
        "# Setup\n",
        "num_steps = 10000       # how many exploration steps in space?\n",
        "num_experiments = 10    # we want to run ten experiments\n",
        "detection_radius = 1\n",
        "\n",
        "num_targets = 500\n",
        "\n",
        "min_length = 0.1\n",
        "step_size = 0.1  # Should be < (2 * detection_radius)"
      ],
      "execution_count": null,
      "outputs": []
    },
    {
      "cell_type": "markdown",
      "metadata": {
        "id": "F1y9DGL-QDAk"
      },
      "source": [
        "### Create Environment"
      ]
    },
    {
      "cell_type": "code",
      "metadata": {
        "id": "-WLmzneEQGZy"
      },
      "source": [
        "# Create env as an empty field\n",
        "env = Field()"
      ],
      "execution_count": null,
      "outputs": []
    },
    {
      "cell_type": "markdown",
      "metadata": {
        "id": "VORqBogqYa5x"
      },
      "source": [
        "### Add targets to the environment"
      ]
    },
    {
      "cell_type": "code",
      "metadata": {
        "id": "q67xmK8kYaWF"
      },
      "source": [
        "# Targets\n",
        "target_boundary = (50, 50)\n",
        "targets = uniform_targets(num_targets, target_boundary)\n",
        "values = constant_values(targets, 1)\n",
        "env.add_targets(targets, values, detection_radius=detection_radius)"
      ],
      "execution_count": null,
      "outputs": []
    },
    {
      "cell_type": "markdown",
      "metadata": {
        "id": "FccP8if_QNo6"
      },
      "source": [
        "### Create Agents"
      ]
    },
    {
      "cell_type": "code",
      "metadata": {
        "id": "K2_Sk6vvrLYe"
      },
      "source": [
        "# Create agents\n",
        "diffusion = Diffusion2d(\n",
        "    min_length=min_length, \n",
        "    scale=0.1, \n",
        "    detection_radius=detection_radius, \n",
        "    step_size=step_size,\n",
        ")\n",
        "\n",
        "levy = Levy2d(min_length=min_length, \n",
        "    exponent=2, \n",
        "    detection_radius=detection_radius, \n",
        "    step_size=step_size,\n",
        ")"
      ],
      "execution_count": null,
      "outputs": []
    },
    {
      "cell_type": "markdown",
      "source": [
        "## **How do these agents work? Check the explorationlib code**\n",
        "\n",
        "* In the left panel on Colab, click on the file icon.\n",
        "* Navigate to `/usr/local/lib/python3.7/dist-packages/explorationlib/agent.py` and double click the file (or just click the link in this bullet) to open up the library's code for defining exploration agents.\n",
        "* You should see the code for `agent.py` open in a panel to the right in Colab.\n",
        "* Read the definition of the Agent2d class (find the spot in the code that says `class Agent2d:` and read until just before the next class, CriticGrid, is defined).\n",
        "* Scroll down far and read the definition for the Levy2d class, which inherits from Agent2d.\n",
        "* Scroll down and read the definition for the last class, Diffusion2d."
      ],
      "metadata": {
        "id": "ZF5Z-Glatrr9"
      }
    },
    {
      "cell_type": "markdown",
      "metadata": {
        "id": "-KYL0yVTvIK2"
      },
      "source": [
        "### Run Experiments"
      ]
    },
    {
      "cell_type": "code",
      "metadata": {
        "id": "2xEMm3ZYNeec"
      },
      "source": [
        "# experiments\n",
        "levy_exp = experiment(\n",
        "    f\"levy_1\", \n",
        "    levy, \n",
        "    env, \n",
        "    num_steps=num_steps, \n",
        "    num_experiments=num_experiments,\n",
        "    seed=59393,\n",
        "    dump=False,\n",
        ")\n",
        "diffusion_exp = experiment(\n",
        "    f\"diffusion_1\", \n",
        "    diffusion, \n",
        "    env, \n",
        "    num_steps=num_steps, \n",
        "    num_experiments=num_experiments,\n",
        "    seed=59393,\n",
        "    dump=False,\n",
        ")"
      ],
      "execution_count": null,
      "outputs": []
    },
    {
      "cell_type": "markdown",
      "metadata": {
        "id": "Kl4VZMu9zsB1"
      },
      "source": [
        "### Plot the trajectories of both agents across the 10 experiments"
      ]
    },
    {
      "cell_type": "code",
      "metadata": {
        "id": "pYe2UhQ7vRod"
      },
      "source": [
        "# View size\n",
        "plot_boundary = (20, 20)\n",
        "\n",
        "# Generate 10 plots of walking\n",
        "for n in range(num_experiments):\n",
        "    ax = None\n",
        "    ax = plot_position2d(\n",
        "        select_exp(levy_exp, n),\n",
        "        boundary=plot_boundary,\n",
        "        label=f\"Levy\",\n",
        "        color=\"blue\",\n",
        "        alpha=0.6,\n",
        "        ax=ax,\n",
        "    )\n",
        "    ax = plot_position2d(\n",
        "        select_exp(diffusion_exp, n),\n",
        "        boundary=plot_boundary,\n",
        "        label=f\"Diffusion\",\n",
        "        title=f\"Experiment {n}\",\n",
        "        color=\"brown\",\n",
        "        alpha=0.6,\n",
        "        ax=ax,\n",
        "    )"
      ],
      "execution_count": null,
      "outputs": []
    },
    {
      "cell_type": "markdown",
      "metadata": {
        "id": "hQQi9Whrz5tI"
      },
      "source": [
        "### Question 1.1\n",
        "Based on these 10 example experiments please describe how similar or different the Levy and diffusion search strategies seem to be? Visually, that is. Can you tell the difference between them in _all_ 10 examples?\n",
        "\n",
        "_Note_: Don't be afraid to change the _plot boundary_ to zoom in or out. "
      ]
    },
    {
      "cell_type": "code",
      "metadata": {
        "id": "Ye6vO8KfyS_s"
      },
      "source": [
        "# Write your answer here, as a python comment"
      ],
      "execution_count": null,
      "outputs": []
    },
    {
      "cell_type": "markdown",
      "metadata": {
        "id": "CBYBtJa1ZQF7"
      },
      "source": [
        "### Plot the distribution of step sizes"
      ]
    },
    {
      "cell_type": "markdown",
      "metadata": {
        "id": "gRFht3hX0Ihb"
      },
      "source": [
        "Create one distribution for all Levy steps, and one distribution for all Brownian steps, and plot them together. First plot the distributions, then plot them in log-log space. AKA the space in which power laws, like non-Brownian Levy step size distributions, are easiest to identify (as they should look more linear)."
      ]
    },
    {
      "cell_type": "code",
      "metadata": {
        "id": "KMPNqa_Az_IE"
      },
      "source": [
        "num_experiment = 0\n",
        "ax = None\n",
        "ax = plot_length_hist(\n",
        "    select_exp(levy_exp, num_experiment),\n",
        "    loglog=False,\n",
        "    bins=50,\n",
        "    density=True,\n",
        "    alpha=0.6,\n",
        "    label=\"Levy\",\n",
        "    color=\"blue\",\n",
        "    ax=ax,\n",
        "    figsize=(6,4),\n",
        ")\n",
        "ax = plot_length_hist(\n",
        "    select_exp(diffusion_exp, num_experiment),\n",
        "    loglog=False,\n",
        "    bins=50,\n",
        "    density=True,\n",
        "    alpha=0.6,\n",
        "    color=\"brown\",\n",
        "    label=\"Diffusion\",\n",
        "    ax=ax,\n",
        ")\n",
        "sns.despine() # Make pretty plot"
      ],
      "execution_count": null,
      "outputs": []
    },
    {
      "cell_type": "markdown",
      "metadata": {
        "id": "iE4PMksQ1STY"
      },
      "source": [
        "- Wow, the power law is steep right!? Can you see the exponential nature of diffusion?"
      ]
    },
    {
      "cell_type": "code",
      "metadata": {
        "id": "EwE37TXO1N_a"
      },
      "source": [
        "ax = None\n",
        "ax = plot_length_hist(\n",
        "    select_exp(levy_exp, num_experiment),\n",
        "    loglog=True,\n",
        "    bins=50,\n",
        "    density=True,\n",
        "    alpha=0.6,\n",
        "    label=\"Levy\",\n",
        "    color=\"blue\",\n",
        "    ax=ax,\n",
        "    figsize=(6,4),\n",
        ")\n",
        "ax = plot_length_hist(\n",
        "    select_exp(diffusion_exp, num_experiment),\n",
        "    loglog=True,\n",
        "    bins=50,\n",
        "    density=True,\n",
        "    alpha=0.6,\n",
        "    color=\"brown\",\n",
        "    label=\"Diffusion\",\n",
        "    ax=ax,\n",
        ")\n",
        "sns.despine() # Make pretty plot"
      ],
      "execution_count": null,
      "outputs": []
    },
    {
      "cell_type": "markdown",
      "metadata": {
        "id": "A2GncQNMZUvR"
      },
      "source": [
        "### Compare the efficacies of the two strategies\n",
        "\n",
        "Note: The difference between the agents might be smaller you expect, and the difference might not even be noticeable at all without a very large sample size."
      ]
    },
    {
      "cell_type": "markdown",
      "metadata": {
        "id": "yQ0hCa59ZdQK"
      },
      "source": [
        "Compile the scores of the experiments"
      ]
    },
    {
      "cell_type": "code",
      "metadata": {
        "id": "9fx1ktZy1WWU"
      },
      "source": [
        "# Results, names, and colors\n",
        "results = [levy_exp, diffusion_exp]\n",
        "names = [\"Levy\", \"Diffusion\"]\n",
        "colors = [\"blue\", \"brown\"]\n",
        "\n",
        "# Score by eff\n",
        "scores = []\n",
        "for name, res, color in zip(names, results, colors):\n",
        "    r = search_efficiency(res)\n",
        "    scores.append(r)  "
      ],
      "execution_count": null,
      "outputs": []
    },
    {
      "cell_type": "markdown",
      "metadata": {
        "id": "ksOy4XdoZjtm"
      },
      "source": [
        "Plot the distribution of scores"
      ]
    },
    {
      "cell_type": "code",
      "metadata": {
        "id": "VCQ0wQSEYHe2"
      },
      "source": [
        "for (name, s, c) in zip(names, scores, colors):\n",
        "    plt.hist(s, label=name, color=c, alpha=0.5, bins=20)\n",
        "    plt.legend()\n",
        "    plt.xlabel(\"Score\")\n",
        "    plt.tight_layout()\n",
        "    sns.despine()"
      ],
      "execution_count": null,
      "outputs": []
    },
    {
      "cell_type": "markdown",
      "metadata": {
        "id": "Fv3WMgCwZmfK"
      },
      "source": [
        "Plot the average score of each agent"
      ]
    },
    {
      "cell_type": "code",
      "metadata": {
        "id": "MtWw7Po5YKO-"
      },
      "source": [
        "# Tabulate\n",
        "m, sd = [], []\n",
        "for (name, s, c) in zip(names, scores, colors):\n",
        "    m.append(np.mean(s))\n",
        "    sd.append(np.std(s))\n",
        "\n",
        "# Plot\n",
        "fig = plt.figure(figsize=(3, 3))\n",
        "plt.bar(names, m, yerr=sd, color=colors, alpha=0.6)\n",
        "plt.ylabel(\"Score\")\n",
        "plt.tight_layout()\n",
        "sns.despine()"
      ],
      "execution_count": null,
      "outputs": []
    },
    {
      "cell_type": "markdown",
      "source": [
        "This lab adapted by Jack Burgess in the fall of 2022 from materials by Matthew Clapp."
      ],
      "metadata": {
        "id": "Xwu9aPAKsTKd"
      }
    }
  ]
}