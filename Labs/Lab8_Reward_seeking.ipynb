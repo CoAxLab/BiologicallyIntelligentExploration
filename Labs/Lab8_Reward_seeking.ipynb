{
  "cells": [
    {
      "cell_type": "markdown",
      "metadata": {
        "id": "view-in-github",
        "colab_type": "text"
      },
      "source": [
        "<a href=\"https://colab.research.google.com/github/CoAxLab/BiologicallyIntelligentExploration/blob/main/Labs/Lab8_Reward_seeking.ipynb\" target=\"_parent\"><img src=\"https://colab.research.google.com/assets/colab-badge.svg\" alt=\"Open In Colab\"/></a>"
      ]
    },
    {
      "cell_type": "markdown",
      "source": [
        "# Lab 8 - Reinforcement Learning\n",
        "\n",
        "This lab has 3 main components designed to give you an interactive understanding of core reinforcement learning concepts and the $\\epsilon$-greedy reinforcement learning algorithm.\n",
        "\n",
        "Sections:\n",
        "0. Background on essential reinforcement concepts that we will be engagning with hands-on.\n",
        "1. Investigating random and $\\epsilon$-greedy algorithms in a simple bandit task.\n",
        "2. Investigating the effect of different parameters in the $\\epsilon$ greedy algorithm."
      ],
      "metadata": {
        "id": "lUSvmC5RuNU7"
      }
    },
    {
      "cell_type": "markdown",
      "metadata": {
        "id": "LRTZMraJwvUh"
      },
      "source": [
        "## Background\n",
        "\n",
        "### The bandit task\n",
        "\n",
        "In this assignment we study exploration in the very abstract $k$-armed bandit task.\n",
        "- In this there are $k$ actions to take.\n",
        "- Each returns a reward $R$, with some probability $p$.\n",
        "- The reward value is either a 1 or a 0.\n",
        "- This means the expected value of each arm is simply probability. Nice and simple right?\n",
        "\n",
        "### Action-value learning\n",
        "\n",
        "Our agents are really learning, at last. Reinforcement Learning (RL), to be precise. \n",
        "\n",
        "The reward value $Q$ update rule for all agents (below) and arm is the same:\n",
        "\n",
        "$$ Q \\leftarrow Q + \\alpha * (R - Q) $$ [1]\n",
        "\n",
        "Where the learning rate on the reward prediction error ($R-Q$) is denoted as $\\alpha$, so that the equation above looks nice. If you are not familiar with the idea of a learning rate, it is what it sounds like. A parameter that controls how much each value update matters. This is, over time, the rate at which learning happens.\n",
        "\n",
        "$Q$ is trying to approximate the average reward value of each arm.\n",
        "\n",
        "- This kind of difference $(R - Q)$, the reward prediction error (RPE), in Eq [1] is the most typical error signal used for learnin gin RL.\n",
        "- If you're not sure what it means, consider in your head, what would happen to the value update if $Q$ was bigger than the reward $R$ (and overestimate), or if it was smaller.\n",
        "\n",
        "Once you have noodled that a bit, as needed, consider how making $\\alpha$ bigger or smaller might make $Q$ learning faster, or slower, or more or less volatile. (Learning speed and volatility _often_ go together; an annoying matched set.)\n",
        "\n",
        "_Note_: We are not going to really play with $\\alpha$ here. Just giving you some intuition.\n",
        "\n",
        "### Basic exploration strategies\n",
        "\n",
        "Our exploration strategies are a random one, a sequential one, or $\\epsilon$-greedy (aka 'e'-greedy). \n",
        "\n",
        "The $\\epsilon$-greedy method is not the best known solution to trading off exploration with exploitation. Then again, it is widely used to this day. It's a place to start.\n",
        "\n",
        "Our metric is _total reward_. Maximizing that is the goal of all RL, afterall."
      ]
    },
    {
      "cell_type": "markdown",
      "source": [
        "## Section - Setup"
      ],
      "metadata": {
        "id": "PAQMapBwwx2b"
      }
    },
    {
      "cell_type": "code",
      "execution_count": null,
      "metadata": {
        "id": "toAbP_djwvUk"
      },
      "outputs": [],
      "source": [
        "# Install explorationlib?\n",
        "!pip install --upgrade git+https://github.com/coaxlab/explorationlib\n",
        "!pip install --upgrade git+https://github.com/MattChanTK/gym-maze.git"
      ]
    },
    {
      "cell_type": "code",
      "execution_count": null,
      "metadata": {
        "id": "8n86JdtMwvUl"
      },
      "outputs": [],
      "source": [
        "import shutil\n",
        "import glob\n",
        "import os\n",
        "import numpy as np\n",
        "import pandas as pd\n",
        "import seaborn as sns\n",
        "import matplotlib.pyplot as plt\n",
        "\n",
        "import explorationlib\n",
        "\n",
        "from explorationlib.local_gym import BanditUniform4\n",
        "from explorationlib.agent import BanditActorCritic\n",
        "from explorationlib.agent import Critic\n",
        "from explorationlib.agent import EpsilonActor\n",
        "from explorationlib.agent import RandomActor\n",
        "from explorationlib.agent import SequentialActor\n",
        "from explorationlib.agent import BoundedRandomActor\n",
        "from explorationlib.agent import BoundedSequentialActor\n",
        "\n",
        "from explorationlib.run import experiment\n",
        "from explorationlib.score import total_reward\n",
        "from explorationlib.score import action_entropy\n",
        "from explorationlib.util import select_exp\n",
        "from explorationlib.util import load\n",
        "from explorationlib.util import save\n",
        "\n",
        "from explorationlib.plot import plot_bandit\n",
        "from explorationlib.plot import plot_bandit_actions\n",
        "from explorationlib.plot import plot_bandit_critic\n",
        "from explorationlib.plot import plot_bandit_hist"
      ]
    },
    {
      "cell_type": "code",
      "execution_count": null,
      "metadata": {
        "id": "AwT-kGsQwvUm"
      },
      "outputs": [],
      "source": [
        "# Pretty plots\n",
        "%matplotlib inline\n",
        "%config InlineBackend.figure_format='retina'\n",
        "%config IPCompleter.greedy=True\n",
        "plt.rcParams[\"axes.facecolor\"] = \"white\"\n",
        "plt.rcParams[\"figure.facecolor\"] = \"white\"\n",
        "plt.rcParams[\"font.size\"] = \"16\"\n",
        "\n",
        "# Dev\n",
        "%load_ext autoreload\n",
        "%autoreload 2"
      ]
    },
    {
      "cell_type": "markdown",
      "metadata": {
        "id": "zfROgMnJwvUm"
      },
      "source": [
        "## Section 1 - The bandit task\n",
        "\n",
        "In this section we'll study three explorers getting to know one bandit, with four arms."
      ]
    },
    {
      "cell_type": "markdown",
      "metadata": {
        "id": "owAFhjOXwvUm"
      },
      "source": [
        "### Creating a bandit task\n",
        "\n",
        "Let's make a 4-armed bandit and then plot its values. (Expected value is the term used in the literature, so we use it here). \n",
        "\n",
        "_Note_: The random seed is fixed. If you change the see and run the cell below, some of the reward probabilities will change. The probability of the best arm, the optimal value arm is fixed however. It is set to 0.35, and located at arm 2. Try it! Rerun the cell below with different seeds, a few times, to get a sense of how the non-optimal arms can vary. When you are done, return to the orginal seed value and re-run."
      ]
    },
    {
      "cell_type": "code",
      "execution_count": null,
      "metadata": {
        "id": "ldh9g0gkwvUm"
      },
      "outputs": [],
      "source": [
        "# Shared env params\n",
        "num_experiments = 1\n",
        "seed = 5030 # originally 5030\n",
        "\n",
        "# Create env\n",
        "env = BanditUniform4(p_min=0.1, p_max=0.3, p_best=0.35)\n",
        "env.seed(seed)\n",
        "\n",
        "# Plot env\n",
        "plot_bandit(env, alpha=0.6)"
      ]
    },
    {
      "cell_type": "markdown",
      "source": [
        "### Question 1.1\n",
        "\n",
        "Given the reward probabilities (expected values) in this bandit task, how \"easy\" or \"difficult\" do you think this task would be to learn from a simple update rule like we showed above? Why?"
      ],
      "metadata": {
        "id": "YjZ_XWsz2b0i"
      }
    },
    {
      "cell_type": "code",
      "source": [
        "# Write your answer here, as a comment. Explain yourself."
      ],
      "metadata": {
        "id": "DR0_mdNC3dxN"
      },
      "execution_count": null,
      "outputs": []
    },
    {
      "cell_type": "markdown",
      "metadata": {
        "id": "ffNrJY8rwvUm"
      },
      "source": [
        "### Our three agents\n",
        "\n",
        "A word about the code. Our agents this week work in what gets called an ActorCritic desgin. This breaks reinforcement learning algorithms into two parts: the Actor does action selection, and the Critic estimates the value of each action.\n",
        "\n",
        "Now in normal reinforcement learning, aka not pure exploration, the _Actor_ uses the $Q$ value estimates from the _Critic_ to, in part, make its decisions. Be it explore or exploit. This is indeed the case for how the $\\epsilon$-greedy agent, _EpsilonActor_, works. \n",
        "\n",
        "...But... \n",
        "\n",
        "The other two agents--_SequentialActor_ and _RandomActor_--don't explore with value. The are both _max entropy_ action systems, who don't care about reward value or learning _at all_. The _ActorCritic_ style is reused because it was easy to implement in _explorationlib_. Don't be misled."
      ]
    },
    {
      "cell_type": "code",
      "execution_count": null,
      "metadata": {
        "id": "8sOdwj-xwvUn"
      },
      "outputs": [],
      "source": [
        "# Creating the three agents\n",
        "\n",
        "ran = BanditActorCritic(\n",
        "    RandomActor(num_actions=env.num_arms),\n",
        "    Critic(num_inputs=env.num_arms, default_value=0.0)\n",
        ")\n",
        "seq = BanditActorCritic(\n",
        "    SequentialActor(num_actions=env.num_arms),\n",
        "    Critic(num_inputs=env.num_arms, default_value=0.0)\n",
        ")\n",
        "epy = BanditActorCritic(\n",
        "    EpsilonActor(num_actions=env.num_arms, epsilon=0.1),\n",
        "    Critic(num_inputs=env.num_arms, default_value=0.0)\n",
        ")\n",
        "\n",
        "# -\n",
        "agents = [ran, seq, epy]\n",
        "names = [\"random\", \"sequential\", \"ep-greedy\"]\n",
        "colors = [\"blue\", \"green\", \"purple\"]"
      ]
    },
    {
      "cell_type": "markdown",
      "metadata": {
        "id": "TF1NseL9wvUn"
      },
      "source": [
        "Let's run out our three agents on the _env_ (the bandit task we built), and make some plots to visualize what each agent is doing."
      ]
    },
    {
      "cell_type": "code",
      "execution_count": null,
      "metadata": {
        "id": "gf3a1e_qwvUn"
      },
      "outputs": [],
      "source": [
        "num_steps = 12  # Number of choices each agent gets to make, (around 3 per arm)\n",
        "\n",
        "# !\n",
        "results = []\n",
        "for name, agent in zip(names, agents):\n",
        "    log = experiment(\n",
        "        f\"{name}\",\n",
        "        agent,\n",
        "        env,\n",
        "        num_steps=num_steps,\n",
        "        num_experiments=num_experiments,\n",
        "        dump=False,\n",
        "        split_state=False,\n",
        "    )\n",
        "    results.append(log)"
      ]
    },
    {
      "cell_type": "markdown",
      "metadata": {
        "id": "gPy-QdJuwvUn"
      },
      "source": [
        "#### Plot action choices \n",
        "with time (aka steps)."
      ]
    },
    {
      "cell_type": "code",
      "execution_count": null,
      "metadata": {
        "id": "MCHcNGuvwvUn"
      },
      "outputs": [],
      "source": [
        "num_experiment = 0\n",
        "for name, res, color in zip(names, results, colors):\n",
        "    plot_bandit_actions(\n",
        "        select_exp(res, num_experiment), \n",
        "        num_arms=4,\n",
        "        s=4,\n",
        "        title=name, \n",
        "        color=color,\n",
        "        figsize=(2, 1.5)\n",
        "        )"
      ]
    },
    {
      "cell_type": "markdown",
      "source": [
        "### Question 1.2\n",
        "\n",
        "Describe the coice behavior of each agent type."
      ],
      "metadata": {
        "id": "3EjrCSFr4Etr"
      }
    },
    {
      "cell_type": "code",
      "source": [
        "# Write your answer here, as a comment."
      ],
      "metadata": {
        "id": "PpkTOv6I4OES"
      },
      "execution_count": null,
      "outputs": []
    },
    {
      "cell_type": "markdown",
      "source": [
        "### Question 1.3\n",
        "\n",
        "Re-run the simulations above a few times. What range of choice patterns does epsilon-greedy agent exhibit? What do you think leads to these patterns?"
      ],
      "metadata": {
        "id": "Q42JrbQg4Qhn"
      }
    },
    {
      "cell_type": "code",
      "source": [
        "# Write your answer here, as a comment. Explain yourself."
      ],
      "metadata": {
        "id": "GT5YNP174gz1"
      },
      "execution_count": null,
      "outputs": []
    },
    {
      "cell_type": "markdown",
      "source": [
        "### Question 1.4\n",
        "\n",
        "Now change the ϵ value for the ϵ-greedy agent to $0.01$ and re-run the simulations a few times. How does the behavior of this agent change? What does this tell you about the utility of greediness in this particular form of the bandit task?"
      ],
      "metadata": {
        "id": "DVpmoA9ZG_8M"
      }
    },
    {
      "cell_type": "code",
      "source": [
        "# Write your answer here, as a comment. Explain yourself."
      ],
      "metadata": {
        "id": "hcmle6PcHYvS"
      },
      "execution_count": null,
      "outputs": []
    },
    {
      "cell_type": "markdown",
      "metadata": {
        "id": "dlvfeC_xwvUo"
      },
      "source": [
        "#### Histograms of action probability (aka arm choice). \n",
        "\n",
        "_Fun fact_: The flatter these plots are, the closer they are to what is called _maximum entropy_ exploration behavior."
      ]
    },
    {
      "cell_type": "code",
      "execution_count": null,
      "metadata": {
        "id": "ed_pxA31wvUo"
      },
      "outputs": [],
      "source": [
        "num_experiment = 0\n",
        "ax = None\n",
        "for name, res, color in zip(names, results, colors):\n",
        "    ent = np.round(np.mean(action_entropy(res)), 2)\n",
        "    plot_bandit_hist(\n",
        "        select_exp(res, num_experiment), \n",
        "        bins=list(range(0, 5)),\n",
        "        title=f\"{name}\", # (ent {ent})\", \n",
        "        alpha=0.4,\n",
        "        color=color,\n",
        "        figsize=(3, 3),\n",
        "        ax=ax\n",
        "        )"
      ]
    },
    {
      "cell_type": "markdown",
      "source": [
        "## Section 2 - Investigating the epsilon-greedy algorithm"
      ],
      "metadata": {
        "id": "qOYFZdvQ6ESg"
      }
    },
    {
      "cell_type": "markdown",
      "metadata": {
        "id": "PoBNZ7cOwvUq"
      },
      "source": [
        "#### Meet our dilemma\n",
        "I've been learning Q-value estimates.\n",
        "* Should I explore (keep sampling the options to get more data points to update Q-value estimates)?\n",
        "* Should I exploit (choose the action whose Q value estimate is currently the greatest)?\n",
        "\n",
        "*A simple strategy:*\n",
        "\n",
        "....I'll flip a weight coin, \n",
        "\n",
        "...who's weight has a name. It's $\\epsilon$! \n",
        "\n",
        "The smaller $\\epsilon$ is, the less likely the coin flip comes up \"EXPLORE''. The more likely it comes up on the \"EXPLOIT\" side. If one chooses the exploit side, one is being greedy, right? The bigger $\\epsilon$ the more likely the coin will say \"EXPLORE ''. Etc.\n",
        "\n",
        "Let's play with $\\epsilon$-greedy, on our base case bandit task."
      ]
    },
    {
      "cell_type": "markdown",
      "source": [
        "## Question 2.1\n",
        "\n",
        "We will run three differnt epsilon-greedy agents, each with a different epsilon value (0.05, 0.5, and 0.95). What do you expect each agent's stepwise behavior to \"look like\"? Why?"
      ],
      "metadata": {
        "id": "EEhndJTY7xf5"
      }
    },
    {
      "cell_type": "code",
      "source": [
        "# Write your answer here, as a comment. Explain yourself."
      ],
      "metadata": {
        "id": "kItnsV1E85YQ"
      },
      "execution_count": null,
      "outputs": []
    },
    {
      "cell_type": "code",
      "execution_count": null,
      "metadata": {
        "id": "MUfRwZ3UwvUq"
      },
      "outputs": [],
      "source": [
        "num_steps = 4 * 100\n",
        "epsilons = [0.05, 0.5, 0.95]\n",
        "\n",
        "names = [str(epsilon) for epsilon in epsilons]\n",
        "colors = [\"mediumpurple\", \"mediumorchid\", \"mediumvioletred\"]\n",
        "\n",
        "# !\n",
        "results = []\n",
        "for i, (name, epsilon) in enumerate(zip(names, epsilons)):\n",
        "    agent = BanditActorCritic(\n",
        "        EpsilonActor(num_actions=env.num_arms, epsilon=epsilon),\n",
        "        Critic(num_inputs=env.num_arms, default_value=0.0)\n",
        "    )\n",
        "    log = experiment(\n",
        "        f\"ep_{name}\",\n",
        "        agent,\n",
        "        env,\n",
        "        num_steps=num_steps,\n",
        "        num_experiments=100,\n",
        "        dump=False,\n",
        "        split_state=False,\n",
        "    )\n",
        "    results.append(log)"
      ]
    },
    {
      "cell_type": "markdown",
      "metadata": {
        "id": "FlbA6-w7wvUq"
      },
      "source": [
        "Example behavior visualizations below. Change _num experiment_ to see more examples (0, 99). \n",
        "\n",
        "_Note_: in every experiment we run in this lab, the optimal value arm is _always_ arm 2."
      ]
    },
    {
      "cell_type": "code",
      "execution_count": null,
      "metadata": {
        "id": "INl8PhkIwvUq"
      },
      "outputs": [],
      "source": [
        "num_experiment = 3\n",
        "for name, res, color in zip(names, results, colors):\n",
        "    plot_bandit_actions(\n",
        "        select_exp(res, num_experiment), \n",
        "        max_steps=200,\n",
        "        s=4,\n",
        "        title=\"epsilon = \" + name, \n",
        "        color=color,\n",
        "        figsize=(3, 1)\n",
        "        )"
      ]
    },
    {
      "cell_type": "markdown",
      "source": [
        "### Question 2.2\n",
        "\n",
        "Did the behavior match what you expected? If not, describe the actual behavior and explain what you think is behind it."
      ],
      "metadata": {
        "id": "3oVDLY4d9AQG"
      }
    },
    {
      "cell_type": "code",
      "source": [
        "# Write your answer here, as a comment. Explain yourself (if necessary)."
      ],
      "metadata": {
        "id": "ApCfTqQC9zO_"
      },
      "execution_count": null,
      "outputs": []
    },
    {
      "cell_type": "markdown",
      "source": [
        "## Question 2.3\n",
        "\n",
        "Re-run the stepwise choice behavior visualization at different `num_experiment` settings to view what happens in different experiments. Find a case when epsilon=0.05 agent didn't select the best arm (Arm 2) very much. How do you think this happened?"
      ],
      "metadata": {
        "id": "33LJ1A_donZ9"
      }
    },
    {
      "cell_type": "code",
      "source": [
        "# Write your answer here, as a comment. Explain yourself."
      ],
      "metadata": {
        "id": "D3HCCSdJ--ZO"
      },
      "execution_count": null,
      "outputs": []
    },
    {
      "cell_type": "markdown",
      "source": [
        "### Question 2.4\n",
        "\n",
        "We will visualize the average total reward for each agent next. Which agent do you think will collect the most reward and which one the least? Why?"
      ],
      "metadata": {
        "id": "-DenCGlj_L3z"
      }
    },
    {
      "cell_type": "code",
      "source": [
        "# Write your answer here, as a comment. Explain yourself."
      ],
      "metadata": {
        "id": "wOu0dMDh_he4"
      },
      "execution_count": null,
      "outputs": []
    },
    {
      "cell_type": "markdown",
      "source": [
        "### Question 2.5\n",
        "\n",
        "Which agent do you think will exhibit the most variance in total reward across experiments? Why?"
      ],
      "metadata": {
        "id": "-os4akOs_kYm"
      }
    },
    {
      "cell_type": "code",
      "source": [
        "# Write your answer here, as a comment. Explain yourself."
      ],
      "metadata": {
        "id": "O1ZV1DiL_3Dw"
      },
      "execution_count": null,
      "outputs": []
    },
    {
      "cell_type": "markdown",
      "metadata": {
        "id": "pOjKKMBHwvUr"
      },
      "source": [
        "#### Visualize total reward "
      ]
    },
    {
      "cell_type": "code",
      "execution_count": null,
      "metadata": {
        "id": "Um4uiocCwvUr"
      },
      "outputs": [],
      "source": [
        "# Score\n",
        "scores = []\n",
        "for name, res, color in zip(names, results, colors):\n",
        "    r = total_reward(res)\n",
        "    scores.append(r)   \n",
        "\n",
        "# Tabulate\n",
        "m, sd = [], []\n",
        "for (name, s, c) in zip(names, scores, colors):\n",
        "    m.append(np.mean(s))\n",
        "    sd.append(np.std(s))\n",
        "\n",
        "# Plot means\n",
        "fig = plt.figure(figsize=(3, 3))\n",
        "plt.bar(names, m, yerr=sd, color=colors, alpha=0.8)\n",
        "plt.ylabel(\"Total reward\")\n",
        "plt.xlabel(\"Epsilon\")\n",
        "plt.tight_layout()\n",
        "sns.despine()"
      ]
    },
    {
      "cell_type": "markdown",
      "source": [
        "### Question 2.6\n",
        "\n",
        "Were your predictions in questions 2.4 and 2.5 correct? If not, describe the actual results and explain what you think led to them."
      ],
      "metadata": {
        "id": "r9OyVujF__Zi"
      }
    },
    {
      "cell_type": "code",
      "source": [
        "# Write your answer here, as a comment. Explain yourself (if necessary)."
      ],
      "metadata": {
        "id": "3Y0S_JFO_82E"
      },
      "execution_count": null,
      "outputs": []
    },
    {
      "cell_type": "markdown",
      "source": [
        "#### Visualizing a histogram of average choice reward across experiments\n",
        "\n",
        "To get average choice reward for each experiment, we divide the total reward for the experiment by the number of steps (choices) taken to collect that total reward."
      ],
      "metadata": {
        "id": "Hu4nbPHSAcRm"
      }
    },
    {
      "cell_type": "code",
      "execution_count": null,
      "metadata": {
        "id": "p1EpR9H8wvUr"
      },
      "outputs": [],
      "source": [
        "fig = plt.figure(figsize=(6, 3))\n",
        "for (name, s, c) in zip(names, scores, colors):\n",
        "    plt.hist(np.array(s)/num_steps, label=name, color=c, alpha=0.8, bins=np.linspace(0, 0.35, 50))\n",
        "    plt.legend()\n",
        "    plt.xlabel(\"Average choice reward\")\n",
        "    plt.ylabel(\"Count\")\n",
        "    plt.tight_layout()\n",
        "    sns.despine()"
      ]
    },
    {
      "cell_type": "markdown",
      "source": [
        "### Question 2.7\n",
        "\n",
        "If instead of 400 steps in each experiment we let each agent run to near infinity, what would the above histogram look like and why?"
      ],
      "metadata": {
        "id": "yqDghdsEpMzn"
      }
    },
    {
      "cell_type": "code",
      "source": [
        "# Write your answer here, as a comment. Explain yourself."
      ],
      "metadata": {
        "id": "8M8LM98-CaMZ"
      },
      "execution_count": null,
      "outputs": []
    },
    {
      "cell_type": "markdown",
      "metadata": {
        "id": "aqrNOWdCwvUy"
      },
      "source": [
        "### Question 2.8\n",
        "\n",
        "Based on what you've seen here today, if you were to follow an ϵ-greedy policy for choices in your own life, what value of ϵ would you choose? Why?"
      ]
    },
    {
      "cell_type": "code",
      "execution_count": null,
      "metadata": {
        "id": "ZZJzkvMmwvUy"
      },
      "outputs": [],
      "source": [
        "# Write your answer here, as a comment. Explain yourself."
      ]
    }
  ],
  "metadata": {
    "colab": {
      "provenance": [],
      "collapsed_sections": [],
      "include_colab_link": true
    },
    "kernelspec": {
      "display_name": "Python 3.6.7 64-bit",
      "name": "python3"
    },
    "language_info": {
      "codemirror_mode": {
        "name": "ipython",
        "version": 3
      },
      "file_extension": ".py",
      "mimetype": "text/x-python",
      "name": "python",
      "nbconvert_exporter": "python",
      "pygments_lexer": "ipython3",
      "version": "3.6.7-final"
    }
  },
  "nbformat": 4,
  "nbformat_minor": 0
}