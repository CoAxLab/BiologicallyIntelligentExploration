{
 "cells": [
  {
   "cell_type": "markdown",
   "metadata": {},
   "source": [
    "# Project template - Lab\n",
    "\n",
    "## Introduction\n",
    "In this notebook we study exploration in <_...the general setting..._>. \n",
    "\n",
    "We look at what happens when <..._summary of project_...>\n",
    "\n",
    "## Agents\n",
    "The exploration strategies/agents are <_...the agents..._>\n",
    "\n",
    "## Environment\n",
    "The world is <_...the environment(s)..._>\n",
    "\n",
    "## Goals\n",
    "The specific questions we wish to answer are <_...your hypothesis(es)..._>, for these agents and these environment(s).\n",
    "\n",
    "## Sections\n",
    "There are _N_ experiments/sections. (There is no min/max number. Break the project down as makes sense to you).\n",
    "\n",
    "- _Section 1_ is a <..._what is the purpose_...>\n",
    "- _Section 2_ is a <..._what is the purpose_...>\n",
    "- _Etc_\n",
    "\n",
    "## Metric\n",
    "Our metrics of interest are <_...the metrics..._>\n",
    "\n",
    "## The TED talk moment\n",
    "The big question for this project is <...why is this project important or interesting to you, **and** to your reader...> "
   ]
  },
  {
   "cell_type": "markdown",
   "metadata": {},
   "source": [
    "## Install and import needed modules"
   ]
  },
  {
   "cell_type": "code",
   "execution_count": null,
   "metadata": {},
   "outputs": [],
   "source": [
    "# Install explorationlib?\n",
    "!pip install --upgrade git+https://github.com/parenthetical-e/explorationlib\n",
    "!pip install --upgrade git+https://github.com/MattChanTK/gym-maze.git"
   ]
  },
  {
   "cell_type": "markdown",
   "metadata": {},
   "source": [
    "### Import modules\n",
    "Import what _you_ need"
   ]
  },
  {
   "cell_type": "code",
   "execution_count": 2,
   "metadata": {},
   "outputs": [],
   "source": [
    "import numpy as np\n",
    "import pandas as pd\n",
    "import seaborn as sns\n",
    "import matplotlib.pyplot as plt\n",
    "from copy import deepcopy\n",
    "\n",
    "import explorationlib\n",
    "# etc"
   ]
  },
  {
   "cell_type": "markdown",
   "metadata": {},
   "source": [
    "### Config notebook\n",
    "Please include this."
   ]
  },
  {
   "cell_type": "code",
   "execution_count": 3,
   "metadata": {},
   "outputs": [],
   "source": [
    "# Pretty plots\n",
    "%matplotlib inline\n",
    "%config InlineBackend.figure_format='retina'\n",
    "%config IPCompleter.greedy=True\n",
    "\n",
    "plt.rcParams[\"axes.facecolor\"] = \"white\"\n",
    "plt.rcParams[\"figure.facecolor\"] = \"white\"\n",
    "plt.rcParams[\"font.size\"] = \"16\"\n",
    "\n",
    "# Dev\n",
    "%load_ext autoreload\n",
    "%autoreload 2"
   ]
  },
  {
   "cell_type": "markdown",
   "metadata": {},
   "source": [
    "## Shared code"
   ]
  },
  {
   "cell_type": "code",
   "execution_count": 5,
   "metadata": {},
   "outputs": [],
   "source": [
    "# If you have code (env,agents,params) to share across ALL sections\n",
    "# put it here please."
   ]
  },
  {
   "cell_type": "markdown",
   "metadata": {},
   "source": [
    "## Section 1 - TITLE\n",
    "In this section we <..._Summary of this section's goals_...>. I want to show that <....>"
   ]
  },
  {
   "cell_type": "code",
   "execution_count": 6,
   "metadata": {},
   "outputs": [],
   "source": [
    "# Put section 1 code here"
   ]
  },
  {
   "cell_type": "code",
   "execution_count": 10,
   "metadata": {},
   "outputs": [],
   "source": [
    "# Use as many cells as you need."
   ]
  },
  {
   "cell_type": "markdown",
   "metadata": {},
   "source": [
    "### Subsection\n",
    "Use subsections to further breakdown the work, and **to explain any conclusions you reach** along the way.\n",
    "\n",
    "I take the results from <....cells....> to mean that <...the conclusion you want the reader to reach.\n",
    "\n",
    "However, I want to see how <_...lead into the next subsection/section..._>\n",
    "\n",
    "AKA use markdown formatted cells (like this one) to guide the reader through your experiments"
   ]
  },
  {
   "cell_type": "markdown",
   "metadata": {},
   "source": [
    "### Plots\n",
    "When you create plots/visualizations ALWAYS explain what they are of, and what they mean."
   ]
  },
  {
   "cell_type": "markdown",
   "metadata": {},
   "source": [
    "## Section 2 - TITLE\n",
    "In this section we <..._Summary of this sections goals_...>"
   ]
  },
  {
   "cell_type": "code",
   "execution_count": null,
   "metadata": {},
   "outputs": [],
   "source": [
    "# Put section 2 code here"
   ]
  },
  {
   "cell_type": "code",
   "execution_count": 13,
   "metadata": {},
   "outputs": [],
   "source": [
    "# Use as many cells as you need."
   ]
  },
  {
   "cell_type": "markdown",
   "metadata": {},
   "source": [
    "## Etc\n",
    " More sections needed?"
   ]
  },
  {
   "cell_type": "markdown",
   "metadata": {},
   "source": [
    "## Conclusions\n",
    "Summarize all your results. Use them to argue for (or against) your specific hypothesis, and the big picture TED talk moment.\n",
    "\n",
    "Explain what you would like the reader to take away from this project."
   ]
  },
  {
   "cell_type": "code",
   "execution_count": null,
   "metadata": {},
   "outputs": [],
   "source": []
  },
  {
   "cell_type": "code",
   "execution_count": null,
   "metadata": {},
   "outputs": [],
   "source": []
  }
 ],
 "metadata": {
  "kernelspec": {
   "display_name": "Python 3",
   "language": "python",
   "name": "python3"
  },
  "language_info": {
   "codemirror_mode": {
    "name": "ipython",
    "version": 3
   },
   "file_extension": ".py",
   "mimetype": "text/x-python",
   "name": "python",
   "nbconvert_exporter": "python",
   "pygments_lexer": "ipython3",
   "version": "3.7.7"
  }
 },
 "nbformat": 4,
 "nbformat_minor": 2
}
