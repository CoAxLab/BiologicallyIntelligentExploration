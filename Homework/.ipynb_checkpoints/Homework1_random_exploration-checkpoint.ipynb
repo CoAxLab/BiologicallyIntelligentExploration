{
 "cells": [
  {
   "cell_type": "markdown",
   "metadata": {},
   "source": [
    "# Getting started\n",
    "You first homework assignemnt is designed to get you setup and started with GitHub and Jupyter notebooks, as well as get comfortable with running some basic levy walk simulations. \n",
    "  \n",
    "**Note:** This repository will be where you post your homeworks and other assignments throughout the semester."
   ]
  },
  {
   "cell_type": "markdown",
   "metadata": {},
   "source": [
    "---\n",
    "## Part 1: Setting up Github & Jupyter Notebooks"
   ]
  },
  {
   "cell_type": "markdown",
   "metadata": {},
   "source": [
    "1. Setup a GitHub account and create a new repository with the following name:\n",
    "    * <your\\_last\\_name>\\_BIX\\_F21\n",
    "    * Add the users _coaxlab0_ (that’s a zero at the end) and _clappm_ as collaborators."
   ]
  },
  {
   "cell_type": "markdown",
   "metadata": {},
   "source": [
    "2. Clone the repository locally on your computer"
   ]
  },
  {
   "cell_type": "markdown",
   "metadata": {},
   "source": [
    "3. Install jupyter notebooks on your computer. (Be sure it is integrated with at least Python 3.7)"
   ]
  },
  {
   "cell_type": "markdown",
   "metadata": {},
   "source": [
    "4. Download this template notebook into your class repository"
   ]
  },
  {
   "cell_type": "markdown",
   "metadata": {},
   "source": [
    "5. Push your Jupyter notebook to the repository you made on Github after saving and completing part 2."
   ]
  },
  {
   "cell_type": "markdown",
   "metadata": {
    "id": "kjyn1J2MV1lq"
   },
   "source": [
    "---\n",
    "## Part 2: Simple random walk simulations\n",
    "\n",
    "Next you will run a few simulations to see how the different parameters on random walk (Gaussian vs. Levy) influence the behavior of the agents.\n",
    "\n",
    "Fill out the code cells below to complete the assignment.  Most of the programming is extremely straight-forward, as it is all based on the code from the lab, which you can use/modify in this notebook."
   ]
  },
  {
   "cell_type": "markdown",
   "metadata": {
    "id": "kY8ciO__VlDg"
   },
   "source": [
    "### Install _explorationlib_"
   ]
  },
  {
   "cell_type": "code",
   "execution_count": null,
   "metadata": {
    "id": "oZlPnwa-VaK2"
   },
   "outputs": [],
   "source": [
    "### your code below\n",
    "\n",
    "### your code above"
   ]
  },
  {
   "cell_type": "markdown",
   "metadata": {
    "id": "rO5gZcxcVxT6"
   },
   "source": [
    "### Import modules"
   ]
  },
  {
   "cell_type": "code",
   "execution_count": null,
   "metadata": {
    "id": "vgFy5_M_VwhL"
   },
   "outputs": [],
   "source": [
    "### your code below\n",
    "\n",
    "### your code above"
   ]
  },
  {
   "cell_type": "markdown",
   "metadata": {
    "id": "ErkmvoTlWO70"
   },
   "source": [
    "### Additional notebook configuration"
   ]
  },
  {
   "cell_type": "code",
   "execution_count": null,
   "metadata": {
    "id": "21y0XOi-WYpU"
   },
   "outputs": [],
   "source": [
    "### your code below\n",
    "\n",
    "### your code above"
   ]
  },
  {
   "cell_type": "markdown",
   "metadata": {
    "id": "B1-OfpCLahk6"
   },
   "source": [
    "## Section - Increasing Step Size\n",
    "\n",
    "Run a batch of simulation with an increased step size (the baseline value is `0.1`).  The code for running these simulations will be essentially identical to the simulation code in the lab."
   ]
  },
  {
   "cell_type": "markdown",
   "metadata": {
    "id": "B0hCfWgPa29o"
   },
   "source": [
    "### Initialize and run the experiments\n",
    "\n",
    "- set the parameters\n",
    "- create the environment\n",
    "- create the agents\n",
    "- run the experiments\n",
    "\n",
    "Feel free to create as many code cells as you would like."
   ]
  },
  {
   "cell_type": "code",
   "execution_count": null,
   "metadata": {
    "id": "RewATQN1WZvu"
   },
   "outputs": [],
   "source": [
    "### your code below\n",
    "\n",
    "### your code above"
   ]
  },
  {
   "cell_type": "markdown",
   "metadata": {
    "id": "VOunUmnqbuv-"
   },
   "source": [
    "### Visualize the trajectories\n",
    "\n",
    "Plot the trajectories taken by the agents"
   ]
  },
  {
   "cell_type": "code",
   "execution_count": null,
   "metadata": {
    "id": "A2o8Fuw5b0Dt"
   },
   "outputs": [],
   "source": [
    "### your code below\n",
    "\n",
    "### your code above"
   ]
  },
  {
   "cell_type": "markdown",
   "metadata": {
    "id": "88Wenamub4h_"
   },
   "source": [
    "### Question: How do these trajectories compare to those observed during the lab?  What effect did increasing the step size have?\n",
    "\n",
    "Write an answer here."
   ]
  },
  {
   "cell_type": "markdown",
   "metadata": {
    "id": "JSEHudnYb1jv"
   },
   "source": [
    "## Section - Increasing Detection Radius\n",
    "\n",
    "Run a batch of simulation with an increased detection radius (the baseline value is `1`)."
   ]
  },
  {
   "cell_type": "markdown",
   "metadata": {
    "id": "RLzoZqEKcU2F"
   },
   "source": [
    "### Initialize and run the experiments\n",
    "\n",
    "- set the parameters\n",
    "- create the environment\n",
    "- create the agents\n",
    "- run the experiments\n",
    "\n",
    "Feel free to create as many code cells as you would like."
   ]
  },
  {
   "cell_type": "code",
   "execution_count": null,
   "metadata": {
    "id": "FeCpbiRrcU2F"
   },
   "outputs": [],
   "source": [
    "### your code below\n",
    "\n",
    "### your code above"
   ]
  },
  {
   "cell_type": "markdown",
   "metadata": {
    "id": "lwzkKDd4cXUM"
   },
   "source": [
    "### Visualize the average reward\n",
    "\n",
    "Plot the average reward values acheived by each of the agents"
   ]
  },
  {
   "cell_type": "code",
   "execution_count": null,
   "metadata": {
    "id": "hJnFvl83cXUM"
   },
   "outputs": [],
   "source": [
    "### your code below\n",
    "\n",
    "### your code above"
   ]
  },
  {
   "cell_type": "markdown",
   "metadata": {
    "id": "Y2Ot2hHUchtv"
   },
   "source": [
    "### Question: How do these average reward values compare to those observed during the lab? What effect did increasing the detection radius have?\n",
    "\n",
    "Write an answer here."
   ]
  },
  {
   "cell_type": "markdown",
   "metadata": {},
   "source": [
    "**DUE:** 5pm EST, Sept 23, 2021. Email the link to the completed notebook on your Github repository to the TA and me via Canvas."
   ]
  },
  {
   "cell_type": "markdown",
   "metadata": {},
   "source": [
    "**IMPORTANT** Did you collaborate with anyone on this assignment? If so, list their names here. \n",
    "> *Someone's Name*"
   ]
  }
 ],
 "metadata": {
  "colab": {
   "collapsed_sections": [],
   "name": "bixhw1.ipynb",
   "provenance": []
  },
  "kernelspec": {
   "display_name": "Python 3",
   "language": "python",
   "name": "python3"
  },
  "language_info": {
   "codemirror_mode": {
    "name": "ipython",
    "version": 3
   },
   "file_extension": ".py",
   "mimetype": "text/x-python",
   "name": "python",
   "nbconvert_exporter": "python",
   "pygments_lexer": "ipython3",
   "version": "3.7.1"
  }
 },
 "nbformat": 4,
 "nbformat_minor": 1
}
