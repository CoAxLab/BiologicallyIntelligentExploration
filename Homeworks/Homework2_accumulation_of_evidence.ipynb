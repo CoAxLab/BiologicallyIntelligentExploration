{
  "nbformat": 4,
  "nbformat_minor": 0,
  "metadata": {
    "colab": {
      "name": "Homework2-accumulation-of-evidence.ipynb",
      "provenance": [],
      "collapsed_sections": [
        "6AYm4pEtH9O6"
      ]
    },
    "kernelspec": {
      "name": "python3",
      "display_name": "Python 3"
    },
    "language_info": {
      "name": "python"
    }
  },
  "cells": [
    {
      "cell_type": "markdown",
      "metadata": {
        "id": "NcGnAXGVqQK8"
      },
      "source": [
        "# Homework 2 - Evidence Accumulation\n",
        "\n",
        "This homework has two main parts:\n",
        "\n",
        "- First, we will build off the lab by exploring the relationship between decision threshold (one of the DDM parameters) and the performance of an accumulating agent.\n",
        "- Second, we will take a brief look at the role of randomness in the exploratory behavior of a sniffing agent."
      ]
    },
    {
      "cell_type": "markdown",
      "metadata": {
        "id": "6AYm4pEtH9O6"
      },
      "source": [
        "## Section - Setup"
      ]
    },
    {
      "cell_type": "markdown",
      "metadata": {
        "id": "H7wZ20Mhm9Dn"
      },
      "source": [
        "### Install explorationlib, import modules, configure notebook"
      ]
    },
    {
      "cell_type": "code",
      "metadata": {
        "id": "B5qSpWzbtX3b"
      },
      "source": [
        "# your code cells here"
      ],
      "execution_count": 1,
      "outputs": []
    },
    {
      "cell_type": "markdown",
      "metadata": {
        "id": "af-OcEJHthiF"
      },
      "source": [
        "## Section - Influence of Threshold on Performance [60 pts total]\n",
        "\n",
        "How does decision thershold influence behavior? Here, we will perform a parameter sweep over the decision threshold to see how the agent is affected in a basic sniffing task.\n",
        "\n",
        "For this section, you will need to slightly modify the lab code to loop over a list of thresholds rather than a list of drift rates."
      ]
    },
    {
      "cell_type": "markdown",
      "metadata": {
        "id": "XCT_K4BZuXi2"
      },
      "source": [
        "### Define shared parameters and initialize environment [5 pts]"
      ]
    },
    {
      "cell_type": "code",
      "metadata": {
        "id": "OCEi7DODu4L2"
      },
      "source": [
        "# your code cells here"
      ],
      "execution_count": null,
      "outputs": []
    },
    {
      "cell_type": "markdown",
      "metadata": {
        "id": "5C4mGF2hvIIF"
      },
      "source": [
        "### Create a list of thresholds to test [5 pts]\n",
        "\n",
        "Select at least 5 values.  For reference, the lab used a threshold of 3."
      ]
    },
    {
      "cell_type": "code",
      "metadata": {
        "id": "U8yyJVsWvRpu"
      },
      "source": [
        "# your code cells here"
      ],
      "execution_count": null,
      "outputs": []
    },
    {
      "cell_type": "markdown",
      "metadata": {
        "id": "Melo6U2mv5OT"
      },
      "source": [
        "### Run 100 experiments for each threshold [10 pts]\n",
        "\n",
        "Use a drift rate of 1.0, the middle value from the lab."
      ]
    },
    {
      "cell_type": "code",
      "metadata": {
        "id": "wLhdb12XwX8h"
      },
      "source": [
        "# your code cells here"
      ],
      "execution_count": 2,
      "outputs": []
    },
    {
      "cell_type": "markdown",
      "metadata": {
        "id": "jDqaRuTKwlF9"
      },
      "source": [
        "### Create plots of distance traveled, number of deaths, best score, and average score [10 pts]"
      ]
    },
    {
      "cell_type": "code",
      "metadata": {
        "id": "AuePnVv6wyO3"
      },
      "source": [
        "# your code cells here"
      ],
      "execution_count": null,
      "outputs": []
    },
    {
      "cell_type": "markdown",
      "metadata": {
        "id": "gny05trIt7L8"
      },
      "source": [
        "### Question 1 [15 pts]\n",
        "\n",
        "Based on the plots above and in your own words, summarize the relationship between the decision _threshold_ and the total distance, number of deaths, best reward and average reward.  How do the effects of increasing threshold compare to the effects of increasing drift rate (from the example in lab)?"
      ]
    },
    {
      "cell_type": "markdown",
      "metadata": {
        "id": "FV8ggZnUztN_"
      },
      "source": [
        "Write an answer here"
      ]
    },
    {
      "cell_type": "markdown",
      "metadata": {
        "id": "4CR2idY8xOwW"
      },
      "source": [
        "### Question 2 [10 pts]\n",
        "\n",
        "Based on your observations, do you think an accumulator is needed for this *particular* task setup?  Would you expect an agent which doesn't accumulate (having a threshold of almost zero, thus reacting immediately to its first sensory signal) to outform an agent which uses multiple time steps to accumulate evidence?"
      ]
    },
    {
      "cell_type": "markdown",
      "metadata": {
        "id": "iK3-2cKkzx0v"
      },
      "source": [
        "Write an answer here"
      ]
    },
    {
      "cell_type": "markdown",
      "metadata": {
        "id": "N9wTR7VdzMEg"
      },
      "source": [
        "### Question 3 [5 pts]\n",
        "\n",
        "Let's get philosophical. Is it better to gamble on being the best, knowing you risk death (in this task) or is it better to be average and alive? \n",
        "\n",
        "Based on the data from lab and this homework, what DDM parameters (drift rate, decision threshold) do you _personally_ prefer? There is no right answer. Be yourself."
      ]
    },
    {
      "cell_type": "markdown",
      "metadata": {
        "id": "ojII8g_rzqtE"
      },
      "source": [
        "Write an answer here"
      ]
    },
    {
      "cell_type": "markdown",
      "metadata": {
        "id": "WbRtr6jG08Tr"
      },
      "source": [
        "## Section - Is randomness still important for movement? [40 pts total]\n",
        "\n",
        "Let's take a break from evidence accumulation to revisit the simpler sniffing agent, which automatically knows the gradient direction without having to decide first.\n",
        "\n",
        "Recall that the movement of these sniffing agents is also governed by two other parameters: _p pos_ and _p neg_.  These represent the probability that the agent changes its direction before its linear movement.\n",
        "\n",
        "- If the gradient is positive at the current location, then _p pos_ is the chance of changing direction.\n",
        "- If the gradient is negative, then _p neg_ is the chance of changing direction."
      ]
    },
    {
      "cell_type": "markdown",
      "metadata": {
        "id": "S_s82d_y1vNA"
      },
      "source": [
        "### Question 4 [10 pts]\n",
        "In the example in lab, _p pos_ was 0.5, and _p neg_ was 1.0. This means that when the gradient was positive half the time the walker would change direction anyway. It also means the all the time when the grad was negative, the explorer would change direction.\n",
        "\n",
        "Do these parameter choices seem optimal to you? \n",
        "\n",
        "Make a best guess for how to improve them, if you think they can be improved. Explain your choice."
      ]
    },
    {
      "cell_type": "markdown",
      "metadata": {
        "id": "HeRFnQYo2i4J"
      },
      "source": [
        "Write an answer here"
      ]
    },
    {
      "cell_type": "markdown",
      "metadata": {
        "id": "oHIyS7jn3VUO"
      },
      "source": [
        "### Testing your hypothesis [15 pts]\n",
        "\n",
        "By (very slightly) modifying the parameters of the code from lab, rerun the comparison between diffusion, levy, and sniffing agents, but with a better selection for _p pos_ and _p neg_.  Then plot the results."
      ]
    },
    {
      "cell_type": "code",
      "metadata": {
        "id": "7ixkGo4v4agS"
      },
      "source": [
        "# your code cells here"
      ],
      "execution_count": null,
      "outputs": []
    },
    {
      "cell_type": "markdown",
      "metadata": {
        "id": "kuPEyDdy4EqV"
      },
      "source": [
        "### Question 5 [10 pts]\n",
        "\n",
        "Was your hypothesis correct? Compare the scores to those achieved in lab."
      ]
    },
    {
      "cell_type": "markdown",
      "metadata": {
        "id": "O--peuRK5MyC"
      },
      "source": [
        "Write an answer here."
      ]
    },
    {
      "cell_type": "markdown",
      "metadata": {
        "id": "1ihzZNiv5QUR"
      },
      "source": [
        "### Question 6 [5 pts]\n",
        "\n",
        "Can you imagine a situation in which setting _p pos_ to zero would be bad?  As in, could there exist an environment in which always strictly following the scent gradient is suboptimal? Use your imagination."
      ]
    },
    {
      "cell_type": "markdown",
      "metadata": {
        "id": "qEmDMilt53-d"
      },
      "source": [
        "Write an answer here."
      ]
    },
    {
      "cell_type": "markdown",
      "metadata": {
        "id": "AXTxkPUF6Ao6"
      },
      "source": [
        "## Submission\n",
        "\n",
        "**DUE:** 5pm EST, Oct 12, 2021. Email the link to the completed notebook on your Github repository to the TA and me via Canvas."
      ]
    },
    {
      "cell_type": "markdown",
      "metadata": {
        "id": "3d6uFZOB6kvI"
      },
      "source": [
        "**IMPORTANT** Did you collaborate with anyone on this assignment? If so, list their names here. \n",
        "> *Someone's Name*"
      ]
    }
  ]
}