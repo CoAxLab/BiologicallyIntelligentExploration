{
  "nbformat": 4,
  "nbformat_minor": 0,
  "metadata": {
    "colab": {
      "name": "bixhw1.ipynb",
      "provenance": [],
      "collapsed_sections": []
    },
    "kernelspec": {
      "name": "python3",
      "display_name": "Python 3"
    },
    "language_info": {
      "name": "python"
    }
  },
  "cells": [
    {
      "cell_type": "markdown",
      "metadata": {
        "id": "kjyn1J2MV1lq"
      },
      "source": [
        "## General programming instructions\n",
        "\n",
        "In this first homework assignment, you will run a few simulations to see how the different parameters influence the behavior of the agents.\n",
        "\n",
        "Fill out the code cells below to complete the assignment.  Most of the programming is extremely straight-forward, as it is all based on the code from the lab, which you can use/modify in this notebook."
      ]
    },
    {
      "cell_type": "markdown",
      "metadata": {
        "id": "kY8ciO__VlDg"
      },
      "source": [
        "### Install _explorationlib_"
      ]
    },
    {
      "cell_type": "code",
      "metadata": {
        "id": "oZlPnwa-VaK2"
      },
      "source": [
        "### your code below\n",
        "\n",
        "### your code above"
      ],
      "execution_count": null,
      "outputs": []
    },
    {
      "cell_type": "markdown",
      "metadata": {
        "id": "rO5gZcxcVxT6"
      },
      "source": [
        "### Import modules"
      ]
    },
    {
      "cell_type": "code",
      "metadata": {
        "id": "vgFy5_M_VwhL"
      },
      "source": [
        "### your code below\n",
        "\n",
        "### your code above"
      ],
      "execution_count": null,
      "outputs": []
    },
    {
      "cell_type": "markdown",
      "metadata": {
        "id": "ErkmvoTlWO70"
      },
      "source": [
        "### Additional notebook configuration"
      ]
    },
    {
      "cell_type": "code",
      "metadata": {
        "id": "21y0XOi-WYpU"
      },
      "source": [
        "### your code below\n",
        "\n",
        "### your code above"
      ],
      "execution_count": null,
      "outputs": []
    },
    {
      "cell_type": "markdown",
      "metadata": {
        "id": "B1-OfpCLahk6"
      },
      "source": [
        "## Section - Increasing Step Size\n",
        "\n",
        "Run a batch of simulation with an increased step size (the baseline value is `0.1`).  The code for running these simulations will be essentially identical to the simulation code in the lab."
      ]
    },
    {
      "cell_type": "markdown",
      "metadata": {
        "id": "B0hCfWgPa29o"
      },
      "source": [
        "### Initialize and run the experiments\n",
        "\n",
        "- set the parameters\n",
        "- create the environment\n",
        "- create the agents\n",
        "- run the experiments\n",
        "\n",
        "Feel free to create as many code cells as you would like."
      ]
    },
    {
      "cell_type": "code",
      "metadata": {
        "id": "RewATQN1WZvu"
      },
      "source": [
        "### your code below\n",
        "\n",
        "### your code above"
      ],
      "execution_count": null,
      "outputs": []
    },
    {
      "cell_type": "markdown",
      "metadata": {
        "id": "VOunUmnqbuv-"
      },
      "source": [
        "### Visualize the trajectories\n",
        "\n",
        "Plot the trajectories taken by the agents"
      ]
    },
    {
      "cell_type": "code",
      "metadata": {
        "id": "A2o8Fuw5b0Dt"
      },
      "source": [
        "### your code below\n",
        "\n",
        "### your code above"
      ],
      "execution_count": null,
      "outputs": []
    },
    {
      "cell_type": "markdown",
      "metadata": {
        "id": "88Wenamub4h_"
      },
      "source": [
        "### Question: How do these trajectories compare to those observed during the lab?  What effect did increasing the step size have?\n",
        "\n",
        "Write an answer here."
      ]
    },
    {
      "cell_type": "markdown",
      "metadata": {
        "id": "JSEHudnYb1jv"
      },
      "source": [
        "## Section - Increasing Detection Radius\n",
        "\n",
        "Run a batch of simulation with an increased detection radius (the baseline value is `1`)."
      ]
    },
    {
      "cell_type": "markdown",
      "metadata": {
        "id": "RLzoZqEKcU2F"
      },
      "source": [
        "### Initialize and run the experiments\n",
        "\n",
        "- set the parameters\n",
        "- create the environment\n",
        "- create the agents\n",
        "- run the experiments\n",
        "\n",
        "Feel free to create as many code cells as you would like."
      ]
    },
    {
      "cell_type": "code",
      "metadata": {
        "id": "FeCpbiRrcU2F"
      },
      "source": [
        "### your code below\n",
        "\n",
        "### your code above"
      ],
      "execution_count": null,
      "outputs": []
    },
    {
      "cell_type": "markdown",
      "metadata": {
        "id": "lwzkKDd4cXUM"
      },
      "source": [
        "### Visualize the average reward\n",
        "\n",
        "Plot the average reward values acheived by each of the agents"
      ]
    },
    {
      "cell_type": "code",
      "metadata": {
        "id": "hJnFvl83cXUM"
      },
      "source": [
        "### your code below\n",
        "\n",
        "### your code above"
      ],
      "execution_count": null,
      "outputs": []
    },
    {
      "cell_type": "markdown",
      "metadata": {
        "id": "Y2Ot2hHUchtv"
      },
      "source": [
        "### Question: How do these average reward values compare to those observed during the lab? What effect did increasing the detection radius have?\n",
        "\n",
        "Write an answer here."
      ]
    }
  ]
}