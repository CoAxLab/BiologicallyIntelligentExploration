{
 "cells": [
  {
   "cell_type": "markdown",
   "metadata": {},
   "source": [
    "# Introduction to Python\n",
    "by Nick Blauch, Matt Clapp, and Jack Burgess"
   ]
  },
  {
   "cell_type": "markdown",
   "metadata": {},
   "source": [
    "Python is one of the most popular general purpose programming languages, and it has also been developed to serve as a complete replacement for numerical computing languages like MATLAB. It is also excellent for neuroscience, cognitive psychology, statistics, and machine learning research with many of the best packages for these fields freely available and open-source. \n",
    "\n",
    "In this tutorial we will cover some of the basic principles of programming in Python, along with simple use cases for some of the most useful packages for scientific computing. However, **this is not a complete tutorial on Python and we can only scratch the surface here**. We encourage you to do a lot more research on your own time - hopefully this helps you navigate the waters a bit!"
   ]
  },
  {
   "cell_type": "markdown",
   "metadata": {},
   "source": [
    "## General themes \n",
    "\n",
    "\n",
    "- Python is a scripting language\n",
    "    - It is usually not compiled, and is generally very compatable across systems\n",
    "- Python is mostly a procedural/imperative language\n",
    "    - A program is a series of steps, specifying what operations to perform in which order\n",
    "    - But it also allows for other techniques such as functional programming\n",
    "- Python is an object-oriented language\n",
    "    - this means that \"objects\" - defined by their class methods and properties - are given a special status in Python.\n",
    "    - further, EVERYTHING is an object - even functions and types! \n",
    "    - inheritence allows you to define new object classes which build upon pre-existing classes\n",
    "    - however, it is not *necessary* to write Python code in an object-oriented manner\n",
    "- Python is a \"duck-typed\" language\n",
    "    - \"If it walks like a duck and it quacks like a duck, then it must be a duck\"\n",
    "    - Compared to C/Java, you don't have to specify what \"type\" of data each variable name contains.  Rather, code works as long as the data stored within the variable is compatible with the actions you are performing with it. (Examples later)\n",
    "- There are several ways to execute Python code. \n",
    "    - You can see the [setup guide](https://github.com/clappm/uPNC_2021) we developed for more information on that. \n",
    "    - For the UPNC we will be using JupyterLab and primarily Jupyter Notebooks. \n",
    "    - When it comes to writing code to do more intensive analyses, or for larger projects, we do not recommend Jupyter Notebooks. Rather, you should write Python files that can depend on each other, allowing you to cleanly organize your code."
   ]
  },
  {
   "cell_type": "markdown",
   "metadata": {},
   "source": [
    "## What Jupyter notebooks are and are not:"
   ]
  },
  {
   "cell_type": "markdown",
   "metadata": {},
   "source": [
    "Jupyter notebooks are a great tool for:\n",
    "- simple analyses\n",
    "- prototyping new analyses\n",
    "- visualizing your data\n",
    "- developing interactive exercises and tutorials\n",
    "\n",
    "Jupyter notebooks are not:\n",
    "- a complete replacement for .py files\n",
    "- easily tracked with version control (since their underlying representation is not simply human-readable text\n",
    "- meant for intense analyses that need to maximally take advantage of parallel computation\n",
    "\n",
    "Now that we know what Jupyter Notebooks are and are not, we can take advantage of their amazing functionality and ease-of-use for this tutorial. We will also be using them for many of the exercises to come in the uPNC."
   ]
  },
  {
   "cell_type": "markdown",
   "metadata": {},
   "source": [
    "## Variables and different built in object types\n",
    "\n",
    "Let's start by covering the basic variable types, how to use them, and some simple operations that can be done on them."
   ]
  },
  {
   "cell_type": "markdown",
   "metadata": {},
   "source": [
    "* We can store values in variables using `=`\n",
    "* These values belong to several possible \"types\" (int, float, string, etc.)\n",
    "* Use `#` to indicate comments"
   ]
  },
  {
   "cell_type": "code",
   "execution_count": 1,
   "metadata": {},
   "outputs": [],
   "source": [
    "a = 12 # defaults to int\n",
    "b = 12.0 # float\n",
    "c = '12' # string, can use either ' or \""
   ]
  },
  {
   "cell_type": "markdown",
   "metadata": {},
   "source": [
    "* You can print the contents of a variable using `print(...)`"
   ]
  },
  {
   "cell_type": "code",
   "execution_count": 2,
   "metadata": {},
   "outputs": [
    {
     "name": "stdout",
     "output_type": "stream",
     "text": [
      "12\n",
      "12.0\n",
      "12\n"
     ]
    }
   ],
   "source": [
    "print(a)\n",
    "print(b)\n",
    "print(c)"
   ]
  },
  {
   "cell_type": "markdown",
   "metadata": {},
   "source": [
    "* In jupyter notebooks, the last value in a code cell is automatically displayed unless you end the code cell with a `;`\n",
    "* It works similar to but isn't the same as printing the variable, sometimes the formatting is different"
   ]
  },
  {
   "cell_type": "code",
   "execution_count": 3,
   "metadata": {},
   "outputs": [
    {
     "data": {
      "text/plain": [
       "'12'"
      ]
     },
     "execution_count": 3,
     "metadata": {},
     "output_type": "execute_result"
    }
   ],
   "source": [
    "a \n",
    "b\n",
    "c # <- the last value computed in this cell"
   ]
  },
  {
   "cell_type": "markdown",
   "metadata": {},
   "source": [
    "* You can view the exact type of variable using `type(...)`"
   ]
  },
  {
   "cell_type": "code",
   "execution_count": 4,
   "metadata": {},
   "outputs": [
    {
     "name": "stdout",
     "output_type": "stream",
     "text": [
      "<class 'int'>\n",
      "<class 'float'>\n",
      "<class 'str'>\n"
     ]
    }
   ],
   "source": [
    "print(type(a))\n",
    "print(type(b))\n",
    "print(type(c))"
   ]
  },
  {
   "cell_type": "markdown",
   "metadata": {},
   "source": [
    "* The preferred way of determining whether a particular variable contains data of particular type is by using `isinstance(...)`"
   ]
  },
  {
   "cell_type": "code",
   "execution_count": 5,
   "metadata": {},
   "outputs": [
    {
     "data": {
      "text/plain": [
       "True"
      ]
     },
     "execution_count": 5,
     "metadata": {},
     "output_type": "execute_result"
    }
   ],
   "source": [
    "isinstance(12.0, float)"
   ]
  },
  {
   "cell_type": "markdown",
   "metadata": {},
   "source": [
    "* You can perform a variety of basic operations on variables\n",
    "* Certain datatypes are compatible with others\n",
    "* The result might be a different type than the arguments"
   ]
  },
  {
   "cell_type": "code",
   "execution_count": 6,
   "metadata": {},
   "outputs": [
    {
     "name": "stdout",
     "output_type": "stream",
     "text": [
      "4.0\n",
      "2.4\n"
     ]
    }
   ],
   "source": [
    "a = 12\n",
    "print(a/3)  # result is a float rather than an int\n",
    "print(a/5)  # in python 3, all division is float division by default "
   ]
  },
  {
   "cell_type": "markdown",
   "metadata": {},
   "source": [
    "* Another important data type is boolean (True and False)"
   ]
  },
  {
   "cell_type": "code",
   "execution_count": 7,
   "metadata": {},
   "outputs": [
    {
     "data": {
      "text/plain": [
       "bool"
      ]
     },
     "execution_count": 7,
     "metadata": {},
     "output_type": "execute_result"
    }
   ],
   "source": [
    "type(True)"
   ]
  },
  {
   "cell_type": "code",
   "execution_count": 8,
   "metadata": {},
   "outputs": [
    {
     "data": {
      "text/plain": [
       "bool"
      ]
     },
     "execution_count": 8,
     "metadata": {},
     "output_type": "execute_result"
    }
   ],
   "source": [
    "type(False)"
   ]
  },
  {
   "cell_type": "markdown",
   "metadata": {},
   "source": [
    "* You get a boolean value when you perform certain comparisons, such as `==`, or other numerical comparisons, or other functions"
   ]
  },
  {
   "cell_type": "code",
   "execution_count": 9,
   "metadata": {},
   "outputs": [
    {
     "data": {
      "text/plain": [
       "True"
      ]
     },
     "execution_count": 9,
     "metadata": {},
     "output_type": "execute_result"
    }
   ],
   "source": [
    "a == 12"
   ]
  },
  {
   "cell_type": "markdown",
   "metadata": {},
   "source": [
    "* Python enforces typing.  You can't add two datatypes that are incompatible."
   ]
  },
  {
   "cell_type": "code",
   "execution_count": 10,
   "metadata": {},
   "outputs": [
    {
     "data": {
      "text/plain": [
       "5"
      ]
     },
     "execution_count": 10,
     "metadata": {},
     "output_type": "execute_result"
    }
   ],
   "source": [
    "2 + 3"
   ]
  },
  {
   "cell_type": "code",
   "execution_count": 11,
   "metadata": {},
   "outputs": [
    {
     "ename": "TypeError",
     "evalue": "can only concatenate str (not \"int\") to str",
     "output_type": "error",
     "traceback": [
      "\u001b[1;31m---------------------------------------------------------------------------\u001b[0m",
      "\u001b[1;31mTypeError\u001b[0m                                 Traceback (most recent call last)",
      "\u001b[1;32m<ipython-input-11-b668e9c771d6>\u001b[0m in \u001b[0;36m<module>\u001b[1;34m\u001b[0m\n\u001b[1;32m----> 1\u001b[1;33m \u001b[1;34m'2'\u001b[0m \u001b[1;33m+\u001b[0m \u001b[1;36m3\u001b[0m\u001b[1;33m\u001b[0m\u001b[1;33m\u001b[0m\u001b[0m\n\u001b[0m",
      "\u001b[1;31mTypeError\u001b[0m: can only concatenate str (not \"int\") to str"
     ]
    }
   ],
   "source": [
    "'2' + 3"
   ]
  },
  {
   "cell_type": "code",
   "execution_count": 92,
   "metadata": {},
   "outputs": [
    {
     "data": {
      "text/plain": [
       "'23'"
      ]
     },
     "execution_count": 92,
     "metadata": {},
     "output_type": "execute_result"
    }
   ],
   "source": [
    "'2' + '3'"
   ]
  },
  {
   "cell_type": "markdown",
   "metadata": {},
   "source": [
    "* You can use certain functions to convert data from one type to another\n",
    "* Examples are `int(...)` `str(...)` `float(...)` `list(...)` etc. "
   ]
  },
  {
   "cell_type": "code",
   "execution_count": 93,
   "metadata": {},
   "outputs": [
    {
     "data": {
      "text/plain": [
       "5"
      ]
     },
     "execution_count": 93,
     "metadata": {},
     "output_type": "execute_result"
    }
   ],
   "source": [
    "2 + int('3')"
   ]
  },
  {
   "cell_type": "code",
   "execution_count": 94,
   "metadata": {},
   "outputs": [
    {
     "data": {
      "text/plain": [
       "'23'"
      ]
     },
     "execution_count": 94,
     "metadata": {},
     "output_type": "execute_result"
    }
   ],
   "source": [
    "'2' + str(3)"
   ]
  },
  {
   "cell_type": "code",
   "execution_count": 95,
   "metadata": {},
   "outputs": [
    {
     "data": {
      "text/plain": [
       "3.0"
      ]
     },
     "execution_count": 95,
     "metadata": {},
     "output_type": "execute_result"
    }
   ],
   "source": [
    "float(3)"
   ]
  },
  {
   "cell_type": "code",
   "execution_count": 96,
   "metadata": {},
   "outputs": [
    {
     "data": {
      "text/plain": [
       "8"
      ]
     },
     "execution_count": 96,
     "metadata": {},
     "output_type": "execute_result"
    }
   ],
   "source": [
    "int(8.7)"
   ]
  },
  {
   "cell_type": "markdown",
   "metadata": {},
   "source": [
    "### There's lots of basic operations in python\n",
    "\n",
    "* Notable examples are things like `+=` and `*=` which combine a math operation with assignment"
   ]
  },
  {
   "cell_type": "markdown",
   "metadata": {},
   "source": [
    "### Methods are called on objects using `.` notation"
   ]
  },
  {
   "cell_type": "code",
   "execution_count": 97,
   "metadata": {},
   "outputs": [
    {
     "data": {
      "text/plain": [
       "'some text'"
      ]
     },
     "execution_count": 97,
     "metadata": {},
     "output_type": "execute_result"
    }
   ],
   "source": [
    "\"SoMe TeXt\".lower() # calls the \"lower\" method on the string which converts it to lowercase"
   ]
  },
  {
   "cell_type": "markdown",
   "metadata": {},
   "source": [
    "String methods reference: https://www.w3schools.com/python/python_ref_string.asp"
   ]
  },
  {
   "cell_type": "markdown",
   "metadata": {},
   "source": [
    "### lists and tuples"
   ]
  },
  {
   "cell_type": "markdown",
   "metadata": {},
   "source": [
    "* lists and tuples are both ways to store multiple values in a sequence\n",
    "* these values can be anything (any data type, any objects, etc.)\n",
    "* standard practice: lists are for data you want to manipulate, tuples are for when you need to package together multiple variables into a single variable"
   ]
  },
  {
   "cell_type": "code",
   "execution_count": 98,
   "metadata": {},
   "outputs": [
    {
     "name": "stdout",
     "output_type": "stream",
     "text": [
      "[12, 14, 'cat', 'dog']\n",
      "(12, 14, 'cat', 'dog')\n"
     ]
    }
   ],
   "source": [
    "my_list = [12, 14, \"cat\", \"dog\"]\n",
    "print(my_list)\n",
    "\n",
    "my_tuple = (12, 14, \"cat\", \"dog\")\n",
    "print(my_tuple)"
   ]
  },
  {
   "cell_type": "markdown",
   "metadata": {},
   "source": [
    "* You can index into lists/tuples using brackets\n",
    "* python is 0-indexed"
   ]
  },
  {
   "cell_type": "code",
   "execution_count": 99,
   "metadata": {},
   "outputs": [
    {
     "name": "stdout",
     "output_type": "stream",
     "text": [
      "12\n",
      "14\n",
      "cat\n",
      "dog\n"
     ]
    }
   ],
   "source": [
    "print( my_list[0] )\n",
    "print( my_list[1] )\n",
    "print( my_list[2] )\n",
    "print( my_list[3] )"
   ]
  },
  {
   "cell_type": "markdown",
   "metadata": {},
   "source": [
    "* negative indices can be used to access the list in reverse order"
   ]
  },
  {
   "cell_type": "code",
   "execution_count": 100,
   "metadata": {},
   "outputs": [
    {
     "name": "stdout",
     "output_type": "stream",
     "text": [
      "dog\n",
      "cat\n",
      "14\n",
      "12\n"
     ]
    }
   ],
   "source": [
    "print( my_list[-1] )\n",
    "print( my_list[-2] )\n",
    "print( my_list[-3] )\n",
    "print( my_list[-4] )"
   ]
  },
  {
   "cell_type": "markdown",
   "metadata": {},
   "source": [
    "* You can use a colon to access a sublist of a given list, given a starting (inclusive) and ending (exclusive) index"
   ]
  },
  {
   "cell_type": "code",
   "execution_count": 101,
   "metadata": {},
   "outputs": [
    {
     "data": {
      "text/plain": [
       "[14, 'cat']"
      ]
     },
     "execution_count": 101,
     "metadata": {},
     "output_type": "execute_result"
    }
   ],
   "source": [
    "my_list[1:3]"
   ]
  },
  {
   "cell_type": "markdown",
   "metadata": {},
   "source": [
    "* You can edit a list using assignment or other functions"
   ]
  },
  {
   "cell_type": "code",
   "execution_count": 102,
   "metadata": {},
   "outputs": [
    {
     "data": {
      "text/plain": [
       "[12, 14, 'cat', 3]"
      ]
     },
     "execution_count": 102,
     "metadata": {},
     "output_type": "execute_result"
    }
   ],
   "source": [
    "my_list = [12, 14, \"cat\", \"dog\"]\n",
    "\n",
    "my_list[3] = 3\n",
    "\n",
    "my_list"
   ]
  },
  {
   "cell_type": "code",
   "execution_count": 103,
   "metadata": {},
   "outputs": [
    {
     "data": {
      "text/plain": [
       "[12, 14, 'cat', 'dog', 'hamster']"
      ]
     },
     "execution_count": 103,
     "metadata": {},
     "output_type": "execute_result"
    }
   ],
   "source": [
    "my_list = [12, 14, \"cat\", \"dog\"]\n",
    "\n",
    "my_list.append('hamster')\n",
    "\n",
    "my_list"
   ]
  },
  {
   "cell_type": "code",
   "execution_count": 104,
   "metadata": {},
   "outputs": [
    {
     "data": {
      "text/plain": [
       "[12, 14, 'cat', 'dog', 1, 2, 3]"
      ]
     },
     "execution_count": 104,
     "metadata": {},
     "output_type": "execute_result"
    }
   ],
   "source": [
    "my_list = [12, 14, \"cat\", \"dog\"]\n",
    "\n",
    "my_list.extend([1,2,3])\n",
    "\n",
    "my_list"
   ]
  },
  {
   "cell_type": "markdown",
   "metadata": {},
   "source": [
    "* Lists are mutable, but tuples are immutable"
   ]
  },
  {
   "cell_type": "code",
   "execution_count": 105,
   "metadata": {},
   "outputs": [
    {
     "ename": "TypeError",
     "evalue": "'tuple' object does not support item assignment",
     "output_type": "error",
     "traceback": [
      "\u001b[1;31m---------------------------------------------------------------------------\u001b[0m",
      "\u001b[1;31mTypeError\u001b[0m                                 Traceback (most recent call last)",
      "\u001b[1;32m<ipython-input-105-c94c04117c06>\u001b[0m in \u001b[0;36m<module>\u001b[1;34m\u001b[0m\n\u001b[0;32m      1\u001b[0m \u001b[0mmy_tuple\u001b[0m \u001b[1;33m=\u001b[0m \u001b[1;33m(\u001b[0m\u001b[1;36m12\u001b[0m\u001b[1;33m,\u001b[0m \u001b[1;36m14\u001b[0m\u001b[1;33m,\u001b[0m \u001b[1;34m\"cat\"\u001b[0m\u001b[1;33m,\u001b[0m \u001b[1;34m\"dog\"\u001b[0m\u001b[1;33m)\u001b[0m\u001b[1;33m\u001b[0m\u001b[1;33m\u001b[0m\u001b[0m\n\u001b[0;32m      2\u001b[0m \u001b[1;33m\u001b[0m\u001b[0m\n\u001b[1;32m----> 3\u001b[1;33m \u001b[0mmy_tuple\u001b[0m\u001b[1;33m[\u001b[0m\u001b[1;36m3\u001b[0m\u001b[1;33m]\u001b[0m \u001b[1;33m=\u001b[0m \u001b[1;36m3\u001b[0m\u001b[1;33m\u001b[0m\u001b[1;33m\u001b[0m\u001b[0m\n\u001b[0m\u001b[0;32m      4\u001b[0m \u001b[1;33m\u001b[0m\u001b[0m\n\u001b[0;32m      5\u001b[0m \u001b[0mmy_tuple\u001b[0m\u001b[1;33m\u001b[0m\u001b[1;33m\u001b[0m\u001b[0m\n",
      "\u001b[1;31mTypeError\u001b[0m: 'tuple' object does not support item assignment"
     ]
    }
   ],
   "source": [
    "my_tuple = (12, 14, \"cat\", \"dog\")\n",
    "\n",
    "my_tuple[3] = 3\n",
    "\n",
    "my_tuple"
   ]
  },
  {
   "cell_type": "markdown",
   "metadata": {},
   "source": [
    "* Tuples/lists can be unpacked, allowing you to assign many variables at once"
   ]
  },
  {
   "cell_type": "code",
   "execution_count": 106,
   "metadata": {},
   "outputs": [
    {
     "name": "stdout",
     "output_type": "stream",
     "text": [
      "1\n",
      "2\n",
      "3\n"
     ]
    }
   ],
   "source": [
    "x, y, z = (1,2,3)\n",
    "\n",
    "print(x)\n",
    "print(y)\n",
    "print(z)"
   ]
  },
  {
   "cell_type": "markdown",
   "metadata": {},
   "source": [
    "* just to restate: you can put lists (or anything else really) inside lists"
   ]
  },
  {
   "cell_type": "code",
   "execution_count": 107,
   "metadata": {},
   "outputs": [
    {
     "name": "stdout",
     "output_type": "stream",
     "text": [
      "[[1, 2, 3], [1, 2, 3]]\n"
     ]
    }
   ],
   "source": [
    "data = [1,2,3]\n",
    "\n",
    "list_of_lists = [data,data]\n",
    "\n",
    "print(list_of_lists)"
   ]
  },
  {
   "cell_type": "code",
   "execution_count": 108,
   "metadata": {},
   "outputs": [
    {
     "data": {
      "text/plain": [
       "True"
      ]
     },
     "execution_count": 108,
     "metadata": {},
     "output_type": "execute_result"
    }
   ],
   "source": [
    "list_of_lists[0] == data"
   ]
  },
  {
   "cell_type": "code",
   "execution_count": 109,
   "metadata": {},
   "outputs": [
    {
     "data": {
      "text/plain": [
       "1"
      ]
     },
     "execution_count": 109,
     "metadata": {},
     "output_type": "execute_result"
    }
   ],
   "source": [
    "list_of_lists[0][0]"
   ]
  },
  {
   "cell_type": "markdown",
   "metadata": {},
   "source": [
    "* Important gotcha: if there's multiple copies of the same object in the same list, they are still the same object"
   ]
  },
  {
   "cell_type": "code",
   "execution_count": 110,
   "metadata": {},
   "outputs": [
    {
     "data": {
      "text/plain": [
       "[1, 2, 8]"
      ]
     },
     "execution_count": 110,
     "metadata": {},
     "output_type": "execute_result"
    }
   ],
   "source": [
    "data[2] = 8\n",
    "\n",
    "data"
   ]
  },
  {
   "cell_type": "code",
   "execution_count": 111,
   "metadata": {},
   "outputs": [
    {
     "data": {
      "text/plain": [
       "[[1, 2, 8], [1, 2, 8]]"
      ]
     },
     "execution_count": 111,
     "metadata": {},
     "output_type": "execute_result"
    }
   ],
   "source": [
    "list_of_lists"
   ]
  },
  {
   "cell_type": "markdown",
   "metadata": {},
   "source": [
    "* Lists methods reference: https://www.w3schools.com/python/python_ref_list.asp"
   ]
  },
  {
   "cell_type": "markdown",
   "metadata": {},
   "source": [
    "### Dictionaries\n",
    "\n",
    "Dictionaries are one of the most useful built-in types in Python. \n",
    "\n",
    "They are essentially lookup tables of key:value pairs.\n",
    "\n",
    "In new versions of Python, all dictionaries are ordered"
   ]
  },
  {
   "cell_type": "code",
   "execution_count": 112,
   "metadata": {},
   "outputs": [
    {
     "data": {
      "text/plain": [
       "{'best_language': 'Python',\n",
       " 'best_research_field': 'computational neuroscience'}"
      ]
     },
     "execution_count": 112,
     "metadata": {},
     "output_type": "execute_result"
    }
   ],
   "source": [
    "# dictionaries can be created with curly bracket syntax or the built-in dict function\n",
    "\n",
    "my_dict = {\n",
    "    'best_language': 'Python',\n",
    "    'best_research_field': 'computational neuroscience',\n",
    "}\n",
    "\n",
    "my_dict"
   ]
  },
  {
   "cell_type": "code",
   "execution_count": 113,
   "metadata": {},
   "outputs": [
    {
     "data": {
      "text/plain": [
       "{'best_language': 'Python',\n",
       " 'best_research_field': 'computational neuroscience'}"
      ]
     },
     "execution_count": 113,
     "metadata": {},
     "output_type": "execute_result"
    }
   ],
   "source": [
    "my_dict = dict(best_language='Python', best_research_field='computational neuroscience')\n",
    "\n",
    "my_dict"
   ]
  },
  {
   "cell_type": "markdown",
   "metadata": {},
   "source": [
    "* Indexing into dictionaries is also performed with brackets"
   ]
  },
  {
   "cell_type": "code",
   "execution_count": 114,
   "metadata": {},
   "outputs": [
    {
     "data": {
      "text/plain": [
       "'computational neuroscience'"
      ]
     },
     "execution_count": 114,
     "metadata": {},
     "output_type": "execute_result"
    }
   ],
   "source": [
    "my_dict['best_research_field']"
   ]
  },
  {
   "cell_type": "markdown",
   "metadata": {},
   "source": [
    "* you can edit dictionaries in a few ways"
   ]
  },
  {
   "cell_type": "code",
   "execution_count": 115,
   "metadata": {},
   "outputs": [
    {
     "data": {
      "text/plain": [
       "{'best_language': 'Python',\n",
       " 'best_research_field': 'computational neuroscience',\n",
       " 'answer to life, the universe, and everything': 42}"
      ]
     },
     "execution_count": 115,
     "metadata": {},
     "output_type": "execute_result"
    }
   ],
   "source": [
    "# adding a new key\n",
    "\n",
    "my_dict['answer to life, the universe, and everything'] = 42\n",
    "\n",
    "my_dict"
   ]
  },
  {
   "cell_type": "code",
   "execution_count": 116,
   "metadata": {},
   "outputs": [
    {
     "data": {
      "text/plain": [
       "{'best_language': 'Python',\n",
       " 'best_research_field': 'computational neuroscience',\n",
       " 'answer to life, the universe, and everything': 42,\n",
       " 123: True}"
      ]
     },
     "execution_count": 116,
     "metadata": {},
     "output_type": "execute_result"
    }
   ],
   "source": [
    "# merging from another dictionary\n",
    "\n",
    "my_other_dict = {123: True}\n",
    "\n",
    "my_dict.update(my_other_dict)\n",
    "\n",
    "my_dict"
   ]
  },
  {
   "cell_type": "code",
   "execution_count": 117,
   "metadata": {},
   "outputs": [
    {
     "data": {
      "text/plain": [
       "{'best_language': 'Python',\n",
       " 'best_research_field': 'computational neuroscience',\n",
       " 'answer to life, the universe, and everything': 42,\n",
       " 123: False}"
      ]
     },
     "execution_count": 117,
     "metadata": {},
     "output_type": "execute_result"
    }
   ],
   "source": [
    "# new values overwrite old values\n",
    "\n",
    "my_dict[123] = False\n",
    "\n",
    "my_dict"
   ]
  },
  {
   "cell_type": "markdown",
   "metadata": {},
   "source": [
    "* Python dictionary methods reference: https://www.w3schools.com/python/python_ref_dictionary.asp"
   ]
  },
  {
   "cell_type": "markdown",
   "metadata": {},
   "source": [
    "### Bonus content: sets"
   ]
  },
  {
   "cell_type": "markdown",
   "metadata": {},
   "source": [
    "* A set can only contain unique values"
   ]
  },
  {
   "cell_type": "code",
   "execution_count": 118,
   "metadata": {},
   "outputs": [
    {
     "data": {
      "text/plain": [
       "{1, 2, 3}"
      ]
     },
     "execution_count": 118,
     "metadata": {},
     "output_type": "execute_result"
    }
   ],
   "source": [
    "my_set = {1, 2, 3, 3, 3, 3}\n",
    "\n",
    "my_set"
   ]
  },
  {
   "cell_type": "markdown",
   "metadata": {},
   "source": [
    "* Python sets reference: https://www.w3schools.com/python/python_ref_set.asp"
   ]
  },
  {
   "cell_type": "markdown",
   "metadata": {},
   "source": [
    "## Flow control"
   ]
  },
  {
   "cell_type": "markdown",
   "metadata": {},
   "source": [
    "* `if` is used for conditional code execution\n",
    "* it can work with any expression that gives a boolean value"
   ]
  },
  {
   "cell_type": "code",
   "execution_count": 119,
   "metadata": {},
   "outputs": [
    {
     "name": "stdout",
     "output_type": "stream",
     "text": [
      "it adds up\n"
     ]
    }
   ],
   "source": [
    "if 2+2 == 4:\n",
    "    print('it adds up')"
   ]
  },
  {
   "cell_type": "markdown",
   "metadata": {},
   "source": [
    "* `else` can be used to specify code to run instead if the statement is false"
   ]
  },
  {
   "cell_type": "code",
   "execution_count": 120,
   "metadata": {},
   "outputs": [
    {
     "name": "stdout",
     "output_type": "stream",
     "text": [
      "it doesn't add up\n"
     ]
    }
   ],
   "source": [
    "if 2+2 == 5:\n",
    "    print('it adds up')\n",
    "else:\n",
    "    print(\"it doesn't add up\")"
   ]
  },
  {
   "cell_type": "markdown",
   "metadata": {},
   "source": [
    "* `elif` is a combination of `else` and `if`"
   ]
  },
  {
   "cell_type": "code",
   "execution_count": 121,
   "metadata": {},
   "outputs": [
    {
     "name": "stdout",
     "output_type": "stream",
     "text": [
      "number is between zero and one\n"
     ]
    }
   ],
   "source": [
    "number = 0.8\n",
    "\n",
    "if number < 0:\n",
    "    print('number is negative')\n",
    "elif number <= 1:\n",
    "    print('number is between zero and one')\n",
    "else:\n",
    "    print('number is greater than one')"
   ]
  },
  {
   "cell_type": "markdown",
   "metadata": {},
   "source": [
    "* `for` loops can iterate over lists, dictionaries, or special \"iterator\" objects"
   ]
  },
  {
   "cell_type": "code",
   "execution_count": 122,
   "metadata": {},
   "outputs": [
    {
     "name": "stdout",
     "output_type": "stream",
     "text": [
      "0\n",
      "1\n",
      "2\n",
      "3\n",
      "4\n",
      "5\n",
      "6\n"
     ]
    }
   ],
   "source": [
    "for number in range(7):\n",
    "    print(number)"
   ]
  },
  {
   "cell_type": "code",
   "execution_count": 123,
   "metadata": {},
   "outputs": [
    {
     "name": "stdout",
     "output_type": "stream",
     "text": [
      "2\n",
      "3\n",
      "5\n",
      "8\n"
     ]
    }
   ],
   "source": [
    "my_list = [2,3,5,8]\n",
    "\n",
    "for value in my_list:\n",
    "    print(value)"
   ]
  },
  {
   "cell_type": "code",
   "execution_count": 124,
   "metadata": {},
   "outputs": [
    {
     "name": "stdout",
     "output_type": "stream",
     "text": [
      "blindworm lizard\n",
      "pumpkin fruit\n"
     ]
    }
   ],
   "source": [
    "my_dict = {'blindworm':'lizard', 'pumpkin':'fruit'}\n",
    "\n",
    "for key,value in my_dict.items():\n",
    "    print(key + \" \" + value)"
   ]
  },
  {
   "cell_type": "markdown",
   "metadata": {},
   "source": [
    "* `enumerate(...)` can be used to provide indices"
   ]
  },
  {
   "cell_type": "code",
   "execution_count": 125,
   "metadata": {},
   "outputs": [
    {
     "name": "stdout",
     "output_type": "stream",
     "text": [
      "0 2\n",
      "1 3\n",
      "2 5\n",
      "3 8\n"
     ]
    }
   ],
   "source": [
    "my_list = [2,3,5,8]\n",
    "\n",
    "for index,value in enumerate(my_list):\n",
    "    print(index,value)"
   ]
  },
  {
   "cell_type": "markdown",
   "metadata": {},
   "source": [
    "* `while` loops continue operation until the condition becomes false"
   ]
  },
  {
   "cell_type": "code",
   "execution_count": 126,
   "metadata": {},
   "outputs": [
    {
     "data": {
      "text/plain": [
       "128"
      ]
     },
     "execution_count": 126,
     "metadata": {},
     "output_type": "execute_result"
    }
   ],
   "source": [
    "value = 1\n",
    "\n",
    "while value < 100:\n",
    "    value *= 2                 # same as value = value * 2\n",
    "\n",
    "value"
   ]
  },
  {
   "cell_type": "markdown",
   "metadata": {},
   "source": [
    "* try-except blocks can used to handle (potential) errors"
   ]
  },
  {
   "cell_type": "code",
   "execution_count": 127,
   "metadata": {},
   "outputs": [
    {
     "name": "stdout",
     "output_type": "stream",
     "text": [
      "there was an error\n"
     ]
    }
   ],
   "source": [
    "try:\n",
    "    # code that you don't know if it will work or not\n",
    "    data = 1 / 0\n",
    "except:\n",
    "    print('there was an error')"
   ]
  },
  {
   "cell_type": "markdown",
   "metadata": {},
   "source": [
    "## Bonus content: List comprehension\n",
    "\n",
    "* Special python syntax to make certain looping constructions more concise"
   ]
  },
  {
   "cell_type": "code",
   "execution_count": 128,
   "metadata": {},
   "outputs": [
    {
     "data": {
      "text/plain": [
       "[2, 4, 8, 4, 6, 6]"
      ]
     },
     "execution_count": 128,
     "metadata": {},
     "output_type": "execute_result"
    }
   ],
   "source": [
    "source = [1,2,7,4,5,2,3,7,6,9,3]\n",
    "\n",
    "destination = []\n",
    "for x in source:\n",
    "    if x < 5:\n",
    "        destination.append(x * 2)\n",
    "\n",
    "destination"
   ]
  },
  {
   "cell_type": "code",
   "execution_count": 129,
   "metadata": {},
   "outputs": [
    {
     "data": {
      "text/plain": [
       "[2, 4, 8, 4, 6, 6]"
      ]
     },
     "execution_count": 129,
     "metadata": {},
     "output_type": "execute_result"
    }
   ],
   "source": [
    "source = [1,2,7,4,5,2,3,7,6,9,3]\n",
    "\n",
    "destination = [x*2 for x in source if x < 5]\n",
    "\n",
    "destination"
   ]
  },
  {
   "cell_type": "markdown",
   "metadata": {},
   "source": [
    "* dictionary comprehensions are also possible, similar to list comprehensions"
   ]
  },
  {
   "cell_type": "code",
   "execution_count": 130,
   "metadata": {},
   "outputs": [
    {
     "data": {
      "text/plain": [
       "{'fluffy': 'cat', 'edible': 'potato'}"
      ]
     },
     "execution_count": 130,
     "metadata": {},
     "output_type": "execute_result"
    }
   ],
   "source": [
    "my_dict = {'cat':'fluffy', 'potato':'edible'}\n",
    "\n",
    "inverse_dict = {val: key for key, val in my_dict.items()}\n",
    "\n",
    "inverse_dict"
   ]
  },
  {
   "cell_type": "markdown",
   "metadata": {},
   "source": [
    "## Bonus content: Flow control keyworks\n",
    "\n",
    "* `pass` does nothing and is used if you need an empty block of code\n",
    "* `continue` immediately jumps to the next cycle of a `for` loop\n",
    "* `break` immediately exits out of the innermost `for`/`while` loop"
   ]
  },
  {
   "cell_type": "markdown",
   "metadata": {},
   "source": [
    "## Functions\n",
    "\n",
    "* functions are created using the `def` keyword\n",
    "* the `return` keywork indicates the result of the function, and stops execution of the function"
   ]
  },
  {
   "cell_type": "code",
   "execution_count": 131,
   "metadata": {},
   "outputs": [],
   "source": [
    "def AddTwoThings(x, y):\n",
    "    return x + y\n",
    "\n",
    "def SubtractTwoThings(x, y):\n",
    "    return x - y"
   ]
  },
  {
   "cell_type": "code",
   "execution_count": 132,
   "metadata": {},
   "outputs": [
    {
     "data": {
      "text/plain": [
       "function"
      ]
     },
     "execution_count": 132,
     "metadata": {},
     "output_type": "execute_result"
    }
   ],
   "source": [
    "type(SubtractTwoThings)"
   ]
  },
  {
   "cell_type": "markdown",
   "metadata": {},
   "source": [
    "* function calls can take either positional arguments or keyword arguments"
   ]
  },
  {
   "cell_type": "code",
   "execution_count": 133,
   "metadata": {},
   "outputs": [
    {
     "data": {
      "text/plain": [
       "3"
      ]
     },
     "execution_count": 133,
     "metadata": {},
     "output_type": "execute_result"
    }
   ],
   "source": [
    "SubtractTwoThings(5, 2)"
   ]
  },
  {
   "cell_type": "code",
   "execution_count": 134,
   "metadata": {},
   "outputs": [
    {
     "data": {
      "text/plain": [
       "-3"
      ]
     },
     "execution_count": 134,
     "metadata": {},
     "output_type": "execute_result"
    }
   ],
   "source": [
    "SubtractTwoThings(y=5, x=2)"
   ]
  },
  {
   "cell_type": "markdown",
   "metadata": {},
   "source": [
    "* functions work with any data types as long as the data is compatible with the operations contained therein"
   ]
  },
  {
   "cell_type": "code",
   "execution_count": 135,
   "metadata": {},
   "outputs": [
    {
     "data": {
      "text/plain": [
       "9"
      ]
     },
     "execution_count": 135,
     "metadata": {},
     "output_type": "execute_result"
    }
   ],
   "source": [
    "AddTwoThings(4,5)"
   ]
  },
  {
   "cell_type": "code",
   "execution_count": 136,
   "metadata": {},
   "outputs": [
    {
     "data": {
      "text/plain": [
       "'SomeText'"
      ]
     },
     "execution_count": 136,
     "metadata": {},
     "output_type": "execute_result"
    }
   ],
   "source": [
    "AddTwoThings(\"Some\",\"Text\")"
   ]
  },
  {
   "cell_type": "code",
   "execution_count": 137,
   "metadata": {},
   "outputs": [
    {
     "ename": "TypeError",
     "evalue": "unsupported operand type(s) for -: 'str' and 'str'",
     "output_type": "error",
     "traceback": [
      "\u001b[1;31m---------------------------------------------------------------------------\u001b[0m",
      "\u001b[1;31mTypeError\u001b[0m                                 Traceback (most recent call last)",
      "\u001b[1;32m<ipython-input-137-b0ade2a670f9>\u001b[0m in \u001b[0;36m<module>\u001b[1;34m\u001b[0m\n\u001b[1;32m----> 1\u001b[1;33m \u001b[0mSubtractTwoThings\u001b[0m\u001b[1;33m(\u001b[0m\u001b[1;34m\"Some\"\u001b[0m\u001b[1;33m,\u001b[0m\u001b[1;34m\"Text\"\u001b[0m\u001b[1;33m)\u001b[0m\u001b[1;33m\u001b[0m\u001b[1;33m\u001b[0m\u001b[0m\n\u001b[0m",
      "\u001b[1;32m<ipython-input-131-1fa813d136dc>\u001b[0m in \u001b[0;36mSubtractTwoThings\u001b[1;34m(x, y)\u001b[0m\n\u001b[0;32m      3\u001b[0m \u001b[1;33m\u001b[0m\u001b[0m\n\u001b[0;32m      4\u001b[0m \u001b[1;32mdef\u001b[0m \u001b[0mSubtractTwoThings\u001b[0m\u001b[1;33m(\u001b[0m\u001b[0mx\u001b[0m\u001b[1;33m,\u001b[0m \u001b[0my\u001b[0m\u001b[1;33m)\u001b[0m\u001b[1;33m:\u001b[0m\u001b[1;33m\u001b[0m\u001b[1;33m\u001b[0m\u001b[0m\n\u001b[1;32m----> 5\u001b[1;33m     \u001b[1;32mreturn\u001b[0m \u001b[0mx\u001b[0m \u001b[1;33m-\u001b[0m \u001b[0my\u001b[0m\u001b[1;33m\u001b[0m\u001b[1;33m\u001b[0m\u001b[0m\n\u001b[0m",
      "\u001b[1;31mTypeError\u001b[0m: unsupported operand type(s) for -: 'str' and 'str'"
     ]
    }
   ],
   "source": [
    "SubtractTwoThings(\"Some\",\"Text\")"
   ]
  },
  {
   "cell_type": "markdown",
   "metadata": {},
   "source": [
    "* Tuples can be used to return multiple values at once, by combining them into a single thing"
   ]
  },
  {
   "cell_type": "code",
   "execution_count": 138,
   "metadata": {},
   "outputs": [],
   "source": [
    "def ReturnMultipleThings():\n",
    "    return ('first','second')"
   ]
  },
  {
   "cell_type": "code",
   "execution_count": 139,
   "metadata": {},
   "outputs": [
    {
     "name": "stdout",
     "output_type": "stream",
     "text": [
      "first second\n"
     ]
    }
   ],
   "source": [
    "x, y = ReturnMultipleThings()\n",
    "print(x,y)"
   ]
  },
  {
   "cell_type": "markdown",
   "metadata": {},
   "source": [
    "## `*args` and `**kwargs` with functions\n",
    "\n",
    "* `*args` is a special function argument which allows extra (unspecified) arguments to be grouped together in a tuple"
   ]
  },
  {
   "cell_type": "code",
   "execution_count": 140,
   "metadata": {},
   "outputs": [],
   "source": [
    "def myArgsFunction(*args):\n",
    "    print(args)"
   ]
  },
  {
   "cell_type": "code",
   "execution_count": 141,
   "metadata": {},
   "outputs": [
    {
     "name": "stdout",
     "output_type": "stream",
     "text": [
      "('you can pass in anything here', 'and you can pass in as many arguments as you like')\n"
     ]
    }
   ],
   "source": [
    "myArgsFunction(\"you can pass in anything here\", \"and you can pass in as many arguments as you like\")"
   ]
  },
  {
   "cell_type": "markdown",
   "metadata": {},
   "source": [
    "* `**kwargs` is a special function argument that allows you to pass in arbitrary keyword arguments, which get converted into a dictionary"
   ]
  },
  {
   "cell_type": "code",
   "execution_count": 142,
   "metadata": {},
   "outputs": [],
   "source": [
    "def myKwargsFunction(**kwargs):\n",
    "    print(kwargs)"
   ]
  },
  {
   "cell_type": "code",
   "execution_count": 143,
   "metadata": {},
   "outputs": [
    {
     "name": "stdout",
     "output_type": "stream",
     "text": [
      "{'cat': 'fluffy', 'potato': 'edible'}\n"
     ]
    }
   ],
   "source": [
    "myKwargsFunction(cat='fluffy', potato='edible')"
   ]
  },
  {
   "cell_type": "markdown",
   "metadata": {},
   "source": [
    "## String formatting\n",
    "\n",
    "* There's some convenient functions that help you format strings, so you don't have to use a bunch of str() functions and string addition"
   ]
  },
  {
   "cell_type": "code",
   "execution_count": 144,
   "metadata": {},
   "outputs": [
    {
     "data": {
      "text/plain": [
       "'8 + 9 = 17'"
      ]
     },
     "execution_count": 144,
     "metadata": {},
     "output_type": "execute_result"
    }
   ],
   "source": [
    "x = 8\n",
    "y = 9\n",
    "\n",
    "str(x) + \" + \" + str(y) + \" = \" + str(x+y)"
   ]
  },
  {
   "cell_type": "markdown",
   "metadata": {},
   "source": [
    "* the .format(...) function is one way"
   ]
  },
  {
   "cell_type": "code",
   "execution_count": 145,
   "metadata": {},
   "outputs": [
    {
     "data": {
      "text/plain": [
       "'8 + 9 = 17'"
      ]
     },
     "execution_count": 145,
     "metadata": {},
     "output_type": "execute_result"
    }
   ],
   "source": [
    "x = 8\n",
    "y = 9\n",
    "\n",
    "\"{} + {} = {}\".format(x,y,x+y)"
   ]
  },
  {
   "cell_type": "markdown",
   "metadata": {},
   "source": [
    "* the f-string syntax is another way"
   ]
  },
  {
   "cell_type": "code",
   "execution_count": 146,
   "metadata": {},
   "outputs": [
    {
     "data": {
      "text/plain": [
       "'8 + 9 = 17'"
      ]
     },
     "execution_count": 146,
     "metadata": {},
     "output_type": "execute_result"
    }
   ],
   "source": [
    "x = 8\n",
    "y = 9\n",
    "\n",
    "f'{x} + {y} = {x+y}'"
   ]
  },
  {
   "cell_type": "markdown",
   "metadata": {},
   "source": [
    "## Basics of object-oriented programming - skip most of\n",
    "\n",
    "In object-oriented languages such as Python, everything is an object, which is defined by its class. Different classes have different properties and methods, and classes can properties and methods *inherit* from other classes"
   ]
  },
  {
   "cell_type": "code",
   "execution_count": 147,
   "metadata": {},
   "outputs": [
    {
     "name": "stdout",
     "output_type": "stream",
     "text": [
      "<class 'int'>\n"
     ]
    }
   ],
   "source": [
    "# everything is an object, defined by a class. what is 4?\n",
    "a = 4\n",
    "print(type(a))"
   ]
  },
  {
   "cell_type": "code",
   "execution_count": 148,
   "metadata": {},
   "outputs": [
    {
     "name": "stdout",
     "output_type": "stream",
     "text": [
      "['__abs__', '__add__', '__and__', '__bool__', '__ceil__', '__class__', '__delattr__', '__dir__', '__divmod__', '__doc__', '__eq__', '__float__', '__floor__', '__floordiv__', '__format__', '__ge__', '__getattribute__', '__getnewargs__', '__gt__', '__hash__', '__index__', '__init__', '__init_subclass__', '__int__', '__invert__', '__le__', '__lshift__', '__lt__', '__mod__', '__mul__', '__ne__', '__neg__', '__new__', '__or__', '__pos__', '__pow__', '__radd__', '__rand__', '__rdivmod__', '__reduce__', '__reduce_ex__', '__repr__', '__rfloordiv__', '__rlshift__', '__rmod__', '__rmul__', '__ror__', '__round__', '__rpow__', '__rrshift__', '__rshift__', '__rsub__', '__rtruediv__', '__rxor__', '__setattr__', '__sizeof__', '__str__', '__sub__', '__subclasshook__', '__truediv__', '__trunc__', '__xor__', 'bit_length', 'conjugate', 'denominator', 'from_bytes', 'imag', 'numerator', 'real', 'to_bytes']\n",
      "\n"
     ]
    }
   ],
   "source": [
    "# the methods and properties of a class can be accessed with the built-in dir function\n",
    "print(dir(a))\n",
    "print() # we can just call print to get an extra line"
   ]
  },
  {
   "cell_type": "code",
   "execution_count": 149,
   "metadata": {},
   "outputs": [
    {
     "name": "stdout",
     "output_type": "stream",
     "text": [
      "<class 'builtin_function_or_method'>\n",
      "['__call__', '__class__', '__delattr__', '__dir__', '__doc__', '__eq__', '__format__', '__ge__', '__getattribute__', '__gt__', '__hash__', '__init__', '__init_subclass__', '__le__', '__lt__', '__module__', '__name__', '__ne__', '__new__', '__qualname__', '__reduce__', '__reduce_ex__', '__repr__', '__self__', '__setattr__', '__sizeof__', '__str__', '__subclasshook__', '__text_signature__']\n",
      "\n"
     ]
    }
   ],
   "source": [
    "# even dir is an object\n",
    "print(type(dir))\n",
    "print(dir(dir))\n",
    "print()"
   ]
  },
  {
   "cell_type": "code",
   "execution_count": 150,
   "metadata": {},
   "outputs": [
    {
     "name": "stdout",
     "output_type": "stream",
     "text": [
      "<class 'list'>\n",
      "['__add__', '__class__', '__contains__', '__delattr__', '__delitem__', '__dir__', '__doc__', '__eq__', '__format__', '__ge__', '__getattribute__', '__getitem__', '__gt__', '__hash__', '__iadd__', '__imul__', '__init__', '__init_subclass__', '__iter__', '__le__', '__len__', '__lt__', '__mul__', '__ne__', '__new__', '__reduce__', '__reduce_ex__', '__repr__', '__reversed__', '__rmul__', '__setattr__', '__setitem__', '__sizeof__', '__str__', '__subclasshook__', 'append', 'clear', 'copy', 'count', 'extend', 'index', 'insert', 'pop', 'remove', 'reverse', 'sort']\n"
     ]
    }
   ],
   "source": [
    "# of course, lists are also objects\n",
    "l = [12, 14, 16]\n",
    "print(type(l))\n",
    "print(dir(l))"
   ]
  },
  {
   "cell_type": "code",
   "execution_count": 151,
   "metadata": {},
   "outputs": [
    {
     "name": "stdout",
     "output_type": "stream",
     "text": [
      "Help on list object:\n",
      "\n",
      "class list(object)\n",
      " |  list(iterable=(), /)\n",
      " |  \n",
      " |  Built-in mutable sequence.\n",
      " |  \n",
      " |  If no argument is given, the constructor creates a new empty list.\n",
      " |  The argument must be an iterable if specified.\n",
      " |  \n",
      " |  Methods defined here:\n",
      " |  \n",
      " |  __add__(self, value, /)\n",
      " |      Return self+value.\n",
      " |  \n",
      " |  __contains__(self, key, /)\n",
      " |      Return key in self.\n",
      " |  \n",
      " |  __delitem__(self, key, /)\n",
      " |      Delete self[key].\n",
      " |  \n",
      " |  __eq__(self, value, /)\n",
      " |      Return self==value.\n",
      " |  \n",
      " |  __ge__(self, value, /)\n",
      " |      Return self>=value.\n",
      " |  \n",
      " |  __getattribute__(self, name, /)\n",
      " |      Return getattr(self, name).\n",
      " |  \n",
      " |  __getitem__(...)\n",
      " |      x.__getitem__(y) <==> x[y]\n",
      " |  \n",
      " |  __gt__(self, value, /)\n",
      " |      Return self>value.\n",
      " |  \n",
      " |  __iadd__(self, value, /)\n",
      " |      Implement self+=value.\n",
      " |  \n",
      " |  __imul__(self, value, /)\n",
      " |      Implement self*=value.\n",
      " |  \n",
      " |  __init__(self, /, *args, **kwargs)\n",
      " |      Initialize self.  See help(type(self)) for accurate signature.\n",
      " |  \n",
      " |  __iter__(self, /)\n",
      " |      Implement iter(self).\n",
      " |  \n",
      " |  __le__(self, value, /)\n",
      " |      Return self<=value.\n",
      " |  \n",
      " |  __len__(self, /)\n",
      " |      Return len(self).\n",
      " |  \n",
      " |  __lt__(self, value, /)\n",
      " |      Return self<value.\n",
      " |  \n",
      " |  __mul__(self, value, /)\n",
      " |      Return self*value.\n",
      " |  \n",
      " |  __ne__(self, value, /)\n",
      " |      Return self!=value.\n",
      " |  \n",
      " |  __repr__(self, /)\n",
      " |      Return repr(self).\n",
      " |  \n",
      " |  __reversed__(self, /)\n",
      " |      Return a reverse iterator over the list.\n",
      " |  \n",
      " |  __rmul__(self, value, /)\n",
      " |      Return value*self.\n",
      " |  \n",
      " |  __setitem__(self, key, value, /)\n",
      " |      Set self[key] to value.\n",
      " |  \n",
      " |  __sizeof__(self, /)\n",
      " |      Return the size of the list in memory, in bytes.\n",
      " |  \n",
      " |  append(self, object, /)\n",
      " |      Append object to the end of the list.\n",
      " |  \n",
      " |  clear(self, /)\n",
      " |      Remove all items from list.\n",
      " |  \n",
      " |  copy(self, /)\n",
      " |      Return a shallow copy of the list.\n",
      " |  \n",
      " |  count(self, value, /)\n",
      " |      Return number of occurrences of value.\n",
      " |  \n",
      " |  extend(self, iterable, /)\n",
      " |      Extend list by appending elements from the iterable.\n",
      " |  \n",
      " |  index(self, value, start=0, stop=9223372036854775807, /)\n",
      " |      Return first index of value.\n",
      " |      \n",
      " |      Raises ValueError if the value is not present.\n",
      " |  \n",
      " |  insert(self, index, object, /)\n",
      " |      Insert object before index.\n",
      " |  \n",
      " |  pop(self, index=-1, /)\n",
      " |      Remove and return item at index (default last).\n",
      " |      \n",
      " |      Raises IndexError if list is empty or index is out of range.\n",
      " |  \n",
      " |  remove(self, value, /)\n",
      " |      Remove first occurrence of value.\n",
      " |      \n",
      " |      Raises ValueError if the value is not present.\n",
      " |  \n",
      " |  reverse(self, /)\n",
      " |      Reverse *IN PLACE*.\n",
      " |  \n",
      " |  sort(self, /, *, key=None, reverse=False)\n",
      " |      Stable sort *IN PLACE*.\n",
      " |  \n",
      " |  ----------------------------------------------------------------------\n",
      " |  Static methods defined here:\n",
      " |  \n",
      " |  __new__(*args, **kwargs) from builtins.type\n",
      " |      Create and return a new object.  See help(type) for accurate signature.\n",
      " |  \n",
      " |  ----------------------------------------------------------------------\n",
      " |  Data and other attributes defined here:\n",
      " |  \n",
      " |  __hash__ = None\n",
      "\n"
     ]
    }
   ],
   "source": [
    "# the help function can also be used, and is sometimes cleaner and more helpful ;) \n",
    "help(l)"
   ]
  },
  {
   "cell_type": "code",
   "execution_count": 152,
   "metadata": {},
   "outputs": [
    {
     "name": "stdout",
     "output_type": "stream",
     "text": [
      "16\n",
      "True\n"
     ]
    }
   ],
   "source": [
    "# an object's methods are accessed using dot syntax\n",
    "x = l.pop() # pops the last element in the list\n",
    "print(x)\n",
    "# note that general functions, such as dir, must exist in the namespace (either built-in, imported, or defined), and are called directly with objects as input\n",
    "# sometimes, these functions look for a specific class method defined for the object, which is what dir does\n",
    "print(dir(l) == sorted(l.__dir__()))"
   ]
  },
  {
   "cell_type": "markdown",
   "metadata": {},
   "source": [
    "### Underscores in names\n",
    "- in general, an object will have many methods or attributes with single or double underscores prepending and/or appending the name\n",
    "    - e.g., `list.__len__`\n",
    "- this syntax is sometimes purely convential, and sometimes functionally meaningful\n",
    "    - this guide provides a helpful analysis of this syntax, which we will cover here (https://dbader.org/blog/meaning-of-underscores-in-python)\n",
    "- `_var`:\n",
    "    - hint to another programmer that a variable or method starting with a single underscore is intended for internal use\n",
    "    - only functional role is that these methods will not be imported with the wildcard syntax (`from module import *`), which you should avoid anyway\n",
    "- `var_`:\n",
    "    - used if the relevant name is already taken, to avoid naming conflicts and allow laziness\n",
    "- `__var`:\n",
    "    - triggers \"name mangling\", which essentially allows a variable to be defined for a class and not overridden when a subclass is created\n",
    "    - prevents direct access as `object.__var` , and is rather changed to, `object.__classname__var`\n",
    "- `__var__`:\n",
    "    - indicates special methods defined by the Python language\n",
    "    - should be avoided for naming methods, except when implenting methods for which Python has defined a general purpose, such as `__init__` , `__call__`, or `__iter__` for your own classes\n",
    "    - no name mangling\n",
    "- `_` :\n",
    "    - temporary or insignificant variable\n",
    "    - gives the result of the last expression in a Python interpreter (including Jupyter Notebooks)"
   ]
  },
  {
   "cell_type": "markdown",
   "metadata": {},
   "source": [
    "### Creating our first custom class\n",
    "\n",
    "Using custom classes is an essential aspect of effective programming in Python.\n",
    "\n",
    "Let's create a simple class that we can use to represent people. This class must have an `__init__` method, and any other methods that we think would be important. "
   ]
  },
  {
   "cell_type": "code",
   "execution_count": 153,
   "metadata": {},
   "outputs": [],
   "source": [
    "class Person(object): # (object) means that Person inherits from object, the most generic object type. all custom classes must inherit from something \n",
    "    \"\"\"\n",
    "    A Person object is defined by its name, age, occupation, and (favorite programming) language\n",
    "    \n",
    "    The __init__ function defines the input parameters. Our function takes 4 inputs:\n",
    "    \n",
    "    name (str): the name of the person\n",
    "    age (int): the age of the person in years\n",
    "    occupation (str): the occupation of the person\n",
    "    language (str): the person's favorite programming language (default = 'Python')\n",
    "    \n",
    "    \"\"\"\n",
    "    def __init__(self, name: str, age: int, occupation: str, language: str = 'Python'):\n",
    "        super().__init__()\n",
    "        self.name = name\n",
    "        self.age = age\n",
    "        self.occupation = occupation\n",
    "        self.language = language\n",
    "    \n",
    "    def get_name(self):\n",
    "        # can you implement this?\n",
    "        raise NotImplementedError()\n",
    "        \n",
    "    def get_age(self):\n",
    "        # can you implement this?\n",
    "        raise NotImplementedError()    \n",
    "        \n",
    "    def get_occupation(self):\n",
    "        # can you implement this?\n",
    "        raise NotImplementedError()\n",
    "        \n",
    "    def get_language(self):\n",
    "        # can you implement this?\n",
    "        raise NotImplementedError()\n",
    "        \n",
    "## question: is there any reason to implement the functions that we listed above? if so, what? \n",
    " "
   ]
  },
  {
   "cell_type": "markdown",
   "metadata": {},
   "source": [
    "### Inheritance - super-skip\n",
    "\n",
    "As mentioned earlier, all classes inherit from some other class. If we are defining a completely new class, the most basic class to inherit from is `Object`. However we can also inherit from more specific classes.\n",
    "\n",
    "Let's create the `GradStudent` class to demonstrate inheritance from the `Person` class. Writing this class will be quick since it will inherit most of its functionality from the `Person` class. The one difference is that we will specify the occupation in terms of the field of study and year of study to automatically compute the occupation."
   ]
  },
  {
   "cell_type": "code",
   "execution_count": 154,
   "metadata": {},
   "outputs": [
    {
     "name": "stdout",
     "output_type": "stream",
     "text": [
      "nick is a Year 2 neural computation graduate student\n"
     ]
    }
   ],
   "source": [
    "class GradStudent(Person):\n",
    "    \"\"\"\n",
    "    A grad student is a Person with occupation graduate student. \n",
    "    We can also specify the field of study and years of experience to make a more specific grad student\n",
    "    \"\"\"\n",
    "    def __init__(self, name: str, age: int, language: str = 'Python', field_of_study=None, years_of_experience=None):\n",
    "        field = f'{field_of_study}' if field_of_study is not None else ''\n",
    "        experience = f'Year {years_of_experience} ' if years_of_experience is not None else ''\n",
    "        occupation = f'{experience}{field_of_study} graduate student'\n",
    "        super().__init__(name, age, occupation, language)\n",
    "        \n",
    "nick = GradStudent('nick', 25, language='Python', field_of_study='neural computation', years_of_experience=2)\n",
    "\n",
    "print(f'{nick.name} is a {nick.occupation}')"
   ]
  },
  {
   "cell_type": "markdown",
   "metadata": {},
   "source": [
    "# Python for data science: \n",
    "The data science \"stack\" includes some key packages\n",
    "- `Numpy` - numerical arrays and matrix computation\n",
    "- `Pandas` - dataframes (similar to those in R)\n",
    "- `Scipy` - scientific functions, including statistics [move to quant refresher]\n",
    "- `Scikit-Learn` - machine learning powerhouse [move to quant refresher]\n",
    "- `Matplotlib` - powerful plotting library\n",
    "- `Seaborn` - wrapper for Matplotlib that makes making beautiful and highly informative plots super easy \n",
    "\n",
    "This data science stack was partially developed to recapitulate the core functionalities available in Matlab and Matlab toolboxes, but as a free and open source alternative. However, in many cases what is available in Python also goes well beyond what is available in Matlab, and now Matlab is implementing things that have been developed first in Python."
   ]
  },
  {
   "cell_type": "markdown",
   "metadata": {},
   "source": [
    "## multidimensional arrays with numpy"
   ]
  },
  {
   "cell_type": "code",
   "execution_count": 155,
   "metadata": {},
   "outputs": [
    {
     "name": "stdout",
     "output_type": "stream",
     "text": [
      "1.20.3\n"
     ]
    }
   ],
   "source": [
    "# many packages have standard shorthand import names, such as np for numpy\n",
    "import numpy as np\n",
    "\n",
    "print(np.__version__)  # prints the version of a package"
   ]
  },
  {
   "cell_type": "code",
   "execution_count": 156,
   "metadata": {},
   "outputs": [
    {
     "name": "stdout",
     "output_type": "stream",
     "text": [
      "[1 1 2 3 5 8]\n",
      "<class 'numpy.ndarray'>\n"
     ]
    }
   ],
   "source": [
    "# creating 1D arrays\n",
    "mylist = [1, 1, 2, 3, 5, 8]  # regular python list\n",
    "array = np.array(mylist)  # a numpy array can be created by passing a python list into np.array(...)\n",
    "print(array)  \n",
    "print(type(array))  # the array might look similar a list but it is actually a very different type of object"
   ]
  },
  {
   "cell_type": "code",
   "execution_count": 157,
   "metadata": {},
   "outputs": [
    {
     "name": "stdout",
     "output_type": "stream",
     "text": [
      "[[1 2]\n",
      " [3 4]\n",
      " [5 6]]\n"
     ]
    }
   ],
   "source": [
    "# arrays of can be created with any number of dimensions, as long as it's \"rectangular\"\n",
    "array = np.array([[1, 2], [3, 4], [5, 6]]) # 2d array\n",
    "print(array)"
   ]
  },
  {
   "cell_type": "code",
   "execution_count": 158,
   "metadata": {},
   "outputs": [
    {
     "name": "stdout",
     "output_type": "stream",
     "text": [
      "[list([1, 2]) list([3]) list([5, 6])]\n"
     ]
    },
    {
     "name": "stderr",
     "output_type": "stream",
     "text": [
      "C:\\Users\\mclapp\\Anaconda3\\envs\\tf\\lib\\site-packages\\ipykernel_launcher.py:1: VisibleDeprecationWarning: Creating an ndarray from ragged nested sequences (which is a list-or-tuple of lists-or-tuples-or ndarrays with different lengths or shapes) is deprecated. If you meant to do this, you must specify 'dtype=object' when creating the ndarray.\n",
      "  \"\"\"Entry point for launching an IPython kernel.\n"
     ]
    }
   ],
   "source": [
    "array = np.array([[1, 2], [3], [5, 6]]) # not rectangular\n",
    "print(array) # result is a 1d array of lists"
   ]
  },
  {
   "cell_type": "code",
   "execution_count": 159,
   "metadata": {},
   "outputs": [
    {
     "name": "stdout",
     "output_type": "stream",
     "text": [
      "102\n"
     ]
    }
   ],
   "source": [
    "array = np.array(102) # a \"0D\" array\n",
    "print(array)"
   ]
  },
  {
   "cell_type": "code",
   "execution_count": 160,
   "metadata": {},
   "outputs": [
    {
     "name": "stdout",
     "output_type": "stream",
     "text": [
      "[[[ 1  2  3  4]\n",
      "  [ 5  6  7  8]\n",
      "  [ 9 10 11 12]]\n",
      "\n",
      " [[10 20  0  0]\n",
      "  [30 40  0  0]\n",
      "  [50 60  0  0]]]\n"
     ]
    }
   ],
   "source": [
    "# 3d array\n",
    "array3d = np.array([[[1, 2, 3, 4], [5, 6, 7, 8], [9, 10, 11, 12]], [[10, 20, 0, 0], [30, 40, 0, 0], [50, 60, 0, 0]]])\n",
    "print(array3d)"
   ]
  },
  {
   "cell_type": "code",
   "execution_count": 161,
   "metadata": {},
   "outputs": [
    {
     "name": "stdout",
     "output_type": "stream",
     "text": [
      "3\n",
      "(2, 3, 4)\n",
      "24\n",
      "2\n"
     ]
    }
   ],
   "source": [
    "# finding attributes of numpy arrays\n",
    "\n",
    "print(array3d.ndim)  # number of dimensions\n",
    "print(array3d.shape) # shape, listed from outermost to innermost dimension\n",
    "print(array3d.size) # total number of elements\n",
    "print(len(array3d)) # the length of the first dimension"
   ]
  },
  {
   "cell_type": "code",
   "execution_count": 162,
   "metadata": {},
   "outputs": [
    {
     "name": "stdout",
     "output_type": "stream",
     "text": [
      "[['a' 'b' 'c']\n",
      " [1 2 3]\n",
      " [{} <class 'str'> <built-in function len>]]\n"
     ]
    }
   ],
   "source": [
    "# mixed datatypes are allowed by default\n",
    "array = np.array([['a','b','c'],[1,2,3],[{},str,len]])\n",
    "print(array)\n",
    "# this is bad practice though"
   ]
  },
  {
   "cell_type": "code",
   "execution_count": 163,
   "metadata": {},
   "outputs": [
    {
     "name": "stdout",
     "output_type": "stream",
     "text": [
      "[  1   2   3 -68   0]\n",
      "[1. 2. 3.]\n",
      "[1.+0.j 2.+0.j 3.+0.j]\n",
      "['a' '7' '<built-in function len>']\n"
     ]
    }
   ],
   "source": [
    "# data type can be specified for the array... there's a big selection\n",
    "array = np.array([1,2,3,700,0.07], dtype='int8')\n",
    "print(array)\n",
    "array = np.array([1,2,3], dtype='float64')\n",
    "print(array)\n",
    "array = np.array([1,2,3], dtype='complex')\n",
    "print(array)\n",
    "array = np.array(['a',7,len], dtype='str')\n",
    "print(array)"
   ]
  },
  {
   "cell_type": "code",
   "execution_count": 164,
   "metadata": {},
   "outputs": [
    {
     "name": "stdout",
     "output_type": "stream",
     "text": [
      "[ 0  1  2  3  4  5  6  7  8  9 10 11]\n",
      "\n",
      "[[ 0  1  2  3]\n",
      " [ 4  5  6  7]\n",
      " [ 8  9 10 11]]\n",
      "\n",
      "[[[ 0  1]\n",
      "  [ 2  3]]\n",
      "\n",
      " [[ 4  5]\n",
      "  [ 6  7]]\n",
      "\n",
      " [[ 8  9]\n",
      "  [10 11]]]\n",
      "\n",
      "[[ 0  1  2]\n",
      " [ 3  4  5]\n",
      " [ 6  7  8]\n",
      " [ 9 10 11]]\n"
     ]
    }
   ],
   "source": [
    "# arrays can be reshaped\n",
    "\n",
    "array1 = np.arange(12) # create a 1D array of numbers 0-11 inclusive\n",
    "array2 = array1.reshape((3,4))\n",
    "array3 = array2.reshape((3,2,2))\n",
    "array4 = array3.reshape((4,3))\n",
    "\n",
    "print(array1)\n",
    "print()\n",
    "print(array2)\n",
    "print()\n",
    "print(array3)\n",
    "print()\n",
    "print(array4)"
   ]
  },
  {
   "cell_type": "code",
   "execution_count": 165,
   "metadata": {},
   "outputs": [
    {
     "name": "stdout",
     "output_type": "stream",
     "text": [
      "[[ 1.  1.  1. ...  1.  1.  1.]\n",
      " [ 0.  0. 10. ...  0.  0.  0.]\n",
      " [ 1.  1.  1. ...  1.  1.  1.]\n",
      " ...\n",
      " [ 0.  0.  0. ...  0.  0.  0.]\n",
      " [ 0.  0.  0. ...  0.  0.  0.]\n",
      " [ 0.  0.  0. ...  0. 11.  0.]]\n"
     ]
    }
   ],
   "source": [
    "# indexing into an array is pretty convenient\n",
    "array = np.zeros((100,100)) # 100x100 array of zeros\n",
    "\n",
    "# indexing\n",
    "array[1,2] = 10 # set the 2nd row, 3rd column element to 10\n",
    "array[-1,-2] = 11 # set the last row, 2nd-to-last column element to 11\n",
    "\n",
    "# slicing\n",
    "array[0, :] = 1 # set all elements in the first row to 1\n",
    "array[2, :] = 1 # set all elements in the 3rd row to 1\n",
    "\n",
    "print(array)"
   ]
  },
  {
   "cell_type": "code",
   "execution_count": 166,
   "metadata": {},
   "outputs": [
    {
     "name": "stdout",
     "output_type": "stream",
     "text": [
      "[1.   0.1  1.   0.   0.   0.   0.   0.   0.   0.   0.   0.   0.   0.\n",
      " 0.   0.   0.   0.   0.   0.   0.   0.   0.   0.   0.   0.   0.   0.\n",
      " 0.   0.   0.   0.   0.   0.   0.   0.   0.   0.   0.   0.   0.   0.\n",
      " 0.   0.   0.   0.   0.   0.   0.   0.   0.   0.   0.   0.   0.   0.\n",
      " 0.   0.   0.   0.   0.   0.   0.   0.   0.   0.   0.   0.   0.   0.\n",
      " 0.   0.   0.   0.   0.   0.   0.   0.   0.   0.   0.   0.   0.   0.\n",
      " 0.   0.   0.   0.   0.   0.   0.   0.   0.   0.   0.   0.   0.   0.\n",
      " 0.   0.11]\n",
      "[ 2.  2. 12.  2.  2.  2.  2.  2.  2.  2.  2.  2.  2.  2.  2.  2.  2.  2.\n",
      "  2.  2.  2.  2.  2.  2.  2.  2.  2.  2.  2.  2.  2.  2.  2.  2.  2.  2.\n",
      "  2.  2.  2.  2.  2.  2.  2.  2.  2.  2.  2.  2.  2.  2.  2.  2.  2.  2.\n",
      "  2.  2.  2.  2.  2.  2.  2.  2.  2.  2.  2.  2.  2.  2.  2.  2.  2.  2.\n",
      "  2.  2.  2.  2.  2.  2.  2.  2.  2.  2.  2.  2.  2.  2.  2.  2.  2.  2.\n",
      "  2.  2.  2.  2.  2.  2.  2.  2. 13.  2.]\n",
      "0.20398919089010573\n"
     ]
    }
   ],
   "source": [
    "# we can do simple things like compute sums, means and standard deviations of rows, columns, or the whole array\n",
    "mean_rows = np.mean(array, 1) # take the mean over the 2nd dimension (columns) to give the mean for each row\n",
    "sum_cols = np.sum(array, 0) # sum over the 1st dimension (rows) to give sums of each column\n",
    "std_array = np.std(array) # if no axis is specified, the array is flattened and then the mean/sum/std is taken \n",
    "print(mean_rows)\n",
    "print(sum_cols)\n",
    "print(std_array)"
   ]
  },
  {
   "cell_type": "code",
   "execution_count": 167,
   "metadata": {},
   "outputs": [
    {
     "name": "stdout",
     "output_type": "stream",
     "text": [
      "[[[ 1  2  3  4]\n",
      "  [ 5  6  7  8]\n",
      "  [ 9 10 11 12]]\n",
      "\n",
      " [[10 20  0  0]\n",
      "  [30 40  0  0]\n",
      "  [50 60  0  0]]]\n",
      "[105 138  21  24]\n"
     ]
    }
   ],
   "source": [
    "print(array3d)\n",
    "print(np.sum(array3d, (0,1)))  # you can mean/sum/std over multiple dimensions at once"
   ]
  },
  {
   "cell_type": "code",
   "execution_count": 168,
   "metadata": {},
   "outputs": [
    {
     "name": "stdout",
     "output_type": "stream",
     "text": [
      "[10 13 16 19 22 25 28]\n"
     ]
    }
   ],
   "source": [
    "# other cool slicing\n",
    "print(np.arange(50)[10:30:3])  # start:end:step"
   ]
  },
  {
   "cell_type": "code",
   "execution_count": 169,
   "metadata": {},
   "outputs": [
    {
     "name": "stdout",
     "output_type": "stream",
     "text": [
      "[1 2 3 4 6 7 8 9]\n",
      "[[1 2 3 4]\n",
      " [6 7 8 9]]\n"
     ]
    }
   ],
   "source": [
    "a1 = np.array([1, 2, 3, 4])\n",
    "a2 = np.array([6, 7, 8, 9])\n",
    "\n",
    "# arrays can be concatenated together\n",
    "a3 = np.concatenate((a1, a2))\n",
    "# they can also be \"stacked\" along a new dimension\n",
    "a4 = np.stack((a1, a2))\n",
    "print(a3)\n",
    "print(a4)"
   ]
  },
  {
   "cell_type": "code",
   "execution_count": 170,
   "metadata": {},
   "outputs": [
    {
     "name": "stdout",
     "output_type": "stream",
     "text": [
      "[1 2 3 4 6 7 8 9]\n",
      "[[1 2 3 4]\n",
      " [6 7 8 9]]\n",
      "[[[1 6]\n",
      "  [2 7]\n",
      "  [3 8]\n",
      "  [4 9]]]\n"
     ]
    }
   ],
   "source": [
    "# there's plenty of ways to stack arrays\n",
    "# in general... if you have two arrays and can imagine a way to combine them, \n",
    "# there probably exists a function capable of doing just that (with the right arguments)\n",
    "# Here's some helper functions\n",
    "a5 = np.hstack((a1, a2))\n",
    "a6 = np.vstack((a1, a2))\n",
    "a7 = np.dstack((a1, a2))\n",
    "print(a5)\n",
    "print(a6)\n",
    "print(a7)"
   ]
  },
  {
   "cell_type": "code",
   "execution_count": 171,
   "metadata": {},
   "outputs": [
    {
     "name": "stdout",
     "output_type": "stream",
     "text": [
      "[0 1 2 3 4 5 6 7 8 9]\n",
      "[array([0, 1, 2, 3]), array([4, 5, 6]), array([7, 8, 9])]\n"
     ]
    }
   ],
   "source": [
    "array = np.arange(10)\n",
    "print(array)\n",
    "print(np.array_split(array, 3)) # a list of 3 arrays, created by splitting the given array into 3 parts"
   ]
  },
  {
   "cell_type": "code",
   "execution_count": 172,
   "metadata": {},
   "outputs": [
    {
     "name": "stdout",
     "output_type": "stream",
     "text": [
      "[[[ 1  2  3  4]\n",
      "  [ 5  6  7  8]\n",
      "  [ 9 10 11 12]]\n",
      "\n",
      " [[10 20  0  0]\n",
      "  [30 40  0  0]\n",
      "  [50 60  0  0]]]\n",
      "[[[ 1  2  3  4]]\n",
      "\n",
      " [[10 20  0  0]]]\n",
      "[[[ 5  6  7  8]]\n",
      "\n",
      " [[30 40  0  0]]]\n",
      "[[[ 9 10 11 12]]\n",
      "\n",
      " [[50 60  0  0]]]\n"
     ]
    }
   ],
   "source": [
    "print(array3d)\n",
    "results = np.array_split(array3d, 3, axis=1)  # split a 3D array along its 2nd axis\n",
    "for result in results:\n",
    "    print(result)"
   ]
  },
  {
   "cell_type": "code",
   "execution_count": 173,
   "metadata": {},
   "outputs": [
    {
     "name": "stdout",
     "output_type": "stream",
     "text": [
      "[ 0  1  2  3  4  5  6  7  8  9 10 11 12 13 14 15 16 17 18 19]\n",
      "[ 1 16 10  8 15 14  7 12  9 19  3  4 17  0  6 11 13  5  2 18]\n",
      "(array([ 1,  2,  4,  5,  7,  9, 12, 15, 16, 19], dtype=int64),)\n",
      "[16 10 15 14 12 19 17 11 13 18]\n",
      "[ 0  1  2  3  4  5  6  7  8  9 10 11 12 13 14 15 16 17 18 19]\n"
     ]
    }
   ],
   "source": [
    "# shuffling, searching, filtering, sorting\n",
    "\n",
    "array = np.arange(20)\n",
    "print(array)\n",
    "\n",
    "# in-place shuffling (in-place means array is modified directly)\n",
    "np.random.shuffle(array)\n",
    "print(array)\n",
    "\n",
    "# find positions where a conditional statment is satisfied\n",
    "indices = np.where(array*array + array > 100)\n",
    "print(indices)\n",
    "\n",
    "# index into the array at those positions to filter\n",
    "print(array[indices])\n",
    "\n",
    "# sort the array\n",
    "array = np.sort(array)\n",
    "print(array)"
   ]
  },
  {
   "cell_type": "code",
   "execution_count": 174,
   "metadata": {},
   "outputs": [
    {
     "name": "stdout",
     "output_type": "stream",
     "text": [
      "[[1 2]\n",
      " [3 4]\n",
      " [5 6]]\n",
      "(array([1, 2, 2], dtype=int64), array([1, 0, 1], dtype=int64))\n"
     ]
    }
   ],
   "source": [
    "array = np.array([[1, 2], [3, 4], [5, 6]]) # 2d array\n",
    "print(array)\n",
    "indices = np.where(array >= 4)\n",
    "print(indices)"
   ]
  },
  {
   "cell_type": "markdown",
   "metadata": {},
   "source": [
    "### Matrix and Vector Operations"
   ]
  },
  {
   "cell_type": "code",
   "execution_count": 175,
   "metadata": {},
   "outputs": [
    {
     "name": "stdout",
     "output_type": "stream",
     "text": [
      "[[1 2]\n",
      " [3 4]\n",
      " [5 6]]\n",
      "[[7 8]\n",
      " [9 0]]\n",
      "[[25  8]\n",
      " [57 24]\n",
      " [89 40]]\n"
     ]
    }
   ],
   "source": [
    "# matrix operations\n",
    "\n",
    "array1 = np.array([[1, 2], [3, 4], [5, 6]]) # 2d array\n",
    "print(array1)\n",
    "\n",
    "array2 = np.array([[7, 8], [9, 0]]) # another 2d array\n",
    "print(array2)\n",
    "\n",
    "# three ways of computing matrix product\n",
    "matrixproduct = array1 @ array2\n",
    "matrixproduct = array1.dot(array2)\n",
    "matrixproduct = np.matmul(array1,array2)\n",
    "print(matrixproduct)"
   ]
  },
  {
   "cell_type": "code",
   "execution_count": 176,
   "metadata": {},
   "outputs": [
    {
     "name": "stdout",
     "output_type": "stream",
     "text": [
      "[[7 8]\n",
      " [9 0]]\n",
      "[[ 0.          0.11111111]\n",
      " [ 0.125      -0.09722222]]\n",
      "[[7 9]\n",
      " [8 0]]\n",
      "[[70 80]\n",
      " [90  0]]\n"
     ]
    }
   ],
   "source": [
    "array2 = np.array([[7, 8], [9, 0]]) # another 2d array\n",
    "print(array2)\n",
    "\n",
    "inverse = np.linalg.inv(array2)\n",
    "print(inverse)\n",
    "\n",
    "trans = array2.transpose()\n",
    "print(trans)\n",
    "\n",
    "# ways of computing a scalar product\n",
    "scalarproduct = array2 * 10\n",
    "scalarproduct = array2.dot(10)\n",
    "print(scalarproduct)"
   ]
  },
  {
   "cell_type": "code",
   "execution_count": 177,
   "metadata": {},
   "outputs": [
    {
     "name": "stdout",
     "output_type": "stream",
     "text": [
      "[1 2 3]\n",
      "[  1  10 100]\n",
      "[  2  12 103]\n",
      "[1.   0.2  0.03]\n",
      "321\n",
      "[170 -97   8]\n"
     ]
    }
   ],
   "source": [
    "vector1 = np.array([1,2,3])\n",
    "print(vector1)\n",
    "vector2 = np.array([1,10,100])\n",
    "print(vector2)\n",
    "\n",
    "# element-wise operations\n",
    "elementsum = vector1 + vector2\n",
    "print(elementsum)\n",
    "elementproduct = vector1 / vector2\n",
    "print(elementproduct)\n",
    "\n",
    "# .dot() also computes inner product\n",
    "innerproduct = vector1.dot(vector2)\n",
    "print(innerproduct)\n",
    "\n",
    "# other vector operations also supported\n",
    "crossproduct = np.cross(vector1,vector2)\n",
    "print(crossproduct)"
   ]
  },
  {
   "cell_type": "markdown",
   "metadata": {},
   "source": [
    "### Generating Random Numbers"
   ]
  },
  {
   "cell_type": "code",
   "execution_count": 178,
   "metadata": {},
   "outputs": [
    {
     "name": "stdout",
     "output_type": "stream",
     "text": [
      "[-1.20686687 -1.0859122   0.23427438 -0.0735057  -1.36743197 -1.71449379\n",
      "  0.73674759 -0.37026435  0.31890638 -0.46670479  0.3200957   0.64577464\n",
      "  1.2400107   0.86777871  0.8145435   0.58518262  0.35613113  0.53092172\n",
      "  0.45293155 -0.74751668 -1.11747935 -1.23395138  0.49018311 -2.10080056\n",
      " -1.03838373]\n",
      "[[0.62332186 0.65922532 0.7492454  0.52147226]\n",
      " [0.55532924 0.64175687 0.03237781 0.62502261]]\n"
     ]
    }
   ],
   "source": [
    "# numpy has a large assortment of functions for generating random data\n",
    "\n",
    "array = np.random.standard_normal(25)\n",
    "print(array)\n",
    "\n",
    "# creating an array with a given shape filled with values between 0 and 1\n",
    "array = np.random.rand(2,4)\n",
    "print(array)\n",
    "\n",
    "# other important random distributions"
   ]
  },
  {
   "cell_type": "markdown",
   "metadata": {},
   "source": [
    "## Organizing your data with pandas dataframes"
   ]
  },
  {
   "cell_type": "code",
   "execution_count": 179,
   "metadata": {},
   "outputs": [
    {
     "data": {
      "text/html": [
       "<div>\n",
       "<style scoped>\n",
       "    .dataframe tbody tr th:only-of-type {\n",
       "        vertical-align: middle;\n",
       "    }\n",
       "\n",
       "    .dataframe tbody tr th {\n",
       "        vertical-align: top;\n",
       "    }\n",
       "\n",
       "    .dataframe thead th {\n",
       "        text-align: right;\n",
       "    }\n",
       "</style>\n",
       "<table border=\"1\" class=\"dataframe\">\n",
       "  <thead>\n",
       "    <tr style=\"text-align: right;\">\n",
       "      <th></th>\n",
       "      <th>firstname</th>\n",
       "      <th>lastname</th>\n",
       "      <th>value</th>\n",
       "    </tr>\n",
       "  </thead>\n",
       "  <tbody>\n",
       "    <tr>\n",
       "      <th>0</th>\n",
       "      <td>a</td>\n",
       "      <td>x</td>\n",
       "      <td>23</td>\n",
       "    </tr>\n",
       "    <tr>\n",
       "      <th>1</th>\n",
       "      <td>b</td>\n",
       "      <td>y</td>\n",
       "      <td>45</td>\n",
       "    </tr>\n",
       "    <tr>\n",
       "      <th>2</th>\n",
       "      <td>c</td>\n",
       "      <td>z</td>\n",
       "      <td>67</td>\n",
       "    </tr>\n",
       "  </tbody>\n",
       "</table>\n",
       "</div>"
      ],
      "text/plain": [
       "  firstname lastname value\n",
       "0         a        x    23\n",
       "1         b        y    45\n",
       "2         c        z    67"
      ]
     },
     "execution_count": 179,
     "metadata": {},
     "output_type": "execute_result"
    }
   ],
   "source": [
    "import pandas as pd\n",
    "# pd is the standard abbreviation for pandas\n",
    "\n",
    "# pandas dataframes are similar to 2D arrays, but are more in the style of a database\n",
    "# rows represent IDs / entries / labels / observations\n",
    "# colums represent properties / measured variables\n",
    "\n",
    "array = np.array([['a','x',23],['b','y',45],['c','z',67]])\n",
    "\n",
    "df = pd.DataFrame(array, columns=['firstname','lastname','value'])\n",
    "\n",
    "df"
   ]
  },
  {
   "cell_type": "code",
   "execution_count": 180,
   "metadata": {},
   "outputs": [],
   "source": [
    "# copies can be made which are unaffected by modifications to the original\n",
    "dfcopy = df.copy()"
   ]
  },
  {
   "cell_type": "code",
   "execution_count": 181,
   "metadata": {},
   "outputs": [
    {
     "data": {
      "text/html": [
       "<div>\n",
       "<style scoped>\n",
       "    .dataframe tbody tr th:only-of-type {\n",
       "        vertical-align: middle;\n",
       "    }\n",
       "\n",
       "    .dataframe tbody tr th {\n",
       "        vertical-align: top;\n",
       "    }\n",
       "\n",
       "    .dataframe thead th {\n",
       "        text-align: right;\n",
       "    }\n",
       "</style>\n",
       "<table border=\"1\" class=\"dataframe\">\n",
       "  <thead>\n",
       "    <tr style=\"text-align: right;\">\n",
       "      <th></th>\n",
       "      <th>lastname</th>\n",
       "      <th>value</th>\n",
       "    </tr>\n",
       "    <tr>\n",
       "      <th>firstname</th>\n",
       "      <th></th>\n",
       "      <th></th>\n",
       "    </tr>\n",
       "  </thead>\n",
       "  <tbody>\n",
       "    <tr>\n",
       "      <th>a</th>\n",
       "      <td>x</td>\n",
       "      <td>23</td>\n",
       "    </tr>\n",
       "    <tr>\n",
       "      <th>b</th>\n",
       "      <td>y</td>\n",
       "      <td>45</td>\n",
       "    </tr>\n",
       "    <tr>\n",
       "      <th>c</th>\n",
       "      <td>z</td>\n",
       "      <td>67</td>\n",
       "    </tr>\n",
       "  </tbody>\n",
       "</table>\n",
       "</div>"
      ],
      "text/plain": [
       "          lastname value\n",
       "firstname               \n",
       "a                x    23\n",
       "b                y    45\n",
       "c                z    67"
      ]
     },
     "execution_count": 181,
     "metadata": {},
     "output_type": "execute_result"
    }
   ],
   "source": [
    "# convert the 'firstname' column into the row label, replacing the default labels\n",
    "df.set_index('firstname', inplace=True)\n",
    "df"
   ]
  },
  {
   "cell_type": "code",
   "execution_count": 182,
   "metadata": {},
   "outputs": [
    {
     "data": {
      "text/plain": [
       "lastname     x\n",
       "value       23\n",
       "Name: a, dtype: object"
      ]
     },
     "execution_count": 182,
     "metadata": {},
     "output_type": "execute_result"
    }
   ],
   "source": [
    "# ways to index a dataframe\n",
    "df.loc['a']  # get row based on label"
   ]
  },
  {
   "cell_type": "code",
   "execution_count": 183,
   "metadata": {},
   "outputs": [
    {
     "data": {
      "text/plain": [
       "'x'"
      ]
     },
     "execution_count": 183,
     "metadata": {},
     "output_type": "execute_result"
    }
   ],
   "source": [
    "df.loc['a','lastname']  # get element based on row and column label"
   ]
  },
  {
   "cell_type": "code",
   "execution_count": 184,
   "metadata": {},
   "outputs": [
    {
     "data": {
      "text/plain": [
       "lastname     x\n",
       "value       23\n",
       "Name: a, dtype: object"
      ]
     },
     "execution_count": 184,
     "metadata": {},
     "output_type": "execute_result"
    }
   ],
   "source": [
    "df.iloc[0]  # get row based on position"
   ]
  },
  {
   "cell_type": "code",
   "execution_count": 185,
   "metadata": {},
   "outputs": [
    {
     "data": {
      "text/plain": [
       "'x'"
      ]
     },
     "execution_count": 185,
     "metadata": {},
     "output_type": "execute_result"
    }
   ],
   "source": [
    "df.iloc[0,0]  # get element based on label and column position"
   ]
  },
  {
   "cell_type": "code",
   "execution_count": 186,
   "metadata": {},
   "outputs": [
    {
     "data": {
      "text/html": [
       "<div>\n",
       "<style scoped>\n",
       "    .dataframe tbody tr th:only-of-type {\n",
       "        vertical-align: middle;\n",
       "    }\n",
       "\n",
       "    .dataframe tbody tr th {\n",
       "        vertical-align: top;\n",
       "    }\n",
       "\n",
       "    .dataframe thead th {\n",
       "        text-align: right;\n",
       "    }\n",
       "</style>\n",
       "<table border=\"1\" class=\"dataframe\">\n",
       "  <thead>\n",
       "    <tr style=\"text-align: right;\">\n",
       "      <th></th>\n",
       "      <th>value</th>\n",
       "      <th>lastname</th>\n",
       "    </tr>\n",
       "    <tr>\n",
       "      <th>firstname</th>\n",
       "      <th></th>\n",
       "      <th></th>\n",
       "    </tr>\n",
       "  </thead>\n",
       "  <tbody>\n",
       "    <tr>\n",
       "      <th>c</th>\n",
       "      <td>67</td>\n",
       "      <td>z</td>\n",
       "    </tr>\n",
       "    <tr>\n",
       "      <th>a</th>\n",
       "      <td>23</td>\n",
       "      <td>x</td>\n",
       "    </tr>\n",
       "  </tbody>\n",
       "</table>\n",
       "</div>"
      ],
      "text/plain": [
       "          value lastname\n",
       "firstname               \n",
       "c            67        z\n",
       "a            23        x"
      ]
     },
     "execution_count": 186,
     "metadata": {},
     "output_type": "execute_result"
    }
   ],
   "source": [
    "# can get a section of the dataframe by specifying multiple rows and columns\n",
    "# notice the reordering of data\n",
    "df.loc[('c','a'),('value','lastname')]"
   ]
  },
  {
   "cell_type": "code",
   "execution_count": 187,
   "metadata": {},
   "outputs": [
    {
     "data": {
      "text/plain": [
       "firstname\n",
       "a    23\n",
       "b    45\n",
       "c    67\n",
       "Name: value, dtype: object"
      ]
     },
     "execution_count": 187,
     "metadata": {},
     "output_type": "execute_result"
    }
   ],
   "source": [
    "# getting a single column\n",
    "df.loc[:,'value']"
   ]
  },
  {
   "cell_type": "code",
   "execution_count": 188,
   "metadata": {},
   "outputs": [
    {
     "data": {
      "text/plain": [
       "firstname\n",
       "a    23\n",
       "b    45\n",
       "c    67\n",
       "Name: value, dtype: object"
      ]
     },
     "execution_count": 188,
     "metadata": {},
     "output_type": "execute_result"
    }
   ],
   "source": [
    "# you can index columns with []\n",
    "df['value']"
   ]
  },
  {
   "cell_type": "code",
   "execution_count": 189,
   "metadata": {},
   "outputs": [
    {
     "data": {
      "text/html": [
       "<div>\n",
       "<style scoped>\n",
       "    .dataframe tbody tr th:only-of-type {\n",
       "        vertical-align: middle;\n",
       "    }\n",
       "\n",
       "    .dataframe tbody tr th {\n",
       "        vertical-align: top;\n",
       "    }\n",
       "\n",
       "    .dataframe thead th {\n",
       "        text-align: right;\n",
       "    }\n",
       "</style>\n",
       "<table border=\"1\" class=\"dataframe\">\n",
       "  <thead>\n",
       "    <tr style=\"text-align: right;\">\n",
       "      <th></th>\n",
       "      <th>lastname</th>\n",
       "      <th>value</th>\n",
       "    </tr>\n",
       "    <tr>\n",
       "      <th>firstname</th>\n",
       "      <th></th>\n",
       "      <th></th>\n",
       "    </tr>\n",
       "  </thead>\n",
       "  <tbody>\n",
       "    <tr>\n",
       "      <th>a</th>\n",
       "      <td>x</td>\n",
       "      <td>23</td>\n",
       "    </tr>\n",
       "    <tr>\n",
       "      <th>c</th>\n",
       "      <td>z</td>\n",
       "      <td>67</td>\n",
       "    </tr>\n",
       "  </tbody>\n",
       "</table>\n",
       "</div>"
      ],
      "text/plain": [
       "          lastname value\n",
       "firstname               \n",
       "a                x    23\n",
       "c                z    67"
      ]
     },
     "execution_count": 189,
     "metadata": {},
     "output_type": "execute_result"
    }
   ],
   "source": [
    "# you can also index rows with [] if you have a boolean list indicating rows to include\n",
    "df[[True,False,True]]"
   ]
  },
  {
   "cell_type": "code",
   "execution_count": 190,
   "metadata": {},
   "outputs": [
    {
     "data": {
      "text/plain": [
       "pandas.core.series.Series"
      ]
     },
     "execution_count": 190,
     "metadata": {},
     "output_type": "execute_result"
    }
   ],
   "source": [
    "# while a pandas DataFrame is a 2D structure, a pandas Series is a 1D structure, representing a column or row\n",
    "type(df.loc['a'])"
   ]
  },
  {
   "cell_type": "code",
   "execution_count": 191,
   "metadata": {},
   "outputs": [
    {
     "name": "stdout",
     "output_type": "stream",
     "text": [
      "0    a\n",
      "1    b\n",
      "2    c\n",
      "3    d\n",
      "4    e\n",
      "dtype: object\n",
      "\n",
      "col1    a\n",
      "col2    b\n",
      "col3    c\n",
      "col4    d\n",
      "col5    e\n",
      "dtype: object\n",
      "\n",
      "col1    val1\n",
      "col2    val2\n",
      "dtype: object\n"
     ]
    }
   ],
   "source": [
    "# there are different ways of declaring a Series\n",
    "\n",
    "# from a list or array\n",
    "series = pd.Series(['a','b','c','d','e'])\n",
    "print(series)\n",
    "print()\n",
    "\n",
    "# similar to rows/columns, the different positions can have different labels\n",
    "series = pd.Series(['a','b','c','d','e'],index=['col1','col2','col3','col4','col5'])\n",
    "print(series)\n",
    "print()\n",
    "\n",
    "# a python dictionary can also be converted to a series\n",
    "series = pd.Series({'col1':'val1','col2':'val2'})\n",
    "print(series)"
   ]
  },
  {
   "cell_type": "code",
   "execution_count": 192,
   "metadata": {},
   "outputs": [
    {
     "name": "stdout",
     "output_type": "stream",
     "text": [
      "lastname     x\n",
      "value       23\n",
      "Name: a, dtype: object\n"
     ]
    },
    {
     "data": {
      "text/html": [
       "<div>\n",
       "<style scoped>\n",
       "    .dataframe tbody tr th:only-of-type {\n",
       "        vertical-align: middle;\n",
       "    }\n",
       "\n",
       "    .dataframe tbody tr th {\n",
       "        vertical-align: top;\n",
       "    }\n",
       "\n",
       "    .dataframe thead th {\n",
       "        text-align: right;\n",
       "    }\n",
       "</style>\n",
       "<table border=\"1\" class=\"dataframe\">\n",
       "  <thead>\n",
       "    <tr style=\"text-align: right;\">\n",
       "      <th></th>\n",
       "      <th>lastname</th>\n",
       "      <th>value</th>\n",
       "    </tr>\n",
       "    <tr>\n",
       "      <th>firstname</th>\n",
       "      <th></th>\n",
       "      <th></th>\n",
       "    </tr>\n",
       "  </thead>\n",
       "  <tbody>\n",
       "    <tr>\n",
       "      <th>a</th>\n",
       "      <td>x</td>\n",
       "      <td>23</td>\n",
       "    </tr>\n",
       "    <tr>\n",
       "      <th>b</th>\n",
       "      <td>y</td>\n",
       "      <td>45</td>\n",
       "    </tr>\n",
       "    <tr>\n",
       "      <th>c</th>\n",
       "      <td>z</td>\n",
       "      <td>67</td>\n",
       "    </tr>\n",
       "    <tr>\n",
       "      <th>d</th>\n",
       "      <td>x</td>\n",
       "      <td>23</td>\n",
       "    </tr>\n",
       "  </tbody>\n",
       "</table>\n",
       "</div>"
      ],
      "text/plain": [
       "          lastname value\n",
       "firstname               \n",
       "a                x    23\n",
       "b                y    45\n",
       "c                z    67\n",
       "d                x    23"
      ]
     },
     "execution_count": 192,
     "metadata": {},
     "output_type": "execute_result"
    }
   ],
   "source": [
    "# rows and columns of the dataframe can be added or edited\n",
    "\n",
    "series = df.loc['a']\n",
    "print(series)\n",
    "\n",
    "df.loc['d'] = series\n",
    "\n",
    "df"
   ]
  },
  {
   "cell_type": "code",
   "execution_count": 193,
   "metadata": {},
   "outputs": [
    {
     "data": {
      "text/html": [
       "<div>\n",
       "<style scoped>\n",
       "    .dataframe tbody tr th:only-of-type {\n",
       "        vertical-align: middle;\n",
       "    }\n",
       "\n",
       "    .dataframe tbody tr th {\n",
       "        vertical-align: top;\n",
       "    }\n",
       "\n",
       "    .dataframe thead th {\n",
       "        text-align: right;\n",
       "    }\n",
       "</style>\n",
       "<table border=\"1\" class=\"dataframe\">\n",
       "  <thead>\n",
       "    <tr style=\"text-align: right;\">\n",
       "      <th></th>\n",
       "      <th>lastname</th>\n",
       "      <th>value</th>\n",
       "    </tr>\n",
       "    <tr>\n",
       "      <th>firstname</th>\n",
       "      <th></th>\n",
       "      <th></th>\n",
       "    </tr>\n",
       "  </thead>\n",
       "  <tbody>\n",
       "    <tr>\n",
       "      <th>a</th>\n",
       "      <td>x</td>\n",
       "      <td>3</td>\n",
       "    </tr>\n",
       "    <tr>\n",
       "      <th>b</th>\n",
       "      <td>y</td>\n",
       "      <td>5</td>\n",
       "    </tr>\n",
       "    <tr>\n",
       "      <th>c</th>\n",
       "      <td>z</td>\n",
       "      <td>7</td>\n",
       "    </tr>\n",
       "    <tr>\n",
       "      <th>d</th>\n",
       "      <td>x</td>\n",
       "      <td>9</td>\n",
       "    </tr>\n",
       "  </tbody>\n",
       "</table>\n",
       "</div>"
      ],
      "text/plain": [
       "          lastname  value\n",
       "firstname                \n",
       "a                x      3\n",
       "b                y      5\n",
       "c                z      7\n",
       "d                x      9"
      ]
     },
     "execution_count": 193,
     "metadata": {},
     "output_type": "execute_result"
    }
   ],
   "source": [
    "df['value'] = [3,5,7,9]\n",
    "df"
   ]
  },
  {
   "cell_type": "code",
   "execution_count": 194,
   "metadata": {},
   "outputs": [
    {
     "data": {
      "text/html": [
       "<div>\n",
       "<style scoped>\n",
       "    .dataframe tbody tr th:only-of-type {\n",
       "        vertical-align: middle;\n",
       "    }\n",
       "\n",
       "    .dataframe tbody tr th {\n",
       "        vertical-align: top;\n",
       "    }\n",
       "\n",
       "    .dataframe thead th {\n",
       "        text-align: right;\n",
       "    }\n",
       "</style>\n",
       "<table border=\"1\" class=\"dataframe\">\n",
       "  <thead>\n",
       "    <tr style=\"text-align: right;\">\n",
       "      <th></th>\n",
       "      <th>col1</th>\n",
       "      <th>col2</th>\n",
       "      <th>col3</th>\n",
       "    </tr>\n",
       "  </thead>\n",
       "  <tbody>\n",
       "    <tr>\n",
       "      <th>0</th>\n",
       "      <td>1</td>\n",
       "      <td>5</td>\n",
       "      <td>0</td>\n",
       "    </tr>\n",
       "    <tr>\n",
       "      <th>1</th>\n",
       "      <td>2</td>\n",
       "      <td>6</td>\n",
       "      <td>0</td>\n",
       "    </tr>\n",
       "    <tr>\n",
       "      <th>2</th>\n",
       "      <td>3</td>\n",
       "      <td>7</td>\n",
       "      <td>0</td>\n",
       "    </tr>\n",
       "    <tr>\n",
       "      <th>3</th>\n",
       "      <td>4</td>\n",
       "      <td>8</td>\n",
       "      <td>0</td>\n",
       "    </tr>\n",
       "  </tbody>\n",
       "</table>\n",
       "</div>"
      ],
      "text/plain": [
       "   col1  col2  col3\n",
       "0     1     5     0\n",
       "1     2     6     0\n",
       "2     3     7     0\n",
       "3     4     8     0"
      ]
     },
     "execution_count": 194,
     "metadata": {},
     "output_type": "execute_result"
    }
   ],
   "source": [
    "# another way to declare dataframes\n",
    "df1 = pd.DataFrame({'col1':[1,2,3,4],'col2':[5,6,7,8],'col3':[0,0,0,0]})\n",
    "df1"
   ]
  },
  {
   "cell_type": "code",
   "execution_count": 195,
   "metadata": {},
   "outputs": [
    {
     "name": "stdout",
     "output_type": "stream",
     "text": [
      "   col1  col2  col4\n",
      "0    10    30    60\n",
      "1    20    40    70\n",
      "   col1  col2  col3  col4\n",
      "0     1     5   0.0   NaN\n",
      "1     2     6   0.0   NaN\n",
      "2     3     7   0.0   NaN\n",
      "3     4     8   0.0   NaN\n",
      "0    10    30   NaN  60.0\n",
      "1    20    40   NaN  70.0\n",
      "   col1  col2  col3  col4\n",
      "0     1     5   0.0   NaN\n",
      "1     2     6   0.0   NaN\n",
      "2     3     7   0.0   NaN\n",
      "3     4     8   0.0   NaN\n",
      "0    10    30   NaN  60.0\n",
      "1    20    40   NaN  70.0\n"
     ]
    }
   ],
   "source": [
    "# make a second dataframe with some overlap in column names\n",
    "\n",
    "df2 = pd.DataFrame({'col1':[10,20],'col2':[30,40],'col4':[60,70]})\n",
    "print(df2)\n",
    "\n",
    "# append one to the other (original dataframes are unmodified)\n",
    "result = df1.append(df2)\n",
    "print(result)\n",
    "\n",
    "# concatenate a list of dataframes together\n",
    "result = pd.concat([df1,df2],sort=False)\n",
    "print(result)"
   ]
  },
  {
   "cell_type": "code",
   "execution_count": 196,
   "metadata": {},
   "outputs": [
    {
     "data": {
      "text/html": [
       "<div>\n",
       "<style scoped>\n",
       "    .dataframe tbody tr th:only-of-type {\n",
       "        vertical-align: middle;\n",
       "    }\n",
       "\n",
       "    .dataframe tbody tr th {\n",
       "        vertical-align: top;\n",
       "    }\n",
       "\n",
       "    .dataframe thead th {\n",
       "        text-align: right;\n",
       "    }\n",
       "</style>\n",
       "<table border=\"1\" class=\"dataframe\">\n",
       "  <thead>\n",
       "    <tr style=\"text-align: right;\">\n",
       "      <th></th>\n",
       "      <th>col1</th>\n",
       "      <th>col2</th>\n",
       "      <th>col3</th>\n",
       "      <th>col4</th>\n",
       "    </tr>\n",
       "  </thead>\n",
       "  <tbody>\n",
       "    <tr>\n",
       "      <th>0</th>\n",
       "      <td>1</td>\n",
       "      <td>5</td>\n",
       "      <td>0.0</td>\n",
       "      <td>NaN</td>\n",
       "    </tr>\n",
       "    <tr>\n",
       "      <th>1</th>\n",
       "      <td>2</td>\n",
       "      <td>6</td>\n",
       "      <td>0.0</td>\n",
       "      <td>NaN</td>\n",
       "    </tr>\n",
       "    <tr>\n",
       "      <th>2</th>\n",
       "      <td>3</td>\n",
       "      <td>7</td>\n",
       "      <td>0.0</td>\n",
       "      <td>NaN</td>\n",
       "    </tr>\n",
       "    <tr>\n",
       "      <th>3</th>\n",
       "      <td>4</td>\n",
       "      <td>8</td>\n",
       "      <td>0.0</td>\n",
       "      <td>NaN</td>\n",
       "    </tr>\n",
       "    <tr>\n",
       "      <th>4</th>\n",
       "      <td>10</td>\n",
       "      <td>30</td>\n",
       "      <td>NaN</td>\n",
       "      <td>60.0</td>\n",
       "    </tr>\n",
       "    <tr>\n",
       "      <th>5</th>\n",
       "      <td>20</td>\n",
       "      <td>40</td>\n",
       "      <td>NaN</td>\n",
       "      <td>70.0</td>\n",
       "    </tr>\n",
       "    <tr>\n",
       "      <th>6</th>\n",
       "      <td>11</td>\n",
       "      <td>22</td>\n",
       "      <td>33.0</td>\n",
       "      <td>44.0</td>\n",
       "    </tr>\n",
       "  </tbody>\n",
       "</table>\n",
       "</div>"
      ],
      "text/plain": [
       "   col1  col2  col3  col4\n",
       "0     1     5   0.0   NaN\n",
       "1     2     6   0.0   NaN\n",
       "2     3     7   0.0   NaN\n",
       "3     4     8   0.0   NaN\n",
       "4    10    30   NaN  60.0\n",
       "5    20    40   NaN  70.0\n",
       "6    11    22  33.0  44.0"
      ]
     },
     "execution_count": 196,
     "metadata": {},
     "output_type": "execute_result"
    }
   ],
   "source": [
    "rowtoappend = pd.Series([11,22,33,44], index=result.columns)\n",
    "df = result.append(rowtoappend, ignore_index=True)  #ignore_index resets/recomputes the default indices\n",
    "df"
   ]
  },
  {
   "cell_type": "code",
   "execution_count": 197,
   "metadata": {},
   "outputs": [
    {
     "name": "stdout",
     "output_type": "stream",
     "text": [
      "col1     7.285714\n",
      "col2    16.857143\n",
      "col3     6.600000\n",
      "col4    58.000000\n",
      "dtype: float64\n",
      "col1     6.824326\n",
      "col2    13.957418\n",
      "col3    14.758049\n",
      "col4    13.114877\n",
      "dtype: float64\n",
      "   col1  col2  col3   col4\n",
      "0     1     5   0.0    NaN\n",
      "1     3    11   0.0    NaN\n",
      "2     6    18   0.0    NaN\n",
      "3    10    26   0.0    NaN\n",
      "4    20    56   NaN   60.0\n",
      "5    40    96   NaN  130.0\n",
      "6    51   118  33.0  174.0\n"
     ]
    }
   ],
   "source": [
    "# calculating basic statistics on dataframes\n",
    "\n",
    "print(df.mean())\n",
    "print(df.std())\n",
    "print(df.cumsum())"
   ]
  },
  {
   "cell_type": "code",
   "execution_count": 198,
   "metadata": {},
   "outputs": [
    {
     "name": "stdout",
     "output_type": "stream",
     "text": [
      "    col1   col2   col3   col4\n",
      "0  False  False  False   True\n",
      "1  False  False  False   True\n",
      "2  False  False  False   True\n",
      "3  False  False  False   True\n",
      "4  False  False   True  False\n",
      "5  False  False   True  False\n",
      "6  False  False  False  False\n",
      "   col1  col2   col3   col4\n",
      "0  True  True   True  False\n",
      "1  True  True   True  False\n",
      "2  True  True   True  False\n",
      "3  True  True   True  False\n",
      "4  True  True  False   True\n",
      "5  True  True  False   True\n",
      "6  True  True   True   True\n"
     ]
    }
   ],
   "source": [
    "# ways to test for NaN values\n",
    "print(df.isna())\n",
    "print(df.notna())"
   ]
  },
  {
   "cell_type": "code",
   "execution_count": 199,
   "metadata": {},
   "outputs": [
    {
     "name": "stdout",
     "output_type": "stream",
     "text": [
      "0     True\n",
      "1     True\n",
      "2     True\n",
      "3     True\n",
      "4    False\n",
      "5    False\n",
      "6    False\n",
      "Name: col3, dtype: bool\n",
      "0     True\n",
      "1     True\n",
      "2     True\n",
      "3     True\n",
      "4    False\n",
      "5    False\n",
      "6     True\n",
      "Name: col3, dtype: bool\n"
     ]
    }
   ],
   "source": [
    "# testing columns/rows produces a series of boolean values\n",
    "print(df['col3'] < 10)\n",
    "\n",
    "print(df['col3'].notna())"
   ]
  },
  {
   "cell_type": "code",
   "execution_count": 200,
   "metadata": {},
   "outputs": [
    {
     "data": {
      "text/html": [
       "<div>\n",
       "<style scoped>\n",
       "    .dataframe tbody tr th:only-of-type {\n",
       "        vertical-align: middle;\n",
       "    }\n",
       "\n",
       "    .dataframe tbody tr th {\n",
       "        vertical-align: top;\n",
       "    }\n",
       "\n",
       "    .dataframe thead th {\n",
       "        text-align: right;\n",
       "    }\n",
       "</style>\n",
       "<table border=\"1\" class=\"dataframe\">\n",
       "  <thead>\n",
       "    <tr style=\"text-align: right;\">\n",
       "      <th></th>\n",
       "      <th>col1</th>\n",
       "      <th>col2</th>\n",
       "      <th>col3</th>\n",
       "      <th>col4</th>\n",
       "    </tr>\n",
       "  </thead>\n",
       "  <tbody>\n",
       "    <tr>\n",
       "      <th>0</th>\n",
       "      <td>1</td>\n",
       "      <td>5</td>\n",
       "      <td>0.0</td>\n",
       "      <td>NaN</td>\n",
       "    </tr>\n",
       "    <tr>\n",
       "      <th>1</th>\n",
       "      <td>2</td>\n",
       "      <td>6</td>\n",
       "      <td>0.0</td>\n",
       "      <td>NaN</td>\n",
       "    </tr>\n",
       "    <tr>\n",
       "      <th>2</th>\n",
       "      <td>3</td>\n",
       "      <td>7</td>\n",
       "      <td>0.0</td>\n",
       "      <td>NaN</td>\n",
       "    </tr>\n",
       "    <tr>\n",
       "      <th>3</th>\n",
       "      <td>4</td>\n",
       "      <td>8</td>\n",
       "      <td>0.0</td>\n",
       "      <td>NaN</td>\n",
       "    </tr>\n",
       "    <tr>\n",
       "      <th>6</th>\n",
       "      <td>11</td>\n",
       "      <td>22</td>\n",
       "      <td>33.0</td>\n",
       "      <td>44.0</td>\n",
       "    </tr>\n",
       "  </tbody>\n",
       "</table>\n",
       "</div>"
      ],
      "text/plain": [
       "   col1  col2  col3  col4\n",
       "0     1     5   0.0   NaN\n",
       "1     2     6   0.0   NaN\n",
       "2     3     7   0.0   NaN\n",
       "3     4     8   0.0   NaN\n",
       "6    11    22  33.0  44.0"
      ]
     },
     "execution_count": 200,
     "metadata": {},
     "output_type": "execute_result"
    }
   ],
   "source": [
    "# you can use this to filter\n",
    "filtered = df[df['col3'].notna()]\n",
    "filtered"
   ]
  },
  {
   "cell_type": "code",
   "execution_count": 201,
   "metadata": {},
   "outputs": [
    {
     "data": {
      "text/html": [
       "<div>\n",
       "<style scoped>\n",
       "    .dataframe tbody tr th:only-of-type {\n",
       "        vertical-align: middle;\n",
       "    }\n",
       "\n",
       "    .dataframe tbody tr th {\n",
       "        vertical-align: top;\n",
       "    }\n",
       "\n",
       "    .dataframe thead th {\n",
       "        text-align: right;\n",
       "    }\n",
       "</style>\n",
       "<table border=\"1\" class=\"dataframe\">\n",
       "  <thead>\n",
       "    <tr style=\"text-align: right;\">\n",
       "      <th></th>\n",
       "      <th>col1</th>\n",
       "      <th>col2</th>\n",
       "      <th>col3</th>\n",
       "      <th>col4</th>\n",
       "    </tr>\n",
       "  </thead>\n",
       "  <tbody>\n",
       "    <tr>\n",
       "      <th>0</th>\n",
       "      <td>1</td>\n",
       "      <td>5</td>\n",
       "      <td>0.0</td>\n",
       "      <td>0.0</td>\n",
       "    </tr>\n",
       "    <tr>\n",
       "      <th>1</th>\n",
       "      <td>2</td>\n",
       "      <td>6</td>\n",
       "      <td>0.0</td>\n",
       "      <td>0.0</td>\n",
       "    </tr>\n",
       "    <tr>\n",
       "      <th>2</th>\n",
       "      <td>3</td>\n",
       "      <td>7</td>\n",
       "      <td>0.0</td>\n",
       "      <td>0.0</td>\n",
       "    </tr>\n",
       "    <tr>\n",
       "      <th>3</th>\n",
       "      <td>4</td>\n",
       "      <td>8</td>\n",
       "      <td>0.0</td>\n",
       "      <td>0.0</td>\n",
       "    </tr>\n",
       "    <tr>\n",
       "      <th>4</th>\n",
       "      <td>10</td>\n",
       "      <td>30</td>\n",
       "      <td>0.0</td>\n",
       "      <td>60.0</td>\n",
       "    </tr>\n",
       "    <tr>\n",
       "      <th>5</th>\n",
       "      <td>20</td>\n",
       "      <td>40</td>\n",
       "      <td>0.0</td>\n",
       "      <td>70.0</td>\n",
       "    </tr>\n",
       "    <tr>\n",
       "      <th>6</th>\n",
       "      <td>11</td>\n",
       "      <td>22</td>\n",
       "      <td>33.0</td>\n",
       "      <td>44.0</td>\n",
       "    </tr>\n",
       "  </tbody>\n",
       "</table>\n",
       "</div>"
      ],
      "text/plain": [
       "   col1  col2  col3  col4\n",
       "0     1     5   0.0   0.0\n",
       "1     2     6   0.0   0.0\n",
       "2     3     7   0.0   0.0\n",
       "3     4     8   0.0   0.0\n",
       "4    10    30   0.0  60.0\n",
       "5    20    40   0.0  70.0\n",
       "6    11    22  33.0  44.0"
      ]
     },
     "execution_count": 201,
     "metadata": {},
     "output_type": "execute_result"
    }
   ],
   "source": [
    "df = df.fillna(0) # lots of arguments can be provided for different methods of filling missing data\n",
    "df"
   ]
  },
  {
   "cell_type": "code",
   "execution_count": 202,
   "metadata": {},
   "outputs": [
    {
     "data": {
      "text/html": [
       "<div>\n",
       "<style scoped>\n",
       "    .dataframe tbody tr th:only-of-type {\n",
       "        vertical-align: middle;\n",
       "    }\n",
       "\n",
       "    .dataframe tbody tr th {\n",
       "        vertical-align: top;\n",
       "    }\n",
       "\n",
       "    .dataframe thead th {\n",
       "        text-align: right;\n",
       "    }\n",
       "</style>\n",
       "<table border=\"1\" class=\"dataframe\">\n",
       "  <thead>\n",
       "    <tr style=\"text-align: right;\">\n",
       "      <th></th>\n",
       "      <th>col1</th>\n",
       "      <th>col2</th>\n",
       "      <th>col3</th>\n",
       "      <th>col4</th>\n",
       "    </tr>\n",
       "  </thead>\n",
       "  <tbody>\n",
       "    <tr>\n",
       "      <th>0</th>\n",
       "      <td>1</td>\n",
       "      <td>5</td>\n",
       "      <td>0.0</td>\n",
       "      <td>0.0</td>\n",
       "    </tr>\n",
       "    <tr>\n",
       "      <th>1</th>\n",
       "      <td>2</td>\n",
       "      <td>6</td>\n",
       "      <td>0.0</td>\n",
       "      <td>0.0</td>\n",
       "    </tr>\n",
       "    <tr>\n",
       "      <th>2</th>\n",
       "      <td>3</td>\n",
       "      <td>7</td>\n",
       "      <td>0.0</td>\n",
       "      <td>0.0</td>\n",
       "    </tr>\n",
       "    <tr>\n",
       "      <th>3</th>\n",
       "      <td>4</td>\n",
       "      <td>8</td>\n",
       "      <td>0.0</td>\n",
       "      <td>0.0</td>\n",
       "    </tr>\n",
       "    <tr>\n",
       "      <th>6</th>\n",
       "      <td>11</td>\n",
       "      <td>22</td>\n",
       "      <td>33.0</td>\n",
       "      <td>44.0</td>\n",
       "    </tr>\n",
       "    <tr>\n",
       "      <th>4</th>\n",
       "      <td>10</td>\n",
       "      <td>30</td>\n",
       "      <td>0.0</td>\n",
       "      <td>60.0</td>\n",
       "    </tr>\n",
       "    <tr>\n",
       "      <th>5</th>\n",
       "      <td>20</td>\n",
       "      <td>40</td>\n",
       "      <td>0.0</td>\n",
       "      <td>70.0</td>\n",
       "    </tr>\n",
       "  </tbody>\n",
       "</table>\n",
       "</div>"
      ],
      "text/plain": [
       "   col1  col2  col3  col4\n",
       "0     1     5   0.0   0.0\n",
       "1     2     6   0.0   0.0\n",
       "2     3     7   0.0   0.0\n",
       "3     4     8   0.0   0.0\n",
       "6    11    22  33.0  44.0\n",
       "4    10    30   0.0  60.0\n",
       "5    20    40   0.0  70.0"
      ]
     },
     "execution_count": 202,
     "metadata": {},
     "output_type": "execute_result"
    }
   ],
   "source": [
    "# you can sort by value of a column\n",
    "df = df.sort_values(by=['col2'])\n",
    "df"
   ]
  },
  {
   "cell_type": "code",
   "execution_count": 203,
   "metadata": {},
   "outputs": [
    {
     "data": {
      "text/html": [
       "<div>\n",
       "<style scoped>\n",
       "    .dataframe tbody tr th:only-of-type {\n",
       "        vertical-align: middle;\n",
       "    }\n",
       "\n",
       "    .dataframe tbody tr th {\n",
       "        vertical-align: top;\n",
       "    }\n",
       "\n",
       "    .dataframe thead th {\n",
       "        text-align: right;\n",
       "    }\n",
       "</style>\n",
       "<table border=\"1\" class=\"dataframe\">\n",
       "  <thead>\n",
       "    <tr style=\"text-align: right;\">\n",
       "      <th></th>\n",
       "      <th>col1</th>\n",
       "      <th>col2</th>\n",
       "      <th>col3</th>\n",
       "      <th>col4</th>\n",
       "      <th>col5</th>\n",
       "    </tr>\n",
       "  </thead>\n",
       "  <tbody>\n",
       "    <tr>\n",
       "      <th>0</th>\n",
       "      <td>1</td>\n",
       "      <td>5</td>\n",
       "      <td>0.0</td>\n",
       "      <td>0.0</td>\n",
       "      <td>5.0</td>\n",
       "    </tr>\n",
       "    <tr>\n",
       "      <th>1</th>\n",
       "      <td>2</td>\n",
       "      <td>6</td>\n",
       "      <td>0.0</td>\n",
       "      <td>0.0</td>\n",
       "      <td>12.0</td>\n",
       "    </tr>\n",
       "    <tr>\n",
       "      <th>2</th>\n",
       "      <td>3</td>\n",
       "      <td>7</td>\n",
       "      <td>0.0</td>\n",
       "      <td>0.0</td>\n",
       "      <td>21.0</td>\n",
       "    </tr>\n",
       "    <tr>\n",
       "      <th>3</th>\n",
       "      <td>4</td>\n",
       "      <td>8</td>\n",
       "      <td>0.0</td>\n",
       "      <td>0.0</td>\n",
       "      <td>32.0</td>\n",
       "    </tr>\n",
       "    <tr>\n",
       "      <th>6</th>\n",
       "      <td>11</td>\n",
       "      <td>22</td>\n",
       "      <td>33.0</td>\n",
       "      <td>44.0</td>\n",
       "      <td>286.0</td>\n",
       "    </tr>\n",
       "    <tr>\n",
       "      <th>4</th>\n",
       "      <td>10</td>\n",
       "      <td>30</td>\n",
       "      <td>0.0</td>\n",
       "      <td>60.0</td>\n",
       "      <td>360.0</td>\n",
       "    </tr>\n",
       "    <tr>\n",
       "      <th>5</th>\n",
       "      <td>20</td>\n",
       "      <td>40</td>\n",
       "      <td>0.0</td>\n",
       "      <td>70.0</td>\n",
       "      <td>870.0</td>\n",
       "    </tr>\n",
       "  </tbody>\n",
       "</table>\n",
       "</div>"
      ],
      "text/plain": [
       "   col1  col2  col3  col4   col5\n",
       "0     1     5   0.0   0.0    5.0\n",
       "1     2     6   0.0   0.0   12.0\n",
       "2     3     7   0.0   0.0   21.0\n",
       "3     4     8   0.0   0.0   32.0\n",
       "6    11    22  33.0  44.0  286.0\n",
       "4    10    30   0.0  60.0  360.0\n",
       "5    20    40   0.0  70.0  870.0"
      ]
     },
     "execution_count": 203,
     "metadata": {},
     "output_type": "execute_result"
    }
   ],
   "source": [
    "# it's easy to do math on columns\n",
    "df['col5'] = df['col4'] + df['col2'] * df['col1']\n",
    "df"
   ]
  },
  {
   "cell_type": "code",
   "execution_count": 204,
   "metadata": {},
   "outputs": [
    {
     "data": {
      "text/html": [
       "<div>\n",
       "<style scoped>\n",
       "    .dataframe tbody tr th:only-of-type {\n",
       "        vertical-align: middle;\n",
       "    }\n",
       "\n",
       "    .dataframe tbody tr th {\n",
       "        vertical-align: top;\n",
       "    }\n",
       "\n",
       "    .dataframe thead th {\n",
       "        text-align: right;\n",
       "    }\n",
       "</style>\n",
       "<table border=\"1\" class=\"dataframe\">\n",
       "  <thead>\n",
       "    <tr style=\"text-align: right;\">\n",
       "      <th></th>\n",
       "      <th>col1</th>\n",
       "      <th>col2</th>\n",
       "      <th>col3</th>\n",
       "      <th>col4</th>\n",
       "      <th>col5</th>\n",
       "    </tr>\n",
       "  </thead>\n",
       "  <tbody>\n",
       "    <tr>\n",
       "      <th>col1</th>\n",
       "      <td>46.571429</td>\n",
       "      <td>92.047619</td>\n",
       "      <td>20.428571</td>\n",
       "      <td>202.714286</td>\n",
       "      <td>2135.142857</td>\n",
       "    </tr>\n",
       "    <tr>\n",
       "      <th>col2</th>\n",
       "      <td>92.047619</td>\n",
       "      <td>194.809524</td>\n",
       "      <td>28.285714</td>\n",
       "      <td>439.142857</td>\n",
       "      <td>4276.095238</td>\n",
       "    </tr>\n",
       "    <tr>\n",
       "      <th>col3</th>\n",
       "      <td>20.428571</td>\n",
       "      <td>28.285714</td>\n",
       "      <td>155.571429</td>\n",
       "      <td>105.285714</td>\n",
       "      <td>326.857143</td>\n",
       "    </tr>\n",
       "    <tr>\n",
       "      <th>col4</th>\n",
       "      <td>202.714286</td>\n",
       "      <td>439.142857</td>\n",
       "      <td>105.285714</td>\n",
       "      <td>1018.476190</td>\n",
       "      <td>9276.761905</td>\n",
       "    </tr>\n",
       "    <tr>\n",
       "      <th>col5</th>\n",
       "      <td>2135.142857</td>\n",
       "      <td>4276.095238</td>\n",
       "      <td>326.857143</td>\n",
       "      <td>9276.761905</td>\n",
       "      <td>101764.619048</td>\n",
       "    </tr>\n",
       "  </tbody>\n",
       "</table>\n",
       "</div>"
      ],
      "text/plain": [
       "             col1         col2        col3         col4           col5\n",
       "col1    46.571429    92.047619   20.428571   202.714286    2135.142857\n",
       "col2    92.047619   194.809524   28.285714   439.142857    4276.095238\n",
       "col3    20.428571    28.285714  155.571429   105.285714     326.857143\n",
       "col4   202.714286   439.142857  105.285714  1018.476190    9276.761905\n",
       "col5  2135.142857  4276.095238  326.857143  9276.761905  101764.619048"
      ]
     },
     "execution_count": 204,
     "metadata": {},
     "output_type": "execute_result"
    }
   ],
   "source": [
    "# there's plenty of math functions available, such as covariance\n",
    "df.cov()"
   ]
  },
  {
   "cell_type": "code",
   "execution_count": 205,
   "metadata": {},
   "outputs": [],
   "source": [
    "# extra note: check out read_csv and to_csv to importing/exporting data frames"
   ]
  },
  {
   "cell_type": "markdown",
   "metadata": {},
   "source": [
    "## plotting with matplotlib and seaborn"
   ]
  },
  {
   "cell_type": "code",
   "execution_count": 206,
   "metadata": {},
   "outputs": [],
   "source": [
    "import matplotlib.pyplot as plt"
   ]
  },
  {
   "cell_type": "code",
   "execution_count": 230,
   "metadata": {},
   "outputs": [
    {
     "data": {
      "image/png": "[encoded data removed]",
      "text/plain": [
       "<Figure size 432x288 with 1 Axes>"
      ]
     },
     "metadata": {},
     "output_type": "display_data"
    }
   ],
   "source": [
    "# there's two main ways to use matplotlib\n",
    "# the first is a more \"command line\"-style interface using plt\n",
    "\n",
    "plt.plot([1,4,5,7,8],[3,1,6,4,7]) # x and y lists/arrays/series.  Example: columns of a dataframe\n",
    "plt.show() # jupyter notebooks show plots automatically at the end of a code cell"
   ]
  },
  {
   "cell_type": "code",
   "execution_count": 231,
   "metadata": {},
   "outputs": [
    {
     "data": {
      "image/png": "[encoded data removed]",
      "text/plain": [
       "<Figure size 432x288 with 1 Axes>"
      ]
     },
     "metadata": {},
     "output_type": "display_data"
    },
    {
     "data": {
      "image/png": "[encoded data removed]",
      "text/plain": [
       "<Figure size 432x288 with 1 Axes>"
      ]
     },
     "metadata": {},
     "output_type": "display_data"
    }
   ],
   "source": [
    "# single panel plots can be designed step-by-step with various function calls using plt\n",
    "\n",
    "plt.plot([1,4,5,7,8],[3,1,6,4,7],color='red',linestyle='dotted')  # shorthand exists... 'red'->'r' 'dotted'->':'\n",
    "plt.plot([1,3,4,6,8],[2,2,5,3,9],color='blue',linestyle='dashed')\n",
    "plt.xlim(0,10)\n",
    "plt.ylim(-5,15)\n",
    "plt.ylabel('y axis')\n",
    "plt.xlabel('x axis')\n",
    "plt.title('a title')\n",
    "plt.legend(['line 1','line 2'])\n",
    "plt.show()\n",
    "\n",
    "plt.clf()  # clear figure\n",
    "\n",
    "df = pd.DataFrame({'x':[1,2,3,4,5,6,7,8,9],'y1':[2,2,1,1,1,4,4,3,4],'y2':[2,1,5,4,3,2,6,5,4]})\n",
    "plt.plot(df['x'],df['y1'])\n",
    "plt.plot(df['x'],df['y2'])\n",
    "plt.legend(['y1','y2'])\n",
    "plt.ylabel('y')\n",
    "plt.xlabel('x')\n",
    "plt.title('some other unrelated figure')\n",
    "plt.show()"
   ]
  },
  {
   "cell_type": "code",
   "execution_count": 232,
   "metadata": {},
   "outputs": [
    {
     "data": {
      "text/plain": [
       "(0.0, 1.0)"
      ]
     },
     "execution_count": 232,
     "metadata": {},
     "output_type": "execute_result"
    },
    {
     "data": {
      "image/png": "[encoded data removed]",
      "text/plain": [
       "<Figure size 432x288 with 1 Axes>"
      ]
     },
     "metadata": {},
     "output_type": "display_data"
    }
   ],
   "source": [
    "# plotting a histogram\n",
    "plt.hist(df['y2'], bins=6, range=(1,7), density=True, align='left')\n",
    "# the additional arguments can help make the histogram look nice\n",
    "plt.ylim(0,1)"
   ]
  },
  {
   "cell_type": "code",
   "execution_count": 233,
   "metadata": {},
   "outputs": [
    {
     "data": {
      "image/png": "[encoded data removed]",
      "text/plain": [
       "<Figure size 432x288 with 1 Axes>"
      ]
     },
     "metadata": {},
     "output_type": "display_data"
    },
    {
     "data": {
      "text/plain": [
       "<matplotlib.collections.PathCollection at 0x21ebdd73d88>"
      ]
     },
     "execution_count": 233,
     "metadata": {},
     "output_type": "execute_result"
    },
    {
     "data": {
      "image/png": "[encoded data removed]",
      "text/plain": [
       "<Figure size 432x288 with 1 Axes>"
      ]
     },
     "metadata": {},
     "output_type": "display_data"
    }
   ],
   "source": [
    "# plotting a scatterplot\n",
    "plt.scatter(df['x'], df['y1']) # basic scatterplot\n",
    "plt.ylim(0,5)\n",
    "plt.ylabel('y')\n",
    "plt.xlabel('x')\n",
    "plt.show()\n",
    "\n",
    "\n",
    "plt.clf()\n",
    "plt.ylim(0,5)\n",
    "plt.ylabel('y')\n",
    "plt.xlabel('x')\n",
    "plt.scatter(df['x'], df['y1'], s=df['y2']*100, c=df['x']) # scatterplot with sizes and colors defined"
   ]
  },
  {
   "cell_type": "code",
   "execution_count": 234,
   "metadata": {},
   "outputs": [
    {
     "data": {
      "text/html": [
       "<div>\n",
       "<style scoped>\n",
       "    .dataframe tbody tr th:only-of-type {\n",
       "        vertical-align: middle;\n",
       "    }\n",
       "\n",
       "    .dataframe tbody tr th {\n",
       "        vertical-align: top;\n",
       "    }\n",
       "\n",
       "    .dataframe thead th {\n",
       "        text-align: right;\n",
       "    }\n",
       "</style>\n",
       "<table border=\"1\" class=\"dataframe\">\n",
       "  <thead>\n",
       "    <tr style=\"text-align: right;\">\n",
       "      <th></th>\n",
       "      <th>x</th>\n",
       "      <th>y1</th>\n",
       "      <th>y2</th>\n",
       "      <th>err</th>\n",
       "    </tr>\n",
       "  </thead>\n",
       "  <tbody>\n",
       "    <tr>\n",
       "      <th>0</th>\n",
       "      <td>1</td>\n",
       "      <td>2</td>\n",
       "      <td>2</td>\n",
       "      <td>0.1</td>\n",
       "    </tr>\n",
       "    <tr>\n",
       "      <th>1</th>\n",
       "      <td>2</td>\n",
       "      <td>2</td>\n",
       "      <td>1</td>\n",
       "      <td>0.2</td>\n",
       "    </tr>\n",
       "    <tr>\n",
       "      <th>2</th>\n",
       "      <td>3</td>\n",
       "      <td>1</td>\n",
       "      <td>5</td>\n",
       "      <td>0.1</td>\n",
       "    </tr>\n",
       "    <tr>\n",
       "      <th>3</th>\n",
       "      <td>4</td>\n",
       "      <td>1</td>\n",
       "      <td>4</td>\n",
       "      <td>0.3</td>\n",
       "    </tr>\n",
       "    <tr>\n",
       "      <th>4</th>\n",
       "      <td>5</td>\n",
       "      <td>1</td>\n",
       "      <td>3</td>\n",
       "      <td>0.2</td>\n",
       "    </tr>\n",
       "    <tr>\n",
       "      <th>5</th>\n",
       "      <td>6</td>\n",
       "      <td>4</td>\n",
       "      <td>2</td>\n",
       "      <td>0.1</td>\n",
       "    </tr>\n",
       "    <tr>\n",
       "      <th>6</th>\n",
       "      <td>7</td>\n",
       "      <td>4</td>\n",
       "      <td>6</td>\n",
       "      <td>0.3</td>\n",
       "    </tr>\n",
       "    <tr>\n",
       "      <th>7</th>\n",
       "      <td>8</td>\n",
       "      <td>3</td>\n",
       "      <td>5</td>\n",
       "      <td>0.3</td>\n",
       "    </tr>\n",
       "    <tr>\n",
       "      <th>8</th>\n",
       "      <td>9</td>\n",
       "      <td>4</td>\n",
       "      <td>4</td>\n",
       "      <td>0.1</td>\n",
       "    </tr>\n",
       "  </tbody>\n",
       "</table>\n",
       "</div>"
      ],
      "text/plain": [
       "   x  y1  y2  err\n",
       "0  1   2   2  0.1\n",
       "1  2   2   1  0.2\n",
       "2  3   1   5  0.1\n",
       "3  4   1   4  0.3\n",
       "4  5   1   3  0.2\n",
       "5  6   4   2  0.1\n",
       "6  7   4   6  0.3\n",
       "7  8   3   5  0.3\n",
       "8  9   4   4  0.1"
      ]
     },
     "execution_count": 234,
     "metadata": {},
     "output_type": "execute_result"
    }
   ],
   "source": [
    "# defining error (arbitrarily)\n",
    "df['err'] = [0.1,0.2,0.1,0.3,0.2,0.1,0.3,0.3,0.1]\n",
    "df"
   ]
  },
  {
   "cell_type": "code",
   "execution_count": 235,
   "metadata": {},
   "outputs": [
    {
     "data": {
      "text/plain": [
       "<ErrorbarContainer object of 3 artists>"
      ]
     },
     "execution_count": 235,
     "metadata": {},
     "output_type": "execute_result"
    },
    {
     "data": {
      "image/png": "[encoded data removed]",
      "text/plain": [
       "<Figure size 432x288 with 1 Axes>"
      ]
     },
     "metadata": {},
     "output_type": "display_data"
    }
   ],
   "source": [
    "# error bar plot\n",
    "plt.errorbar(df['x'],df['y1'],yerr=df['err'],xerr=None)"
   ]
  },
  {
   "cell_type": "code",
   "execution_count": 236,
   "metadata": {},
   "outputs": [
    {
     "data": {
      "text/plain": [
       "<matplotlib.collections.LineCollection at 0x21ebdd9d688>"
      ]
     },
     "execution_count": 236,
     "metadata": {},
     "output_type": "execute_result"
    },
    {
     "data": {
      "image/png": "[encoded data removed]",
      "text/plain": [
       "<Figure size 432x288 with 1 Axes>"
      ]
     },
     "metadata": {},
     "output_type": "display_data"
    }
   ],
   "source": [
    "# error bar plot\n",
    "plt.errorbar(df['x'],df['y1'],yerr=df['err'],xerr=None)\n",
    "\n",
    "# drawing arbitrary lines on the plot\n",
    "plt.hlines(4,2,3) # horizonal\n",
    "plt.vlines(7,1,2) # vertical"
   ]
  },
  {
   "cell_type": "code",
   "execution_count": 237,
   "metadata": {},
   "outputs": [
    {
     "data": {
      "image/png": "[encoded data removed]",
      "text/plain": [
       "<Figure size 432x288 with 1 Axes>"
      ]
     },
     "metadata": {},
     "output_type": "display_data"
    }
   ],
   "source": [
    "# pie chart\n",
    "plt.pie([4,3,2],labels=['a','b','c'])\n",
    "plt.show()"
   ]
  },
  {
   "cell_type": "code",
   "execution_count": 238,
   "metadata": {},
   "outputs": [
    {
     "data": {
      "image/png": "[encoded data removed]",
      "text/plain": [
       "<Figure size 432x288 with 1 Axes>"
      ]
     },
     "metadata": {},
     "output_type": "display_data"
    },
    {
     "data": {
      "image/png": "[encoded data removed]",
      "text/plain": [
       "<Figure size 432x288 with 1 Axes>"
      ]
     },
     "metadata": {},
     "output_type": "display_data"
    }
   ],
   "source": [
    "# basic heatmap\n",
    "array = np.array([[0,2,3,5,4],[1,2,5,5,5],[1,2,2,3,3],[2,1,2,2,2]])\n",
    "plt.pcolormesh(array)\n",
    "plt.ylabel('row (notice reversed order)')\n",
    "plt.xlabel('column')\n",
    "plt.show()\n",
    "plt.clf()\n",
    "\n",
    "plt.contour(array)\n",
    "plt.ylabel('row (notice reversed order)')\n",
    "plt.xlabel('column')\n",
    "plt.show()"
   ]
  },
  {
   "cell_type": "code",
   "execution_count": 215,
   "metadata": {},
   "outputs": [
    {
     "data": {
      "image/png": "[encoded data removed]",
      "text/plain": [
       "<Figure size 576x864 with 6 Axes>"
      ]
     },
     "metadata": {},
     "output_type": "display_data"
    }
   ],
   "source": [
    "# second way to use matplotlib: create a figure with subplots, which returns a list of \"axes\" objects\n",
    "# manipulate these objects in a similar way as above\n",
    "\n",
    "fig, ((ax1,ax2),(ax3,ax4),(ax5,ax6)) = plt.subplots(nrows = 3, ncols = 2, figsize=(8,12)) # width, height"
   ]
  },
  {
   "cell_type": "code",
   "execution_count": 216,
   "metadata": {},
   "outputs": [
    {
     "data": {
      "image/png": "[encoded data removed]",
      "text/plain": [
       "<Figure size 576x864 with 6 Axes>"
      ]
     },
     "execution_count": 216,
     "metadata": {},
     "output_type": "execute_result"
    }
   ],
   "source": [
    "ax1.errorbar(df['x'],df['y1'],yerr=df['err'])\n",
    "ax2.errorbar(df['x'],df['y2'],yerr=df['err'])\n",
    "fig"
   ]
  },
  {
   "cell_type": "code",
   "execution_count": 217,
   "metadata": {},
   "outputs": [
    {
     "data": {
      "image/png": "[encoded data removed]",
      "text/plain": [
       "<Figure size 576x864 with 6 Axes>"
      ]
     },
     "execution_count": 217,
     "metadata": {},
     "output_type": "execute_result"
    }
   ],
   "source": [
    "ax1.set_ylim(0,10)\n",
    "ax1.set_ylabel('y1')\n",
    "ax1.set_xlabel('x')\n",
    "ax1.set_title('title')\n",
    "ax1.legend(['y1'])\n",
    "fig"
   ]
  },
  {
   "cell_type": "code",
   "execution_count": 218,
   "metadata": {},
   "outputs": [],
   "source": [
    "# saving a figure\n",
    "# fig.savefig('myimage.png')"
   ]
  },
  {
   "cell_type": "markdown",
   "metadata": {},
   "source": [
    "## seaborn : nice graphs with some automatic data processing\n",
    "\n",
    "Used some in the quantitative review notebook"
   ]
  },
  {
   "cell_type": "code",
   "execution_count": 219,
   "metadata": {},
   "outputs": [],
   "source": [
    "# seaborn : nice graphs with some automatic data processing\n",
    "\n",
    "import seaborn as sns"
   ]
  },
  {
   "cell_type": "code",
   "execution_count": 220,
   "metadata": {},
   "outputs": [],
   "source": [
    "# there's different styles for figures, this is one of the built-in styles\n",
    "sns.set_style(\"white\")"
   ]
  },
  {
   "cell_type": "code",
   "execution_count": 221,
   "metadata": {},
   "outputs": [
    {
     "data": {
      "text/html": [
       "<div>\n",
       "<style scoped>\n",
       "    .dataframe tbody tr th:only-of-type {\n",
       "        vertical-align: middle;\n",
       "    }\n",
       "\n",
       "    .dataframe tbody tr th {\n",
       "        vertical-align: top;\n",
       "    }\n",
       "\n",
       "    .dataframe thead th {\n",
       "        text-align: right;\n",
       "    }\n",
       "</style>\n",
       "<table border=\"1\" class=\"dataframe\">\n",
       "  <thead>\n",
       "    <tr style=\"text-align: right;\">\n",
       "      <th></th>\n",
       "      <th>x</th>\n",
       "      <th>y</th>\n",
       "    </tr>\n",
       "  </thead>\n",
       "  <tbody>\n",
       "    <tr>\n",
       "      <th>0</th>\n",
       "      <td>1.955133</td>\n",
       "      <td>1.846319</td>\n",
       "    </tr>\n",
       "    <tr>\n",
       "      <th>1</th>\n",
       "      <td>-1.154043</td>\n",
       "      <td>-2.357907</td>\n",
       "    </tr>\n",
       "    <tr>\n",
       "      <th>2</th>\n",
       "      <td>1.122968</td>\n",
       "      <td>2.356143</td>\n",
       "    </tr>\n",
       "    <tr>\n",
       "      <th>3</th>\n",
       "      <td>-1.010408</td>\n",
       "      <td>-0.312253</td>\n",
       "    </tr>\n",
       "    <tr>\n",
       "      <th>4</th>\n",
       "      <td>0.555651</td>\n",
       "      <td>1.221827</td>\n",
       "    </tr>\n",
       "    <tr>\n",
       "      <th>5</th>\n",
       "      <td>0.832149</td>\n",
       "      <td>0.282688</td>\n",
       "    </tr>\n",
       "    <tr>\n",
       "      <th>6</th>\n",
       "      <td>-1.199451</td>\n",
       "      <td>-2.744792</td>\n",
       "    </tr>\n",
       "    <tr>\n",
       "      <th>7</th>\n",
       "      <td>-0.004656</td>\n",
       "      <td>-0.338911</td>\n",
       "    </tr>\n",
       "    <tr>\n",
       "      <th>8</th>\n",
       "      <td>-0.754375</td>\n",
       "      <td>-1.260621</td>\n",
       "    </tr>\n",
       "    <tr>\n",
       "      <th>9</th>\n",
       "      <td>-1.200804</td>\n",
       "      <td>-1.276460</td>\n",
       "    </tr>\n",
       "    <tr>\n",
       "      <th>10</th>\n",
       "      <td>0.469328</td>\n",
       "      <td>-1.624481</td>\n",
       "    </tr>\n",
       "    <tr>\n",
       "      <th>11</th>\n",
       "      <td>0.109285</td>\n",
       "      <td>-0.714462</td>\n",
       "    </tr>\n",
       "    <tr>\n",
       "      <th>12</th>\n",
       "      <td>-0.648550</td>\n",
       "      <td>-1.119831</td>\n",
       "    </tr>\n",
       "    <tr>\n",
       "      <th>13</th>\n",
       "      <td>-0.119118</td>\n",
       "      <td>-0.395172</td>\n",
       "    </tr>\n",
       "    <tr>\n",
       "      <th>14</th>\n",
       "      <td>1.067673</td>\n",
       "      <td>1.552703</td>\n",
       "    </tr>\n",
       "    <tr>\n",
       "      <th>15</th>\n",
       "      <td>0.806287</td>\n",
       "      <td>1.921603</td>\n",
       "    </tr>\n",
       "    <tr>\n",
       "      <th>16</th>\n",
       "      <td>0.506312</td>\n",
       "      <td>0.560629</td>\n",
       "    </tr>\n",
       "    <tr>\n",
       "      <th>17</th>\n",
       "      <td>0.634656</td>\n",
       "      <td>0.965043</td>\n",
       "    </tr>\n",
       "    <tr>\n",
       "      <th>18</th>\n",
       "      <td>0.159111</td>\n",
       "      <td>0.271883</td>\n",
       "    </tr>\n",
       "    <tr>\n",
       "      <th>19</th>\n",
       "      <td>0.305005</td>\n",
       "      <td>0.149343</td>\n",
       "    </tr>\n",
       "    <tr>\n",
       "      <th>20</th>\n",
       "      <td>1.844569</td>\n",
       "      <td>2.145215</td>\n",
       "    </tr>\n",
       "    <tr>\n",
       "      <th>21</th>\n",
       "      <td>0.057611</td>\n",
       "      <td>-1.362671</td>\n",
       "    </tr>\n",
       "    <tr>\n",
       "      <th>22</th>\n",
       "      <td>0.425049</td>\n",
       "      <td>0.832080</td>\n",
       "    </tr>\n",
       "    <tr>\n",
       "      <th>23</th>\n",
       "      <td>-0.235677</td>\n",
       "      <td>-0.554557</td>\n",
       "    </tr>\n",
       "    <tr>\n",
       "      <th>24</th>\n",
       "      <td>2.367317</td>\n",
       "      <td>1.725933</td>\n",
       "    </tr>\n",
       "  </tbody>\n",
       "</table>\n",
       "</div>"
      ],
      "text/plain": [
       "           x         y\n",
       "0   1.955133  1.846319\n",
       "1  -1.154043 -2.357907\n",
       "2   1.122968  2.356143\n",
       "3  -1.010408 -0.312253\n",
       "4   0.555651  1.221827\n",
       "5   0.832149  0.282688\n",
       "6  -1.199451 -2.744792\n",
       "7  -0.004656 -0.338911\n",
       "8  -0.754375 -1.260621\n",
       "9  -1.200804 -1.276460\n",
       "10  0.469328 -1.624481\n",
       "11  0.109285 -0.714462\n",
       "12 -0.648550 -1.119831\n",
       "13 -0.119118 -0.395172\n",
       "14  1.067673  1.552703\n",
       "15  0.806287  1.921603\n",
       "16  0.506312  0.560629\n",
       "17  0.634656  0.965043\n",
       "18  0.159111  0.271883\n",
       "19  0.305005  0.149343\n",
       "20  1.844569  2.145215\n",
       "21  0.057611 -1.362671\n",
       "22  0.425049  0.832080\n",
       "23 -0.235677 -0.554557\n",
       "24  2.367317  1.725933"
      ]
     },
     "execution_count": 221,
     "metadata": {},
     "output_type": "execute_result"
    }
   ],
   "source": [
    "# generate some data for linear regression\n",
    "xs = np.random.standard_normal(25)\n",
    "ys = np.random.standard_normal(25) + xs\n",
    "df = pd.DataFrame({'x':xs,'y':ys})\n",
    "df"
   ]
  },
  {
   "cell_type": "code",
   "execution_count": 222,
   "metadata": {},
   "outputs": [
    {
     "data": {
      "text/plain": [
       "<AxesSubplot:xlabel='x', ylabel='y'>"
      ]
     },
     "execution_count": 222,
     "metadata": {},
     "output_type": "execute_result"
    },
    {
     "data": {
      "image/png": "[encoded data removed]",
      "text/plain": [
       "<Figure size 432x288 with 1 Axes>"
      ]
     },
     "metadata": {},
     "output_type": "display_data"
    }
   ],
   "source": [
    "# linear regression plot\n",
    "sns.regplot(x = 'x', y = 'y', data=df)\n",
    "# shows a scatterplot, the regression line, and also confidence intervals"
   ]
  },
  {
   "cell_type": "code",
   "execution_count": 223,
   "metadata": {},
   "outputs": [
    {
     "data": {
      "text/plain": [
       "<seaborn.axisgrid.JointGrid at 0x21ebc3f86c8>"
      ]
     },
     "execution_count": 223,
     "metadata": {},
     "output_type": "execute_result"
    },
    {
     "data": {
      "image/png": "[encoded data removed]",
      "text/plain": [
       "<Figure size 432x432 with 3 Axes>"
      ]
     },
     "metadata": {},
     "output_type": "display_data"
    }
   ],
   "source": [
    "# joint plot adds cool-looking histograms\n",
    "sns.jointplot(x = 'x', y = 'y', data=df, kind=\"reg\")"
   ]
  },
  {
   "cell_type": "code",
   "execution_count": 224,
   "metadata": {},
   "outputs": [
    {
     "data": {
      "text/html": [
       "<div>\n",
       "<style scoped>\n",
       "    .dataframe tbody tr th:only-of-type {\n",
       "        vertical-align: middle;\n",
       "    }\n",
       "\n",
       "    .dataframe tbody tr th {\n",
       "        vertical-align: top;\n",
       "    }\n",
       "\n",
       "    .dataframe thead th {\n",
       "        text-align: right;\n",
       "    }\n",
       "</style>\n",
       "<table border=\"1\" class=\"dataframe\">\n",
       "  <thead>\n",
       "    <tr style=\"text-align: right;\">\n",
       "      <th></th>\n",
       "      <th>inputs</th>\n",
       "      <th>observations</th>\n",
       "    </tr>\n",
       "  </thead>\n",
       "  <tbody>\n",
       "    <tr>\n",
       "      <th>0</th>\n",
       "      <td>0.0</td>\n",
       "      <td>0.025955</td>\n",
       "    </tr>\n",
       "    <tr>\n",
       "      <th>1</th>\n",
       "      <td>0.0</td>\n",
       "      <td>0.553144</td>\n",
       "    </tr>\n",
       "    <tr>\n",
       "      <th>2</th>\n",
       "      <td>0.0</td>\n",
       "      <td>0.953181</td>\n",
       "    </tr>\n",
       "    <tr>\n",
       "      <th>3</th>\n",
       "      <td>0.0</td>\n",
       "      <td>0.648425</td>\n",
       "    </tr>\n",
       "    <tr>\n",
       "      <th>4</th>\n",
       "      <td>0.0</td>\n",
       "      <td>0.262520</td>\n",
       "    </tr>\n",
       "    <tr>\n",
       "      <th>...</th>\n",
       "      <td>...</td>\n",
       "      <td>...</td>\n",
       "    </tr>\n",
       "    <tr>\n",
       "      <th>195</th>\n",
       "      <td>3.0</td>\n",
       "      <td>0.429147</td>\n",
       "    </tr>\n",
       "    <tr>\n",
       "      <th>196</th>\n",
       "      <td>3.0</td>\n",
       "      <td>0.193060</td>\n",
       "    </tr>\n",
       "    <tr>\n",
       "      <th>197</th>\n",
       "      <td>3.0</td>\n",
       "      <td>0.517397</td>\n",
       "    </tr>\n",
       "    <tr>\n",
       "      <th>198</th>\n",
       "      <td>3.0</td>\n",
       "      <td>0.646066</td>\n",
       "    </tr>\n",
       "    <tr>\n",
       "      <th>199</th>\n",
       "      <td>3.0</td>\n",
       "      <td>0.257917</td>\n",
       "    </tr>\n",
       "  </tbody>\n",
       "</table>\n",
       "<p>200 rows × 2 columns</p>\n",
       "</div>"
      ],
      "text/plain": [
       "     inputs  observations\n",
       "0       0.0      0.025955\n",
       "1       0.0      0.553144\n",
       "2       0.0      0.953181\n",
       "3       0.0      0.648425\n",
       "4       0.0      0.262520\n",
       "..      ...           ...\n",
       "195     3.0      0.429147\n",
       "196     3.0      0.193060\n",
       "197     3.0      0.517397\n",
       "198     3.0      0.646066\n",
       "199     3.0      0.257917\n",
       "\n",
       "[200 rows x 2 columns]"
      ]
     },
     "execution_count": 224,
     "metadata": {},
     "output_type": "execute_result"
    }
   ],
   "source": [
    "# generate data for line plot\n",
    "xs = np.repeat(np.arange(10)/3,20)\n",
    "ys = np.sin(xs) + np.random.rand(len(xs))\n",
    "df = pd.DataFrame({'inputs':xs,'observations':ys})\n",
    "df"
   ]
  },
  {
   "cell_type": "code",
   "execution_count": 225,
   "metadata": {},
   "outputs": [
    {
     "data": {
      "text/plain": [
       "(0.0, 2.0)"
      ]
     },
     "execution_count": 225,
     "metadata": {},
     "output_type": "execute_result"
    },
    {
     "data": {
      "image/png": "[encoded data removed]",
      "text/plain": [
       "<Figure size 432x288 with 1 Axes>"
      ]
     },
     "metadata": {},
     "output_type": "display_data"
    }
   ],
   "source": [
    "# first, plotting a regular scatterplot to show the amount of noise in data\n",
    "plt.scatter(df['inputs'],df['observations'])\n",
    "plt.ylim(0,2)"
   ]
  },
  {
   "cell_type": "code",
   "execution_count": 226,
   "metadata": {},
   "outputs": [
    {
     "data": {
      "text/plain": [
       "(0.0, 2.0)"
      ]
     },
     "execution_count": 226,
     "metadata": {},
     "output_type": "execute_result"
    },
    {
     "data": {
      "image/png": "[encoded data removed]",
      "text/plain": [
       "<Figure size 432x288 with 1 Axes>"
      ]
     },
     "metadata": {},
     "output_type": "display_data"
    }
   ],
   "source": [
    "# for line plots, data sets typically have many measurements (y values) for each x value\n",
    "# seaborn is able to automatically compute error bars\n",
    "\n",
    "# also notice the multiple ways of passing data to seaborn\n",
    "ax = sns.lineplot(x='inputs',y='observations',data=df,ci=99)\n",
    "\n",
    "ax.set_title('this is a matplotlib axis and can be edited as such', fontsize=16)\n",
    "ax.set_ylim(0,2)"
   ]
  },
  {
   "cell_type": "markdown",
   "metadata": {},
   "source": [
    "## Scientific functionality with scipy\n",
    "\n",
    "Scipy is a core module for doing science in Python. There are extensive tutorials online along with a clear API. We will cover a few important use cases for neuroscience research."
   ]
  },
  {
   "cell_type": "markdown",
   "metadata": {},
   "source": [
    "Remember, if there is anything else you need to do in Python, first google \"<that thing> in Python\". Don't reinvent the wheel, build a car! "
   ]
  },
  {
   "cell_type": "markdown",
   "metadata": {},
   "source": [
    "## Machine learning with scikit-learn\n",
    "\n",
    "Scikit-learn is the de facto machine learning toolbox for Python (not including deep learning). It also has a fantastic API for exploring what is possible:\n",
    "- https://scikit-learn.org/stable/modules/classes.html\n",
    "\n",
    "Some things you can do:\n",
    "- Linear and nonlinear dimensionality reduction, regression, and classification\n",
    "- Clustering\n",
    "- Fancy types of cross-validation\n",
    "- feature selection \n",
    "- compute lots of different metrics of model performance\n",
    "- implementing new machine learning algorithms using a common object-oriented interface \n",
    "- develop sophisticated and clean pipelines for a reproducible machine learning / data analysis workflow \n",
    "\n",
    "We will cover scikit-learn in a future exercise. Feel free to check it out on your own time, too. "
   ]
  },
  {
   "cell_type": "markdown",
   "metadata": {},
   "source": [
    "## Deep learning with pytorch\n",
    "\n",
    "Most deep learning research in 2020 is done in Python using either PyTorch or Tensorflow. Most researchers (definitely at CMU) prefer PyTorch due to its more intuitive native interface (but see Keras for Tensorflow), more flexible dynamic graphs, and resultingly easier debugging experience. Industry tends to prefer Tensorflow since the static graphs run faster under certain circumstances. Both are highly capable. \n",
    "\n",
    "Pytorch is capable of:\n",
    "- accelerating parallel computation by using a graphics processing card, with a very similar interface to numpy \n",
    "- training deep convolutional neural networks for computer vision tasks\n",
    "- training recurrent neural networks for natural language processing and other dynamic tasks\n",
    "- implementing state-of-the-art machine learning code, since so many researchers release their code publicly in PyTorch, and new important contributions are quickly incorporated into the pytorch API\n",
    "\n",
    "We will cover pytorch in a future exercise. Feel free to check it out on your own time, too. "
   ]
  },
  {
   "cell_type": "markdown",
   "metadata": {},
   "source": [
    "# A good code organization for projects\n",
    "\n",
    "Projects can easily get disorganized if you do not begin with a well-thought-out organization scheme. Taking the time up front to be organized will save you time later when you inevitably have to refactor your project to make it more readable for others, either those who might start working on the project with you, or others interacting with your code in order to e.g. reproduce the results of your paper.\n",
    "\n",
    "We like the organization provided here: https://gist.github.com/ericmjl/27e50331f24db3e8f957d1fe7bbbe510 , and provide a short summary below\n",
    "\n",
    "Python code is meant to be organized hierarchically in modules. This will get you pretty far in code organization. Here is a totally made up example of some code that you might organize during this bootcamp. Don't read too much into it, as most of the assignments you will be working on will be simple enough to complete in 1-2 files, and so they won't need a fancy organization. We are trying to help you think ahead to your research. \n",
    "\n",
    "If we are in the project directory, the file-tree might look something like this:\n",
    "\n",
    "```\n",
    "README.md\n",
    "upnc/\n",
    "upnc/__init__.py\n",
    "upnc/ephys/\n",
    "upnc/ephys/__init__.py\n",
    "upnc/ephys/loading.py\n",
    "upnc/ephys/temporal_processing.py\n",
    "upnc/behavior/parse_eyelink.py\n",
    "upnc/behavior/parse_behavior.py\n",
    "upnc/behavior/__init__.py\n",
    "data/\n",
    "data/raw/\n",
    "data/processed/\n",
    "data/processed/smith_exp_spikes.mat\n",
    "scripts/analyze_smith_data.py\n",
    "scripts/plot_smith_data.py\n",
    "notebooks/plot_smith_data.ipynb\n",
    "```\n",
    "The main themes are: a `README.md` file which explains the code base (markdown renders nicely automatically on GitHub, try this out), a module `upnc` containing sub-modules `ephys` and `behavior`, and a `scripts` directory containing analysis scripts that call functions organized neatly in the modules. Separating scripts and functions generally makes for a more organized code experience. Finally, you might also want to separate `notebooks` and `scripts`, where `notebooks` are more exploratory and focused on plotting, and scripts are more for crunching numbers and saving outputs to disk. \n",
    "\n",
    "Keep in mind, if you want to import your code as, e.g., `import upnc`, or `from upnc.ephys import temporal_processing`, you will need to make sure the code is on the path in whatever folder you are in.\n",
    "\n",
    "If scripts are run from the project directory (which is common), you can do:\n",
    "```Python\n",
    "import sys\n",
    "sys.path.append('.')\n",
    "import upnc\n",
    "```\n",
    "For scripts run from the scripts directory, along with notebooks (which default to run from their own directory), do:\n",
    "```Python\n",
    "import sys\n",
    "sys.path.append('..')\n",
    "import upnc\n",
    "```"
   ]
  },
  {
   "cell_type": "code",
   "execution_count": null,
   "metadata": {},
   "outputs": [],
   "source": []
  }
 ],
 "metadata": {
  "kernelspec": {
   "display_name": "Python 3",
   "language": "python",
   "name": "python3"
  },
  "language_info": {
   "codemirror_mode": {
    "name": "ipython",
    "version": 3
   },
   "file_extension": ".py",
   "mimetype": "text/x-python",
   "name": "python",
   "nbconvert_exporter": "python",
   "pygments_lexer": "ipython3",
   "version": "3.7.7"
  },
  "toc-autonumbering": true,
  "toc-showmarkdowntxt": false,
  "toc-showtags": false
 },
 "nbformat": 4,
 "nbformat_minor": 4
}
